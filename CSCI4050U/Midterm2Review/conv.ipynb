{
 "cells": [
  {
   "cell_type": "code",
   "execution_count": 1,
   "metadata": {},
   "outputs": [],
   "source": [
    "import torch\n",
    "import torch.nn as nn\n",
    "import torch.nn.functional as F"
   ]
  },
  {
   "cell_type": "code",
   "execution_count": 2,
   "metadata": {},
   "outputs": [
    {
     "name": "stdout",
     "output_type": "stream",
     "text": [
      "matb tensor([[1., 2., 1., 1.],\n",
      "        [3., 4., 1., 1.],\n",
      "        [1., 1., 1., 1.],\n",
      "        [1., 1., 1., 1.]])\n",
      "patch is:\n",
      " tensor([[1., 2.],\n",
      "        [3., 4.]])\n",
      "\n",
      "result of multiplying by mask:\n",
      " tensor([[ 1.,  4.],\n",
      "        [ 9., 16.]])\n",
      "\n",
      "sum of these values:\n",
      " 30.0 \n",
      "\n",
      "patch is:\n",
      " tensor([[1., 1.],\n",
      "        [1., 1.]])\n",
      "\n",
      "result of multiplying by mask:\n",
      " tensor([[1., 2.],\n",
      "        [3., 4.]])\n",
      "\n",
      "sum of these values:\n",
      " 10.0 \n",
      "\n",
      "patch is:\n",
      " tensor([[1., 1.],\n",
      "        [1., 1.]])\n",
      "\n",
      "result of multiplying by mask:\n",
      " tensor([[1., 2.],\n",
      "        [3., 4.]])\n",
      "\n",
      "sum of these values:\n",
      " 10.0 \n",
      "\n",
      "patch is:\n",
      " tensor([[1., 1.],\n",
      "        [1., 1.]])\n",
      "\n",
      "result of multiplying by mask:\n",
      " tensor([[1., 2.],\n",
      "        [3., 4.]])\n",
      "\n",
      "sum of these values:\n",
      " 10.0 \n",
      "\n"
     ]
    },
    {
     "data": {
      "text/plain": [
       "tensor([[30., 10.],\n",
       "        [10., 10.]])"
      ]
     },
     "execution_count": 2,
     "metadata": {},
     "output_type": "execute_result"
    }
   ],
   "source": [
    "mata = torch.tensor([[1,2],[3,4]])\n",
    "matb = torch.ones(4,4)\n",
    "matb[0:2,0:2] = mata\n",
    "print(\"matb\",matb)\n",
    "def convolvemanual(mata,matb,stride):\n",
    "    hor = mata.shape[1]\n",
    "    ver = mata.shape[0]\n",
    "    hor_end = matb.shape[0]\n",
    "    ver_end = matb.shape[1]\n",
    "\n",
    "    output = torch.zeros(ver_end-(ver-1)-(stride-1),hor_end-(hor-1)-(stride-1))\n",
    "    for i in range(0,ver_end-(ver-1),stride):\n",
    "        for j in range(0,hor_end-(hor-1),stride):\n",
    "            patch = matb[i:i+ver,j:j+hor]\n",
    "            out_elem = (patch * mata)\n",
    "            output[int(i/stride),int(j/stride)] = out_elem.sum()\n",
    "            print(\"patch is:\\n\",patch)\n",
    "            print(\"\\nresult of multiplying by mask:\\n\",out_elem)\n",
    "            print(\"\\nsum of these values:\\n\",out_elem.sum().item(),\"\\n\")            \n",
    "    return output\n",
    "\n",
    "convolvemanual(mata,matb,2)"
   ]
  },
  {
   "cell_type": "code",
   "execution_count": 3,
   "metadata": {},
   "outputs": [
    {
     "name": "stdout",
     "output_type": "stream",
     "text": [
      "tensor([[14., 18., 22.],\n",
      "        [30., 34., 38.],\n",
      "        [46., 50., 54.]])\n",
      "torch.Size([3, 3])\n"
     ]
    }
   ],
   "source": [
    "# Define the kernel K and input tensor x as torch Tensors\n",
    "K = torch.tensor([[1, 1], \n",
    "                  [1, 1]], dtype=torch.float32)\n",
    "x = torch.tensor([[[[1., 2., 3., 4.],\n",
    "                    [5., 6., 7., 8.],\n",
    "                    [9., 10., 11., 12.],\n",
    "                    [13., 14., 15., 16.]]]], dtype=torch.float32)\n",
    "\n",
    "# Perform convolution using torch.nn.functional.conv2d\n",
    "\n",
    "output = torch.nn.functional.conv2d(x, K.view(1, 1, 2, 2))\n",
    "# Print the output tensor\n",
    "print(output.squeeze())\n",
    "print(output.squeeze().shape)\n"
   ]
  },
  {
   "cell_type": "code",
   "execution_count": 63,
   "metadata": {},
   "outputs": [
    {
     "name": "stdout",
     "output_type": "stream",
     "text": [
      "tensor([[100.,  36.],\n",
      "        [ 36.,  36.]])\n",
      "torch.Size([2, 2])\n"
     ]
    }
   ],
   "source": [
    "K = torch.tensor([[[1, 2], \n",
    "                   [3, 4]],\n",
    "                  \n",
    "                  [[5, 6], \n",
    "                   [7, 8]]], dtype=torch.float32)\n",
    "\n",
    "x = torch.tensor([[[[1., 2., 1., 1.],\n",
    "                    [3., 4., 1., 1.],\n",
    "                    [1., 1., 1., 1.],\n",
    "                    [1., 1., 1., 1.]],\n",
    "\n",
    "                   [[1., 2., 1., 1.],\n",
    "                    [3., 4., 1., 1.],\n",
    "                    [1., 1., 1., 1.],\n",
    "                    [1., 1., 1., 1.]],\n",
    "\n",
    "                   [[1., 2., 1., 1.],\n",
    "                    [3., 4., 1., 1.],\n",
    "                    [1., 1., 1., 1.],\n",
    "                    [1., 1., 1., 1.]]]], dtype=torch.float32)\n",
    "\n",
    "# Perform 3D convolution using torch.nn.functional.conv3d\n",
    "output = torch.nn.functional.conv3d(x, K.view(1, 1, 2, 2, 2), stride=2)\n",
    "\n",
    "# Print the output tensor\n",
    "print(output.squeeze())\n",
    "print(output.squeeze().shape)\n"
   ]
  }
 ],
 "metadata": {
  "kernelspec": {
   "display_name": "Python 3",
   "language": "python",
   "name": "python3"
  },
  "language_info": {
   "codemirror_mode": {
    "name": "ipython",
    "version": 3
   },
   "file_extension": ".py",
   "mimetype": "text/x-python",
   "name": "python",
   "nbconvert_exporter": "python",
   "pygments_lexer": "ipython3",
   "version": "3.10.8"
  },
  "orig_nbformat": 4
 },
 "nbformat": 4,
 "nbformat_minor": 2
}
