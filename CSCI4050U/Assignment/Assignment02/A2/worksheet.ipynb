{
 "cells": [
  {
   "cell_type": "markdown",
   "id": "9906d080-bc4f-45d9-9bbf-477005d97c6c",
   "metadata": {
    "editable": false
   },
   "source": [
    "# Assignment 2: Fashion Dataset and Architecture Comparisons\n",
    "\n",
    "In this assignment, you are to perform the following:\n",
    "\n",
    "1. Study the `FashionMNIST` dataset, and understand the images and their respective labels.\n",
    "1. Implement a `Trainer` class in the file `trainer_lib.py` for reusable and reproducible training loops.\n",
    "1. Implement the following architectures:\n",
    "  - Linear model\n",
    "  - MLP with one hidden layer\n",
    "  - Simple convolution with pooling\n",
    "  - Deep convolution with pooling, followed by MLP with one hidden layer."
   ]
  },
  {
   "cell_type": "code",
   "execution_count": 3,
   "id": "8bac7fe8-83e0-4c8f-828e-8045b5ff4e09",
   "metadata": {
    "editable": false
   },
   "outputs": [
    {
     "ename": "ModuleNotFoundError",
     "evalue": "No module named 'torchsummaryX'",
     "output_type": "error",
     "traceback": [
      "\u001b[0;31m---------------------------------------------------------------------------\u001b[0m",
      "\u001b[0;31mModuleNotFoundError\u001b[0m                       Traceback (most recent call last)",
      "Cell \u001b[0;32mIn[3], line 7\u001b[0m\n\u001b[1;32m      5\u001b[0m \u001b[39mfrom\u001b[39;00m \u001b[39mtorch\u001b[39;00m\u001b[39m.\u001b[39;00m\u001b[39mutils\u001b[39;00m\u001b[39m.\u001b[39;00m\u001b[39mdata\u001b[39;00m \u001b[39mimport\u001b[39;00m DataLoader, random_split\n\u001b[1;32m      6\u001b[0m \u001b[39mimport\u001b[39;00m \u001b[39mtorchvision\u001b[39;00m\n\u001b[0;32m----> 7\u001b[0m \u001b[39mfrom\u001b[39;00m \u001b[39mtorchsummaryX\u001b[39;00m \u001b[39mimport\u001b[39;00m summary\n\u001b[1;32m      8\u001b[0m \u001b[39mimport\u001b[39;00m \u001b[39mnumpy\u001b[39;00m \u001b[39mas\u001b[39;00m \u001b[39mnp\u001b[39;00m\n\u001b[1;32m      9\u001b[0m \u001b[39mimport\u001b[39;00m \u001b[39mpandas\u001b[39;00m \u001b[39mas\u001b[39;00m \u001b[39mpd\u001b[39;00m\n",
      "\u001b[0;31mModuleNotFoundError\u001b[0m: No module named 'torchsummaryX'"
     ]
    }
   ],
   "source": [
    "\"🔒\"\n",
    "import torch\n",
    "from torch import nn\n",
    "from torch import optim\n",
    "from torch.utils.data import DataLoader, random_split\n",
    "import torchvision\n",
    "from torchsummaryX import summary\n",
    "import numpy as np\n",
    "import pandas as pd\n",
    "import os\n",
    "import matplotlib.pyplot as plt\n",
    "from importlib import reload\n",
    "\n",
    "import warnings\n",
    "warnings.filterwarnings('ignore')"
   ]
  },
  {
   "cell_type": "markdown",
   "id": "b0b5b137-cfe2-4fb3-9cb3-912764e46ac1",
   "metadata": {
    "editable": false
   },
   "source": [
    "## Loading the data\n",
    "\n",
    "In this section, you will simply run the following data loading cells to familiarize yourself with the layout and semantics of the training dataset."
   ]
  },
  {
   "cell_type": "code",
   "execution_count": null,
   "id": "305b0da8-c8e2-4174-9a24-075368f0adf9",
   "metadata": {
    "editable": false
   },
   "outputs": [],
   "source": [
    "\"🔒\"\n",
    "#\n",
    "# Loading data\n",
    "#\n",
    "home = os.environ.get('HOME')\n",
    "root = os.path.join(home, 'public/data')\n",
    "dataset = torchvision.datasets.FashionMNIST(\n",
    "    root,\n",
    "    train=True,\n",
    "    transform=torchvision.transforms.ToTensor())\n",
    "\n",
    "dataset"
   ]
  },
  {
   "cell_type": "code",
   "execution_count": null,
   "id": "a7187ba6-ccd4-4340-9da2-612c5eb9fc13",
   "metadata": {
    "editable": false
   },
   "outputs": [],
   "source": [
    "\"🔒\"\n",
    "#\n",
    "# Print out important stats about the dataset\n",
    "#\n",
    "image_tensor, label = dataset[0]\n",
    "print(\"The first image is of shape:\", image_tensor.shape)\n",
    "print(\"The first label is:\", label)\n",
    "\n",
    "plt.imshow(np.transpose(image_tensor, (1, 2, 0)));"
   ]
  },
  {
   "cell_type": "markdown",
   "id": "06c02d91-9280-45a4-a8f7-a02c518b6a31",
   "metadata": {
    "editable": false
   },
   "source": [
    "The dataset object has a `.classes` field that contains the names of\n",
    "the different labels.  It has 10 classes ranging from **T-shirt** to **Ankle boot**."
   ]
  },
  {
   "cell_type": "code",
   "execution_count": null,
   "id": "7266566d-fce5-4a1b-a253-e3374d508f87",
   "metadata": {
    "editable": false
   },
   "outputs": [],
   "source": [
    "\"🔒\"\n",
    "#\n",
    "# Print the lookup\n",
    "#\n",
    "lookup = pd.Series({x: i for (i,x) in enumerate(dataset.classes)})\n",
    "lookup"
   ]
  },
  {
   "cell_type": "markdown",
   "id": "f1bc8443-14f5-4c36-90a2-8efbfa9fe5e9",
   "metadata": {
    "editable": false
   },
   "source": [
    "In fact, we can print the first 36 entries in the dataset, and plot them as a grid.\n",
    "Below is the result of that."
   ]
  },
  {
   "cell_type": "code",
   "execution_count": null,
   "id": "8cca0cbb-4929-49a2-911f-1f1f13978568",
   "metadata": {
    "editable": false
   },
   "outputs": [],
   "source": [
    "\"🔒\"\n",
    "xs = dataset.data[:36]\n",
    "xs = xs.reshape(36, 1, 28, 28)\n",
    "mosiac = torchvision.utils.make_grid(xs, nrow=6)\n",
    "mosiac = np.transpose(mosiac, (1, 2, 0))\n",
    "plt.imshow(mosiac)\n",
    "plt.xticks([])\n",
    "plt.yticks([]);"
   ]
  },
  {
   "cell_type": "markdown",
   "id": "63b5922f-94b5-49ed-ad28-c4811df7e7dc",
   "metadata": {
    "editable": false
   },
   "source": [
    "## Getting ready for training and validation\n",
    "\n",
    "We will be using the same training data for all three neural network architectures.\n",
    "\n",
    "The `train_dataloader` is a dataloader for the training dataset, and `val_dataloader` is the dataloader for the validation dataset."
   ]
  },
  {
   "cell_type": "code",
   "execution_count": null,
   "id": "355d2ab7-1784-42f4-91c1-9fb3499da0eb",
   "metadata": {
    "editable": false
   },
   "outputs": [],
   "source": [
    "\"🔒\"\n",
    "train_dataset, val_dataset = random_split(dataset, (0.8, 0.2))\n",
    "train_dataloader = DataLoader(train_dataset, batch_size=32, shuffle=True)\n",
    "val_dataloader = DataLoader(val_dataset, batch_size=len(val_dataset), shuffle=False)"
   ]
  },
  {
   "cell_type": "markdown",
   "id": "346ae693-e749-4741-9b49-308d0f357ee0",
   "metadata": {
    "editable": false
   },
   "source": [
    "## Linear classifier\n",
    "\n",
    "In this section, you will implement a simple linear model.  The linear model is to be implemented as a `nn.Module`\n",
    "and should have a field `model` which is a `nn.Sequential` module.\n",
    "\n",
    "You are to complete the implementation by creating two layers in the `nn.Sequence(...)`:\n",
    "\n",
    "- A layer to flatten the input from `(1,28,28)` to a vector.\n",
    "- The second layer perform linear classification to 10 dimensional logit.  You are to use the `nn.LazyLinear` layer to implement\n",
    "  the linear layer.  The advantage of the `LazyLinear` layer is that you do not need to compute\n",
    "  the input dimension explicitly."
   ]
  },
  {
   "cell_type": "code",
   "execution_count": null,
   "id": "fb9f2054",
   "metadata": {},
   "outputs": [],
   "source": [
    "\"✍️\"\n",
    "# @workUnit\n",
    "\n",
    "class MyLinear(torch.nn.Module):\n",
    "    def __init__(self):\n",
    "        super().__init__()\n",
    "        self.model = nn.Sequential(\n",
    "            # complete the architecture\n",
    "            ...\n",
    "        )\n",
    "    def forward(self, image):\n",
    "        return self.model(image)"
   ]
  },
  {
   "cell_type": "code",
   "execution_count": null,
   "id": "be2ed43c-9eae-48e2-8744-4c70b06f73ef",
   "metadata": {
    "editable": false
   },
   "outputs": [],
   "source": [
    "\"🔒\"\n",
    "# @check\n",
    "# @title: check linear model architecture\n",
    "\n",
    "m = MyLinear()\n",
    "xs, ys = next(iter(train_dataloader))\n",
    "summary(m, xs);"
   ]
  },
  {
   "cell_type": "markdown",
   "id": "d5f92170-c731-4daf-afec-3f488fb5b5ec",
   "metadata": {
    "editable": false
   },
   "source": [
    "## A trainer class\n",
    "\n",
    "In this section, you will be implementing a trainer class that will be used throughout the assignment.\n",
    "\n",
    "The trainer class has the following methods:\n",
    "\n",
    "**Constructor:**\n",
    "\n",
    "- Input:\n",
    "  - `model`: a `nn.Module` that is the neural network model.\n",
    "  - `train_dataloader`: a `DataLoader` that is the training data\n",
    "  - `val_dataloader`: is the `Dataloader` for validation\n",
    "  - The constructor uses the `optim.Adam(...)` as the optimizer.\n",
    "  - The constructor uses the `nn.CrossEntropy` as the loss function.\n",
    "  \n",
    "**`Trainer.train_one_epoch`**:\n",
    "\n",
    "It performs training of `model` for **one epoch** by iterating over the batches from `train_dataloader`.\n",
    "\n",
    "- Input:\n",
    "  - `max_batches` is the maximum batches taken from the dataloader.  **For performance reasons, we will only sample 10 batches.**\n",
    "  \n",
    "- Output: it returns two float numbers:\n",
    "  - mean loss over the batches\n",
    "  - mean accuracy over the batches\n",
    "  \n",
    "**`Trainer.val_one_epoch`**:\n",
    "\n",
    "It performs validation by iterating over all batches from the validation dataloader.\n",
    "\n",
    "- Output: it returns two float numbers:\n",
    "  - mean loss\n",
    "  - mean accuracy\n",
    "  \n",
    "**`Trainer.train`**\n",
    "\n",
    "This method performs training.\n",
    "\n",
    "- Input:\n",
    "  - `epochs`: the number of epochs.\n",
    "  - `max_batches`: the maximum batches to take per epoch.\n",
    "- Output:\n",
    "  returns a `DataFrame` containing training loss,\n",
    "  training accuracy, validation loss, validation accuracy, and the time per epoch.\n",
    "  \n",
    "**`Trainer.reset`**\n",
    "\n",
    "This method resets the trainable parameters of the model.\n",
    "\n",
    "**A skeleton implementation is given in `trainer_lib.py`.**  You are to complete the implementation."
   ]
  },
  {
   "cell_type": "code",
   "execution_count": null,
   "id": "ac5f4d5b-8ae6-45e6-bdee-8a158c403b68",
   "metadata": {
    "editable": false
   },
   "outputs": [],
   "source": [
    "\"🔒\"\n",
    "import trainer_lib"
   ]
  },
  {
   "cell_type": "markdown",
   "id": "7b75bef7-dd01-427b-afee-a05f7ac24d78",
   "metadata": {
    "editable": false
   },
   "source": [
    "Below are some basic sanity checks of the trainer implementation."
   ]
  },
  {
   "cell_type": "code",
   "execution_count": null,
   "id": "72d6c3f8-21b8-48e1-9b04-bf08aff3143b",
   "metadata": {
    "editable": false
   },
   "outputs": [],
   "source": [
    "\"🔒\"\n",
    "# @check\n",
    "# @title: check trainer construction\n",
    "reload(trainer_lib)\n",
    "trainer = trainer_lib.Trainer(m, train_dataloader, val_dataloader)\n",
    "print(trainer is not None)"
   ]
  },
  {
   "cell_type": "code",
   "execution_count": null,
   "id": "10e1c3ba-49f9-410e-8a31-2c6e768afefa",
   "metadata": {
    "editable": false
   },
   "outputs": [],
   "source": [
    "\"🔒\"\n",
    "# @check\n",
    "# @title: check trainer methods\n",
    "for method in ['train_one_epoch', 'val_one_epoch', 'train', 'reset']:\n",
    "    print(f\"trainer.{method}?\", hasattr(trainer, method))"
   ]
  },
  {
   "cell_type": "code",
   "execution_count": null,
   "id": "86fd0345-b238-4623-8ba1-8c75a49ff728",
   "metadata": {
    "editable": false
   },
   "outputs": [],
   "source": [
    "\"🔒\"\n",
    "# @check\n",
    "# @title: check trainer.train_one_epoch\n",
    "\n",
    "(loss, acc) = trainer.train_one_epoch(max_batches=1)\n",
    "print('loss is numeric', isinstance(loss, float))\n",
    "print('acc is numeric', isinstance(acc, float))"
   ]
  },
  {
   "cell_type": "code",
   "execution_count": null,
   "id": "f99ddfe6-a941-4993-abea-be447e86371e",
   "metadata": {
    "editable": false
   },
   "outputs": [],
   "source": [
    "\"🔒\"\n",
    "# @check\n",
    "# @title: check trainer.val_one_epoch\n",
    "\n",
    "(loss, acc) = trainer.val_one_epoch()\n",
    "print('loss is numeric', isinstance(loss, float))\n",
    "print('acc is numeric', isinstance(acc, float))"
   ]
  },
  {
   "cell_type": "code",
   "execution_count": null,
   "id": "bcb64e8c-385d-41bd-a663-fcb36633f9c2",
   "metadata": {
    "editable": false
   },
   "outputs": [],
   "source": [
    "\"🔒\"\n",
    "# @check\n",
    "# @title: check trainer.reset\n",
    "\n",
    "trainer.reset()\n",
    "print(\"Ok\")"
   ]
  },
  {
   "cell_type": "markdown",
   "id": "c2687ec6-c5e6-4b16-bd9b-d8df58f18ae6",
   "metadata": {
    "editable": false
   },
   "source": [
    "## Training the linear model\n",
    "\n",
    "In this section, we will train the linear model.  We will take 10 batches per epoch, and train for 20 epochs.\n",
    "\n",
    "The training history is stored in `model_linear_log`.\n",
    "\n",
    "This will take approximately **70 seconds**."
   ]
  },
  {
   "cell_type": "code",
   "execution_count": null,
   "id": "800dd194-090c-4837-bb6b-a224312a25d8",
   "metadata": {
    "editable": false
   },
   "outputs": [],
   "source": [
    "\"🔒\"\n",
    "reload(trainer_lib)\n",
    "\n",
    "model_linear = MyLinear()\n",
    "trainer = trainer_lib.Trainer(model_linear, train_dataloader, val_dataloader)\n",
    "trainer.reset()\n",
    "model_linear_log = trainer.train(epochs=20, max_batches=10)\n",
    "model_linear_log.round(2)"
   ]
  },
  {
   "cell_type": "markdown",
   "id": "29dfc81f-2ee4-4ff9-8ebd-7bf7ffb82484",
   "metadata": {
    "editable": false
   },
   "source": [
    "## MLP Models\n",
    "\n",
    "In this section, you are to construct a MLP model.  It uses `LazyLinear` to create a hidden dimension of 50, with activation `nn.ReLU` for the hidden layer."
   ]
  },
  {
   "cell_type": "code",
   "execution_count": null,
   "id": "b7633281",
   "metadata": {},
   "outputs": [],
   "source": [
    "\"✍️\"\n",
    "# @workUnit\n",
    "\n",
    "class MLPModel(torch.nn.Module):\n",
    "    def __init__(self):\n",
    "        super().__init__()\n",
    "        self.model = nn.Sequential(\n",
    "            # complete the following\n",
    "            ...\n",
    "        )\n",
    "    def forward(self, x):\n",
    "        return self.model(x)"
   ]
  },
  {
   "cell_type": "code",
   "execution_count": null,
   "id": "fc77595c-5c58-4b14-9fad-0175c9b3ee73",
   "metadata": {
    "editable": false
   },
   "outputs": [],
   "source": [
    "\"🔒\"\n",
    "# @check\n",
    "# @title: MLP model architecture\n",
    "\n",
    "model_mlp = MLPModel()\n",
    "summary(model_mlp, xs);"
   ]
  },
  {
   "cell_type": "markdown",
   "id": "8bf0b5fd-7c72-4773-95ab-c21658f656fc",
   "metadata": {
    "editable": false
   },
   "source": [
    "## Training MLP\n",
    "\n",
    "We will train the MLP model in 20 epochs with 10 batches per epoch.\n",
    "\n",
    "You should expect:\n",
    "\n",
    "- Total training time: 80 seconds\n",
    "- Final validation accuracy approximately 75% or higher."
   ]
  },
  {
   "cell_type": "code",
   "execution_count": null,
   "id": "3a24fafb-d480-44cc-b486-acb442371090",
   "metadata": {
    "editable": false
   },
   "outputs": [],
   "source": [
    "\"🔒\"\n",
    "model_mlp = MLPModel()\n",
    "reload(trainer_lib)\n",
    "trainer = trainer_lib.Trainer(model_mlp, train_dataloader, val_dataloader)\n",
    "trainer.reset()\n",
    "model_mlp_log = trainer.train(epochs=20, max_batches=10)\n",
    "model_mlp_log.round(2)"
   ]
  },
  {
   "cell_type": "markdown",
   "id": "c881b851-ee30-4223-a42a-012b08ff7682",
   "metadata": {
    "editable": false
   },
   "source": [
    "## Convolution based networks\n",
    "\n",
    "In this section, we will construct a simple convolutional network.  It consists of the following layers:\n",
    "\n",
    "- 2D convolution with the `num_kernels` kernels of size `kernel_size`.\n",
    "- Max pooling with pooling size `pool_size`.\n",
    "- ReLU activation\n",
    "- Flatten the max pooling output to a vector\n",
    "- A (lazy) linear layer that maps to 10 dimensional logits vector"
   ]
  },
  {
   "cell_type": "code",
   "execution_count": null,
   "id": "3b366334",
   "metadata": {},
   "outputs": [],
   "source": [
    "\"✍️\"\n",
    "# @workUnit\n",
    "\n",
    "class LinearCNNModel(nn.Module):\n",
    "    def __init__(self, num_kernels, kernel_size, pool_size):\n",
    "        super().__init__()\n",
    "        self.model = nn.Sequential(\n",
    "            # complete the following\n",
    "            ...\n",
    "        )\n",
    "    def forward(self, x):\n",
    "        return self.model(x)"
   ]
  },
  {
   "cell_type": "markdown",
   "id": "cff324da-777e-4e02-b108-229ef0a4e74f",
   "metadata": {
    "editable": false
   },
   "source": [
    "We will construct a convolutional network with 5 kernels, with kernel size 3, and pooling size of 2."
   ]
  },
  {
   "cell_type": "code",
   "execution_count": null,
   "id": "2b610065-ed37-434c-96f0-dec8ee3a0e4c",
   "metadata": {
    "editable": false
   },
   "outputs": [],
   "source": [
    "\"🔒\"\n",
    "# @check\n",
    "# @title: CNN Linear architecture\n",
    "\n",
    "model_cnn_linear = LinearCNNModel(5, 3, 2)\n",
    "summary(model_cnn_linear, xs);"
   ]
  },
  {
   "cell_type": "markdown",
   "id": "5df0e979-fcbc-4214-9a8c-e8588f6c1f92",
   "metadata": {
    "editable": false
   },
   "source": [
    "## Training of Convolutional Network\n",
    "\n",
    "We will train a convolutional network using 20 epochs, and 10 batches per epoch.\n",
    "\n",
    "You should expect:\n",
    "\n",
    "- Total training time: 120 seconds\n",
    "- Validation accuracy approximately 76% or higher."
   ]
  },
  {
   "cell_type": "code",
   "execution_count": null,
   "id": "01de5979-0ecd-44cd-a353-e3faa9035945",
   "metadata": {
    "editable": false
   },
   "outputs": [],
   "source": [
    "\"🔒\"\n",
    "reload(trainer_lib)\n",
    "trainer = trainer_lib.Trainer(model_cnn_linear, train_dataloader, val_dataloader)\n",
    "trainer.reset()\n",
    "model_cnn_linear_log = trainer.train(epochs=20, max_batches=10)\n",
    "model_cnn_linear_log.round(2)"
   ]
  },
  {
   "cell_type": "markdown",
   "id": "73d52a41-5a8b-4646-8535-0b58c0d68b17",
   "metadata": {
    "editable": false
   },
   "source": [
    "## Deep Conv model\n",
    "\n",
    "We will construct a **deep convolutional** network with the following layers:\n",
    "\n",
    "- Conv2d with 16 kernels of size 5, with `padding='same'`\n",
    "- MaxPool2d with pooling size of 2\n",
    "- Conv2d with 32 kernels of size 3, with padding\n",
    "- MaxPool2d with pooling size of 2\n",
    "- Flatten the maxpooling output to a vector\n",
    "- a MLP with hidden layer of 50, and ReLU is used as the activation function, and its output layer produces the 10 dimensional logits vector"
   ]
  },
  {
   "cell_type": "code",
   "execution_count": null,
   "id": "bfd3c9ef",
   "metadata": {},
   "outputs": [],
   "source": [
    "\"✍️\"\n",
    "# @workUnit\n",
    "\n",
    "class DeepCNNModel(nn.Module):\n",
    "    def __init__(self):\n",
    "        super().__init__()\n",
    "        self.model = nn.Sequential(\n",
    "            # complete the following\n",
    "            ...\n",
    "        )\n",
    "    def forward(self, x):\n",
    "        return self.model(x)"
   ]
  },
  {
   "cell_type": "code",
   "execution_count": null,
   "id": "f81dd3f3-7bc9-45df-b8a7-63fb01dbc1bd",
   "metadata": {
    "editable": false
   },
   "outputs": [],
   "source": [
    "\"🔒\"\n",
    "# @check\n",
    "# @title: deep cnn architecture\n",
    "\n",
    "model_cnn_deep = DeepCNNModel()\n",
    "summary(model_cnn_deep, xs);"
   ]
  },
  {
   "cell_type": "markdown",
   "id": "33f7af6b-39a6-4da4-8c9c-7b2217e01b39",
   "metadata": {
    "editable": false
   },
   "source": [
    "## Training the deep CNN network\n",
    "\n",
    "We train the deep convolutional network.\n",
    "\n",
    "You should expect:\n",
    "\n",
    "- Total training time: 250 seconds\n",
    "- Validation accuracy should be close to or exceeds 80%."
   ]
  },
  {
   "cell_type": "code",
   "execution_count": null,
   "id": "9a4db99d-771c-4289-9510-eb9d1170df9b",
   "metadata": {
    "editable": false
   },
   "outputs": [],
   "source": [
    "\"🔒\"\n",
    "reload(trainer_lib)\n",
    "trainer = trainer_lib.Trainer(model_cnn_deep, train_dataloader, val_dataloader)\n",
    "trainer.reset()\n",
    "model_cnn_deep_log = trainer.train(epochs=20, max_batches=10)\n",
    "model_cnn_deep_log.round(2)"
   ]
  },
  {
   "cell_type": "markdown",
   "id": "16792f78-7445-4841-bac7-553bd67fc143",
   "metadata": {
    "editable": false
   },
   "source": [
    "## Plot\n",
    "\n",
    "The following plots the training accuracy."
   ]
  },
  {
   "cell_type": "code",
   "execution_count": null,
   "id": "af1c2c96-9386-47f0-9bae-f22d64074438",
   "metadata": {
    "editable": false
   },
   "outputs": [],
   "source": [
    "\"🔒\"\n",
    "plt.figure()\n",
    "plt.plot(model_linear_log.index, model_linear_log.train_accuracy)\n",
    "plt.plot(model_mlp_log.index, model_mlp_log.train_accuracy)\n",
    "plt.plot(model_cnn_linear_log.index, model_cnn_linear_log.train_accuracy)\n",
    "plt.plot(model_cnn_deep_log.index, model_cnn_deep_log.train_accuracy)\n",
    "\n",
    "plt.title('Training Accuracy')\n",
    "plt.xlabel('Epochs')\n",
    "plt.ylabel('Accuracy')\n",
    "plt.legend(['Linear', 'MLP', 'CNN', 'Deep CNN']);"
   ]
  },
  {
   "cell_type": "markdown",
   "id": "1eb348a7-c40a-4460-8637-845b395281e6",
   "metadata": {
    "editable": false
   },
   "source": [
    "### Plot the validation accuracy\n",
    "\n",
    "Make sure you properly label the plot and the axes."
   ]
  },
  {
   "cell_type": "code",
   "execution_count": null,
   "id": "dbf33a21",
   "metadata": {},
   "outputs": [],
   "source": [
    "\"✍️\"\n",
    "# @workUnit\n",
    "\n",
    "#\n",
    "# Generate the validation accuracy of the different models\n",
    "#"
   ]
  }
 ],
 "metadata": {
  "kernelspec": {
   "display_name": "Python 3 (ipykernel)",
   "language": "python",
   "name": "python3"
  },
  "language_info": {
   "codemirror_mode": {
    "name": "ipython",
    "version": 3
   },
   "file_extension": ".py",
   "mimetype": "text/x-python",
   "name": "python",
   "nbconvert_exporter": "python",
   "pygments_lexer": "ipython3",
   "version": "3.11.0"
  }
 },
 "nbformat": 4,
 "nbformat_minor": 5
}
