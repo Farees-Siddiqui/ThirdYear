{
 "cells": [
  {
   "cell_type": "markdown",
   "id": "9906d080-bc4f-45d9-9bbf-477005d97c6c",
   "metadata": {
    "editable": false
   },
   "source": [
    "# Assignment 2: Fashion Dataset and Architecture Comparisons\n",
    "\n",
    "In this assignment, you are to perform the following:\n",
    "\n",
    "1. Study the `FashionMNIST` dataset, and understand the images and their respective labels.\n",
    "1. Implement a `Trainer` class in the file `trainer_lib.py` for reusable and reproducible training loops.\n",
    "1. Implement the following architectures:\n",
    "  - Linear model\n",
    "  - MLP with one hidden layer\n",
    "  - Simple convolution with pooling\n",
    "  - Deep convolution with pooling, followed by MLP with one hidden layer."
   ]
  },
  {
   "cell_type": "code",
   "execution_count": 1,
   "id": "8bac7fe8-83e0-4c8f-828e-8045b5ff4e09",
   "metadata": {
    "editable": false
   },
   "outputs": [],
   "source": [
    "\"🔒\"\n",
    "import torch\n",
    "from torch import nn\n",
    "from torch import optim\n",
    "from torch.utils.data import DataLoader, random_split\n",
    "import torchvision\n",
    "from torchsummaryX import summary\n",
    "import numpy as np\n",
    "import pandas as pd\n",
    "import os\n",
    "import matplotlib.pyplot as plt\n",
    "from importlib import reload\n",
    "\n",
    "import warnings\n",
    "warnings.filterwarnings('ignore')"
   ]
  },
  {
   "cell_type": "markdown",
   "id": "b0b5b137-cfe2-4fb3-9cb3-912764e46ac1",
   "metadata": {
    "editable": false
   },
   "source": [
    "## Loading the data\n",
    "\n",
    "In this section, you will simply run the following data loading cells to familiarize yourself with the layout and semantics of the training dataset."
   ]
  },
  {
   "cell_type": "code",
   "execution_count": 2,
   "id": "305b0da8-c8e2-4174-9a24-075368f0adf9",
   "metadata": {
    "editable": false
   },
   "outputs": [
    {
     "ename": "RuntimeError",
     "evalue": "Dataset not found. You can use download=True to download it",
     "output_type": "error",
     "traceback": [
      "\u001b[1;31m---------------------------------------------------------------------------\u001b[0m",
      "\u001b[1;31mRuntimeError\u001b[0m                              Traceback (most recent call last)",
      "Cell \u001b[1;32mIn[2], line 7\u001b[0m\n\u001b[0;32m      5\u001b[0m home \u001b[39m=\u001b[39m os\u001b[39m.\u001b[39menviron\u001b[39m.\u001b[39mget(\u001b[39m'\u001b[39m\u001b[39mHOME\u001b[39m\u001b[39m'\u001b[39m)\n\u001b[0;32m      6\u001b[0m root \u001b[39m=\u001b[39m os\u001b[39m.\u001b[39mpath\u001b[39m.\u001b[39mjoin(home, \u001b[39m'\u001b[39m\u001b[39mpublic/data\u001b[39m\u001b[39m'\u001b[39m)\n\u001b[1;32m----> 7\u001b[0m dataset \u001b[39m=\u001b[39m torchvision\u001b[39m.\u001b[39;49mdatasets\u001b[39m.\u001b[39;49mFashionMNIST(\n\u001b[0;32m      8\u001b[0m     root,\n\u001b[0;32m      9\u001b[0m     train\u001b[39m=\u001b[39;49m\u001b[39mTrue\u001b[39;49;00m,\n\u001b[0;32m     10\u001b[0m     transform\u001b[39m=\u001b[39;49mtorchvision\u001b[39m.\u001b[39;49mtransforms\u001b[39m.\u001b[39;49mToTensor())\n\u001b[0;32m     12\u001b[0m dataset\n",
      "File \u001b[1;32mc:\\Python310\\lib\\site-packages\\torchvision\\datasets\\mnist.py:102\u001b[0m, in \u001b[0;36mMNIST.__init__\u001b[1;34m(self, root, train, transform, target_transform, download)\u001b[0m\n\u001b[0;32m     99\u001b[0m     \u001b[39mself\u001b[39m\u001b[39m.\u001b[39mdownload()\n\u001b[0;32m    101\u001b[0m \u001b[39mif\u001b[39;00m \u001b[39mnot\u001b[39;00m \u001b[39mself\u001b[39m\u001b[39m.\u001b[39m_check_exists():\n\u001b[1;32m--> 102\u001b[0m     \u001b[39mraise\u001b[39;00m \u001b[39mRuntimeError\u001b[39;00m(\u001b[39m\"\u001b[39m\u001b[39mDataset not found. You can use download=True to download it\u001b[39m\u001b[39m\"\u001b[39m)\n\u001b[0;32m    104\u001b[0m \u001b[39mself\u001b[39m\u001b[39m.\u001b[39mdata, \u001b[39mself\u001b[39m\u001b[39m.\u001b[39mtargets \u001b[39m=\u001b[39m \u001b[39mself\u001b[39m\u001b[39m.\u001b[39m_load_data()\n",
      "\u001b[1;31mRuntimeError\u001b[0m: Dataset not found. You can use download=True to download it"
     ]
    }
   ],
   "source": [
    "\"🔒\"\n",
    "#\n",
    "# Loading data\n",
    "#\n",
    "home = os.environ.get('HOME')\n",
    "root = os.path.join(home, 'public/data')\n",
    "dataset = torchvision.datasets.FashionMNIST(\n",
    "    root,\n",
    "    train=True,\n",
    "    transform=torchvision.transforms.ToTensor())\n",
    "\n",
    "dataset"
   ]
  },
  {
   "cell_type": "code",
   "execution_count": null,
   "id": "a7187ba6-ccd4-4340-9da2-612c5eb9fc13",
   "metadata": {
    "editable": false
   },
   "outputs": [
    {
     "name": "stdout",
     "output_type": "stream",
     "text": [
      "The first image is of shape: torch.Size([1, 28, 28])\n",
      "The first label is: 9\n"
     ]
    },
    {
     "data": {
      "image/png": "[encoded data removed]",
      "text/plain": [
       "<Figure size 640x480 with 1 Axes>"
      ]
     },
     "metadata": {},
     "output_type": "display_data"
    }
   ],
   "source": [
    "\"🔒\"\n",
    "#\n",
    "# Print out important stats about the dataset\n",
    "#\n",
    "image_tensor, label = dataset[0]\n",
    "print(\"The first image is of shape:\", image_tensor.shape)\n",
    "print(\"The first label is:\", label)\n",
    "\n",
    "plt.imshow(np.transpose(image_tensor, (1, 2, 0)));"
   ]
  },
  {
   "cell_type": "markdown",
   "id": "06c02d91-9280-45a4-a8f7-a02c518b6a31",
   "metadata": {
    "editable": false
   },
   "source": [
    "The dataset object has a `.classes` field that contains the names of\n",
    "the different labels.  It has 10 classes ranging from **T-shirt** to **Ankle boot**."
   ]
  },
  {
   "cell_type": "code",
   "execution_count": null,
   "id": "7266566d-fce5-4a1b-a253-e3374d508f87",
   "metadata": {
    "editable": false
   },
   "outputs": [
    {
     "data": {
      "text/plain": [
       "T-shirt/top    0\n",
       "Trouser        1\n",
       "Pullover       2\n",
       "Dress          3\n",
       "Coat           4\n",
       "Sandal         5\n",
       "Shirt          6\n",
       "Sneaker        7\n",
       "Bag            8\n",
       "Ankle boot     9\n",
       "dtype: int64"
      ]
     },
     "execution_count": 4,
     "metadata": {},
     "output_type": "execute_result"
    }
   ],
   "source": [
    "\"🔒\"\n",
    "#\n",
    "# Print the lookup\n",
    "#\n",
    "lookup = pd.Series({x: i for (i,x) in enumerate(dataset.classes)})\n",
    "lookup"
   ]
  },
  {
   "cell_type": "markdown",
   "id": "f1bc8443-14f5-4c36-90a2-8efbfa9fe5e9",
   "metadata": {
    "editable": false
   },
   "source": [
    "In fact, we can print the first 36 entries in the dataset, and plot them as a grid.\n",
    "Below is the result of that."
   ]
  },
  {
   "cell_type": "code",
   "execution_count": null,
   "id": "8cca0cbb-4929-49a2-911f-1f1f13978568",
   "metadata": {
    "editable": false
   },
   "outputs": [
    {
     "data": {
      "image/png": "[encoded data removed]",
      "text/plain": [
       "<Figure size 640x480 with 1 Axes>"
      ]
     },
     "metadata": {},
     "output_type": "display_data"
    }
   ],
   "source": [
    "\"🔒\"\n",
    "xs = dataset.data[:36]\n",
    "xs = xs.reshape(36, 1, 28, 28)\n",
    "mosiac = torchvision.utils.make_grid(xs, nrow=6)\n",
    "mosiac = np.transpose(mosiac, (1, 2, 0))\n",
    "plt.imshow(mosiac)\n",
    "plt.xticks([])\n",
    "plt.yticks([]);"
   ]
  },
  {
   "cell_type": "markdown",
   "id": "63b5922f-94b5-49ed-ad28-c4811df7e7dc",
   "metadata": {
    "editable": false
   },
   "source": [
    "## Getting ready for training and validation\n",
    "\n",
    "We will be using the same training data for all three neural network architectures.\n",
    "\n",
    "The `train_dataloader` is a dataloader for the training dataset, and `val_dataloader` is the dataloader for the validation dataset."
   ]
  },
  {
   "cell_type": "code",
   "execution_count": null,
   "id": "355d2ab7-1784-42f4-91c1-9fb3499da0eb",
   "metadata": {
    "editable": false
   },
   "outputs": [],
   "source": [
    "\"🔒\"\n",
    "train_dataset, val_dataset = random_split(dataset, (0.8, 0.2))\n",
    "train_dataloader = DataLoader(train_dataset, batch_size=32, shuffle=True)\n",
    "val_dataloader = DataLoader(val_dataset, batch_size=len(val_dataset), shuffle=False)"
   ]
  },
  {
   "cell_type": "markdown",
   "id": "346ae693-e749-4741-9b49-308d0f357ee0",
   "metadata": {
    "editable": false
   },
   "source": [
    "## Linear classifier\n",
    "\n",
    "In this section, you will implement a simple linear model.  The linear model is to be implemented as a `nn.Module`\n",
    "and should have a field `model` which is a `nn.Sequential` module.\n",
    "\n",
    "You are to complete the implementation by creating two layers in the `nn.Sequence(...)`:\n",
    "\n",
    "- A layer to flatten the input from `(1,28,28)` to a vector.\n",
    "- The second layer perform linear classification to 10 dimensional logit.  You are to use the `nn.LazyLinear` layer to implement\n",
    "  the linear layer.  The advantage of the `LazyLinear` layer is that you do not need to compute\n",
    "  the input dimension explicitly."
   ]
  },
  {
   "cell_type": "code",
   "execution_count": null,
   "id": "fb9f2054",
   "metadata": {},
   "outputs": [],
   "source": [
    "\"✍️\"\n",
    "# @workUnit\n",
    "\n",
    "class MyLinear(torch.nn.Module):\n",
    "    def __init__(self):\n",
    "        super().__init__()\n",
    "        self.model = nn.Sequential(\n",
    "            # complete the architecture\n",
    "            nn.Flatten(),\n",
    "            nn.LazyLinear(10),\n",
    "        )\n",
    "    def forward(self, image):\n",
    "        return self.model(image)"
   ]
  },
  {
   "cell_type": "code",
   "execution_count": null,
   "id": "be2ed43c-9eae-48e2-8744-4c70b06f73ef",
   "metadata": {
    "editable": false
   },
   "outputs": [
    {
     "name": "stdout",
     "output_type": "stream",
     "text": [
      "=================================================================\n",
      "                     Kernel Shape Output Shape Params Mult-Adds\n",
      "Layer                                                          \n",
      "0_model.Flatten_0               -    [32, 784]      -         -\n",
      "1_model.LazyLinear_1    [784, 10]     [32, 10]  7.85k     7.84k\n",
      "-----------------------------------------------------------------\n",
      "                      Totals\n",
      "Total params           7.85k\n",
      "Trainable params       7.85k\n",
      "Non-trainable params     0.0\n",
      "Mult-Adds              7.84k\n",
      "=================================================================\n"
     ]
    }
   ],
   "source": [
    "\"🔒\"\n",
    "# @check\n",
    "# @title: check linear model architecture\n",
    "\n",
    "m = MyLinear()\n",
    "xs, ys = next(iter(train_dataloader))\n",
    "summary(m, xs);"
   ]
  },
  {
   "cell_type": "markdown",
   "id": "d5f92170-c731-4daf-afec-3f488fb5b5ec",
   "metadata": {
    "editable": false
   },
   "source": [
    "## A trainer class\n",
    "\n",
    "In this section, you will be implementing a trainer class that will be used throughout the assignment.\n",
    "\n",
    "The trainer class has the following methods:\n",
    "\n",
    "**Constructor:**\n",
    "\n",
    "- Input:\n",
    "  - `model`: a `nn.Module` that is the neural network model.\n",
    "  - `train_dataloader`: a `DataLoader` that is the training data\n",
    "  - `val_dataloader`: is the `Dataloader` for validation\n",
    "  - The constructor uses the `optim.Adam(...)` as the optimizer.\n",
    "  - The constructor uses the `nn.CrossEntropy` as the loss function.\n",
    "  \n",
    "**`Trainer.train_one_epoch`**:\n",
    "\n",
    "It performs training of `model` for **one epoch** by iterating over the batches from `train_dataloader`.\n",
    "\n",
    "- Input:\n",
    "  - `max_batches` is the maximum batches taken from the dataloader.  **For performance reasons, we will only sample 10 batches.**\n",
    "  \n",
    "- Output: it returns two float numbers:\n",
    "  - mean loss over the batches\n",
    "  - mean accuracy over the batches\n",
    "  \n",
    "**`Trainer.val_one_epoch`**:\n",
    "\n",
    "It performs validation by iterating over all batches from the validation dataloader.\n",
    "\n",
    "- Output: it returns two float numbers:\n",
    "  - mean loss\n",
    "  - mean accuracy\n",
    "  \n",
    "**`Trainer.train`**\n",
    "\n",
    "This method performs training.\n",
    "\n",
    "- Input:\n",
    "  - `epochs`: the number of epochs.\n",
    "  - `max_batches`: the maximum batches to take per epoch.\n",
    "- Output:\n",
    "  returns a `DataFrame` containing training loss,\n",
    "  training accuracy, validation loss, validation accuracy, and the time per epoch.\n",
    "  \n",
    "**`Trainer.reset`**\n",
    "\n",
    "This method resets the trainable parameters of the model.\n",
    "\n",
    "**A skeleton implementation is given in `trainer_lib.py`.**  You are to complete the implementation."
   ]
  },
  {
   "cell_type": "code",
   "execution_count": null,
   "id": "ac5f4d5b-8ae6-45e6-bdee-8a158c403b68",
   "metadata": {
    "editable": false
   },
   "outputs": [],
   "source": [
    "\"🔒\"\n",
    "import trainer_lib"
   ]
  },
  {
   "cell_type": "markdown",
   "id": "7b75bef7-dd01-427b-afee-a05f7ac24d78",
   "metadata": {
    "editable": false
   },
   "source": [
    "Below are some basic sanity checks of the trainer implementation."
   ]
  },
  {
   "cell_type": "code",
   "execution_count": null,
   "id": "72d6c3f8-21b8-48e1-9b04-bf08aff3143b",
   "metadata": {
    "editable": false
   },
   "outputs": [
    {
     "name": "stdout",
     "output_type": "stream",
     "text": [
      "True\n"
     ]
    }
   ],
   "source": [
    "\"🔒\"\n",
    "# @check\n",
    "# @title: check trainer construction\n",
    "reload(trainer_lib)\n",
    "trainer = trainer_lib.Trainer(m, train_dataloader, val_dataloader)\n",
    "print(trainer is not None)"
   ]
  },
  {
   "cell_type": "code",
   "execution_count": null,
   "id": "10e1c3ba-49f9-410e-8a31-2c6e768afefa",
   "metadata": {
    "editable": false
   },
   "outputs": [
    {
     "name": "stdout",
     "output_type": "stream",
     "text": [
      "trainer.train_one_epoch? True\n",
      "trainer.val_one_epoch? True\n",
      "trainer.train? True\n",
      "trainer.reset? True\n"
     ]
    }
   ],
   "source": [
    "\"🔒\"\n",
    "# @check\n",
    "# @title: check trainer methods\n",
    "for method in ['train_one_epoch', 'val_one_epoch', 'train', 'reset']:\n",
    "    print(f\"trainer.{method}?\", hasattr(trainer, method))"
   ]
  },
  {
   "cell_type": "code",
   "execution_count": null,
   "id": "86fd0345-b238-4623-8ba1-8c75a49ff728",
   "metadata": {
    "editable": false
   },
   "outputs": [
    {
     "name": "stdout",
     "output_type": "stream",
     "text": [
      "loss is numeric True\n",
      "acc is numeric True\n"
     ]
    }
   ],
   "source": [
    "\"🔒\"\n",
    "# @check\n",
    "# @title: check trainer.train_one_epoch\n",
    "\n",
    "(loss, acc) = trainer.train_one_epoch(max_batches=1)\n",
    "print('loss is numeric', isinstance(loss, float))\n",
    "print('acc is numeric', isinstance(acc, float))"
   ]
  },
  {
   "cell_type": "code",
   "execution_count": null,
   "id": "f99ddfe6-a941-4993-abea-be447e86371e",
   "metadata": {
    "editable": false
   },
   "outputs": [
    {
     "name": "stdout",
     "output_type": "stream",
     "text": [
      "loss is numeric True\n",
      "acc is numeric True\n"
     ]
    }
   ],
   "source": [
    "\"🔒\"\n",
    "# @check\n",
    "# @title: check trainer.val_one_epoch\n",
    "\n",
    "(loss, acc) = trainer.val_one_epoch()\n",
    "print('loss is numeric', isinstance(loss, float))\n",
    "print('acc is numeric', isinstance(acc, float))"
   ]
  },
  {
   "cell_type": "code",
   "execution_count": null,
   "id": "bcb64e8c-385d-41bd-a663-fcb36633f9c2",
   "metadata": {
    "editable": false
   },
   "outputs": [
    {
     "name": "stdout",
     "output_type": "stream",
     "text": [
      "Ok\n"
     ]
    }
   ],
   "source": [
    "\"🔒\"\n",
    "# @check\n",
    "# @title: check trainer.reset\n",
    "\n",
    "trainer.reset()\n",
    "print(\"Ok\")"
   ]
  },
  {
   "cell_type": "markdown",
   "id": "c2687ec6-c5e6-4b16-bd9b-d8df58f18ae6",
   "metadata": {
    "editable": false
   },
   "source": [
    "## Training the linear model\n",
    "\n",
    "In this section, we will train the linear model.  We will take 10 batches per epoch, and train for 20 epochs.\n",
    "\n",
    "The training history is stored in `model_linear_log`.\n",
    "\n",
    "This will take approximately **70 seconds**."
   ]
  },
  {
   "cell_type": "code",
   "execution_count": null,
   "id": "800dd194-090c-4837-bb6b-a224312a25d8",
   "metadata": {
    "editable": false
   },
   "outputs": [
    {
     "name": "stdout",
     "output_type": "stream",
     "text": [
      "[0 (3.17s)]: train_loss=2.08 train_acc=0.24, val_loss=1.83 val_acc=0.28\n",
      "[1 (3.60s)]: train_loss=1.68 train_acc=0.41, val_loss=1.48 val_acc=0.61\n",
      "[2 (3.26s)]: train_loss=1.42 train_acc=0.59, val_loss=1.26 val_acc=0.64\n",
      "[3 (2.97s)]: train_loss=1.22 train_acc=0.64, val_loss=1.14 val_acc=0.67\n",
      "[4 (3.57s)]: train_loss=1.14 train_acc=0.60, val_loss=1.05 val_acc=0.67\n",
      "[5 (3.31s)]: train_loss=1.00 train_acc=0.66, val_loss=1.00 val_acc=0.65\n",
      "[6 (3.30s)]: train_loss=0.96 train_acc=0.67, val_loss=0.95 val_acc=0.69\n",
      "[7 (3.58s)]: train_loss=0.93 train_acc=0.69, val_loss=0.91 val_acc=0.70\n",
      "[8 (3.07s)]: train_loss=0.93 train_acc=0.72, val_loss=0.89 val_acc=0.71\n",
      "[9 (3.44s)]: train_loss=0.86 train_acc=0.72, val_loss=0.86 val_acc=0.71\n",
      "[10 (3.30s)]: train_loss=0.83 train_acc=0.72, val_loss=0.85 val_acc=0.71\n",
      "[11 (3.18s)]: train_loss=0.87 train_acc=0.72, val_loss=0.82 val_acc=0.74\n",
      "[12 (3.02s)]: train_loss=0.85 train_acc=0.74, val_loss=0.81 val_acc=0.73\n",
      "[13 (2.91s)]: train_loss=0.83 train_acc=0.71, val_loss=0.79 val_acc=0.73\n",
      "[14 (3.83s)]: train_loss=0.77 train_acc=0.73, val_loss=0.78 val_acc=0.74\n",
      "[15 (3.32s)]: train_loss=0.78 train_acc=0.76, val_loss=0.76 val_acc=0.75\n",
      "[16 (3.34s)]: train_loss=0.72 train_acc=0.78, val_loss=0.75 val_acc=0.74\n",
      "[17 (2.80s)]: train_loss=0.74 train_acc=0.73, val_loss=0.74 val_acc=0.75\n",
      "[18 (3.73s)]: train_loss=0.69 train_acc=0.78, val_loss=0.74 val_acc=0.75\n",
      "[19 (3.17s)]: train_loss=0.70 train_acc=0.77, val_loss=0.72 val_acc=0.76\n",
      "== Total training time 65.87 seconds ==\n"
     ]
    },
    {
     "data": {
      "text/html": [
       "<div>\n",
       "<style scoped>\n",
       "    .dataframe tbody tr th:only-of-type {\n",
       "        vertical-align: middle;\n",
       "    }\n",
       "\n",
       "    .dataframe tbody tr th {\n",
       "        vertical-align: top;\n",
       "    }\n",
       "\n",
       "    .dataframe thead th {\n",
       "        text-align: right;\n",
       "    }\n",
       "</style>\n",
       "<table border=\"1\" class=\"dataframe\">\n",
       "  <thead>\n",
       "    <tr style=\"text-align: right;\">\n",
       "      <th></th>\n",
       "      <th>train_loss</th>\n",
       "      <th>train_accuracy</th>\n",
       "      <th>val_loss</th>\n",
       "      <th>val_accuracy</th>\n",
       "      <th>epoch_duration</th>\n",
       "    </tr>\n",
       "  </thead>\n",
       "  <tbody>\n",
       "    <tr>\n",
       "      <th>0</th>\n",
       "      <td>2.08</td>\n",
       "      <td>0.24</td>\n",
       "      <td>1.83</td>\n",
       "      <td>0.28</td>\n",
       "      <td>3.17</td>\n",
       "    </tr>\n",
       "    <tr>\n",
       "      <th>1</th>\n",
       "      <td>1.68</td>\n",
       "      <td>0.41</td>\n",
       "      <td>1.48</td>\n",
       "      <td>0.61</td>\n",
       "      <td>3.60</td>\n",
       "    </tr>\n",
       "    <tr>\n",
       "      <th>2</th>\n",
       "      <td>1.42</td>\n",
       "      <td>0.59</td>\n",
       "      <td>1.26</td>\n",
       "      <td>0.64</td>\n",
       "      <td>3.26</td>\n",
       "    </tr>\n",
       "    <tr>\n",
       "      <th>3</th>\n",
       "      <td>1.22</td>\n",
       "      <td>0.64</td>\n",
       "      <td>1.14</td>\n",
       "      <td>0.67</td>\n",
       "      <td>2.97</td>\n",
       "    </tr>\n",
       "    <tr>\n",
       "      <th>4</th>\n",
       "      <td>1.14</td>\n",
       "      <td>0.60</td>\n",
       "      <td>1.05</td>\n",
       "      <td>0.67</td>\n",
       "      <td>3.57</td>\n",
       "    </tr>\n",
       "    <tr>\n",
       "      <th>5</th>\n",
       "      <td>1.00</td>\n",
       "      <td>0.66</td>\n",
       "      <td>1.00</td>\n",
       "      <td>0.65</td>\n",
       "      <td>3.31</td>\n",
       "    </tr>\n",
       "    <tr>\n",
       "      <th>6</th>\n",
       "      <td>0.96</td>\n",
       "      <td>0.67</td>\n",
       "      <td>0.95</td>\n",
       "      <td>0.69</td>\n",
       "      <td>3.30</td>\n",
       "    </tr>\n",
       "    <tr>\n",
       "      <th>7</th>\n",
       "      <td>0.93</td>\n",
       "      <td>0.69</td>\n",
       "      <td>0.91</td>\n",
       "      <td>0.70</td>\n",
       "      <td>3.58</td>\n",
       "    </tr>\n",
       "    <tr>\n",
       "      <th>8</th>\n",
       "      <td>0.93</td>\n",
       "      <td>0.72</td>\n",
       "      <td>0.89</td>\n",
       "      <td>0.71</td>\n",
       "      <td>3.07</td>\n",
       "    </tr>\n",
       "    <tr>\n",
       "      <th>9</th>\n",
       "      <td>0.86</td>\n",
       "      <td>0.72</td>\n",
       "      <td>0.86</td>\n",
       "      <td>0.71</td>\n",
       "      <td>3.44</td>\n",
       "    </tr>\n",
       "    <tr>\n",
       "      <th>10</th>\n",
       "      <td>0.83</td>\n",
       "      <td>0.72</td>\n",
       "      <td>0.85</td>\n",
       "      <td>0.71</td>\n",
       "      <td>3.30</td>\n",
       "    </tr>\n",
       "    <tr>\n",
       "      <th>11</th>\n",
       "      <td>0.87</td>\n",
       "      <td>0.72</td>\n",
       "      <td>0.82</td>\n",
       "      <td>0.74</td>\n",
       "      <td>3.18</td>\n",
       "    </tr>\n",
       "    <tr>\n",
       "      <th>12</th>\n",
       "      <td>0.85</td>\n",
       "      <td>0.74</td>\n",
       "      <td>0.81</td>\n",
       "      <td>0.73</td>\n",
       "      <td>3.02</td>\n",
       "    </tr>\n",
       "    <tr>\n",
       "      <th>13</th>\n",
       "      <td>0.83</td>\n",
       "      <td>0.71</td>\n",
       "      <td>0.79</td>\n",
       "      <td>0.73</td>\n",
       "      <td>2.91</td>\n",
       "    </tr>\n",
       "    <tr>\n",
       "      <th>14</th>\n",
       "      <td>0.77</td>\n",
       "      <td>0.73</td>\n",
       "      <td>0.78</td>\n",
       "      <td>0.74</td>\n",
       "      <td>3.83</td>\n",
       "    </tr>\n",
       "    <tr>\n",
       "      <th>15</th>\n",
       "      <td>0.78</td>\n",
       "      <td>0.76</td>\n",
       "      <td>0.76</td>\n",
       "      <td>0.75</td>\n",
       "      <td>3.32</td>\n",
       "    </tr>\n",
       "    <tr>\n",
       "      <th>16</th>\n",
       "      <td>0.72</td>\n",
       "      <td>0.78</td>\n",
       "      <td>0.75</td>\n",
       "      <td>0.74</td>\n",
       "      <td>3.34</td>\n",
       "    </tr>\n",
       "    <tr>\n",
       "      <th>17</th>\n",
       "      <td>0.74</td>\n",
       "      <td>0.73</td>\n",
       "      <td>0.74</td>\n",
       "      <td>0.75</td>\n",
       "      <td>2.80</td>\n",
       "    </tr>\n",
       "    <tr>\n",
       "      <th>18</th>\n",
       "      <td>0.69</td>\n",
       "      <td>0.78</td>\n",
       "      <td>0.74</td>\n",
       "      <td>0.75</td>\n",
       "      <td>3.73</td>\n",
       "    </tr>\n",
       "    <tr>\n",
       "      <th>19</th>\n",
       "      <td>0.70</td>\n",
       "      <td>0.77</td>\n",
       "      <td>0.72</td>\n",
       "      <td>0.76</td>\n",
       "      <td>3.17</td>\n",
       "    </tr>\n",
       "  </tbody>\n",
       "</table>\n",
       "</div>"
      ],
      "text/plain": [
       "    train_loss  train_accuracy  val_loss  val_accuracy  epoch_duration\n",
       "0         2.08            0.24      1.83          0.28            3.17\n",
       "1         1.68            0.41      1.48          0.61            3.60\n",
       "2         1.42            0.59      1.26          0.64            3.26\n",
       "3         1.22            0.64      1.14          0.67            2.97\n",
       "4         1.14            0.60      1.05          0.67            3.57\n",
       "5         1.00            0.66      1.00          0.65            3.31\n",
       "6         0.96            0.67      0.95          0.69            3.30\n",
       "7         0.93            0.69      0.91          0.70            3.58\n",
       "8         0.93            0.72      0.89          0.71            3.07\n",
       "9         0.86            0.72      0.86          0.71            3.44\n",
       "10        0.83            0.72      0.85          0.71            3.30\n",
       "11        0.87            0.72      0.82          0.74            3.18\n",
       "12        0.85            0.74      0.81          0.73            3.02\n",
       "13        0.83            0.71      0.79          0.73            2.91\n",
       "14        0.77            0.73      0.78          0.74            3.83\n",
       "15        0.78            0.76      0.76          0.75            3.32\n",
       "16        0.72            0.78      0.75          0.74            3.34\n",
       "17        0.74            0.73      0.74          0.75            2.80\n",
       "18        0.69            0.78      0.74          0.75            3.73\n",
       "19        0.70            0.77      0.72          0.76            3.17"
      ]
     },
     "execution_count": 15,
     "metadata": {},
     "output_type": "execute_result"
    }
   ],
   "source": [
    "\"🔒\"\n",
    "reload(trainer_lib)\n",
    "\n",
    "model_linear = MyLinear()\n",
    "trainer = trainer_lib.Trainer(model_linear, train_dataloader, val_dataloader)\n",
    "trainer.reset()\n",
    "model_linear_log = trainer.train(epochs=20, max_batches=10)\n",
    "model_linear_log.round(2)"
   ]
  },
  {
   "cell_type": "markdown",
   "id": "29dfc81f-2ee4-4ff9-8ebd-7bf7ffb82484",
   "metadata": {
    "editable": false
   },
   "source": [
    "## MLP Models\n",
    "\n",
    "In this section, you are to construct a MLP model.  It uses `LazyLinear` to create a hidden dimension of 50, with activation `nn.ReLU` for the hidden layer."
   ]
  },
  {
   "cell_type": "code",
   "execution_count": null,
   "id": "b7633281",
   "metadata": {},
   "outputs": [],
   "source": [
    "\"✍️\"\n",
    "# @workUnit\n",
    "\n",
    "class MLPModel(torch.nn.Module):\n",
    "    def __init__(self):\n",
    "        super().__init__()\n",
    "        self.model = nn.Sequential(\n",
    "            # complete the following\n",
    "            nn.Flatten(),\n",
    "            nn.LazyLinear(50),\n",
    "            nn.ReLU(),\n",
    "            nn.LazyLinear(10),\n",
    "        )\n",
    "    def forward(self, x):\n",
    "        return self.model(x)"
   ]
  },
  {
   "cell_type": "code",
   "execution_count": null,
   "id": "fc77595c-5c58-4b14-9fad-0175c9b3ee73",
   "metadata": {
    "editable": false
   },
   "outputs": [
    {
     "name": "stdout",
     "output_type": "stream",
     "text": [
      "==================================================================\n",
      "                     Kernel Shape Output Shape  Params Mult-Adds\n",
      "Layer                                                           \n",
      "0_model.Flatten_0               -    [32, 784]       -         -\n",
      "1_model.LazyLinear_1    [784, 50]     [32, 50]  39.25k     39.2k\n",
      "2_model.ReLU_2                  -     [32, 50]       -         -\n",
      "3_model.LazyLinear_3     [50, 10]     [32, 10]   510.0     500.0\n",
      "------------------------------------------------------------------\n",
      "                      Totals\n",
      "Total params          39.76k\n",
      "Trainable params      39.76k\n",
      "Non-trainable params     0.0\n",
      "Mult-Adds              39.7k\n",
      "==================================================================\n"
     ]
    }
   ],
   "source": [
    "\"🔒\"\n",
    "# @check\n",
    "# @title: MLP model architecture\n",
    "\n",
    "model_mlp = MLPModel()\n",
    "summary(model_mlp, xs);"
   ]
  },
  {
   "cell_type": "markdown",
   "id": "8bf0b5fd-7c72-4773-95ab-c21658f656fc",
   "metadata": {
    "editable": false
   },
   "source": [
    "## Training MLP\n",
    "\n",
    "We will train the MLP model in 20 epochs with 10 batches per epoch.\n",
    "\n",
    "You should expect:\n",
    "\n",
    "- Total training time: 80 seconds\n",
    "- Final validation accuracy approximately 75% or higher."
   ]
  },
  {
   "cell_type": "code",
   "execution_count": null,
   "id": "3a24fafb-d480-44cc-b486-acb442371090",
   "metadata": {
    "editable": false
   },
   "outputs": [
    {
     "name": "stdout",
     "output_type": "stream",
     "text": [
      "[0 (4.67s)]: train_loss=2.17 train_acc=0.22, val_loss=2.01 val_acc=0.39\n",
      "[1 (5.68s)]: train_loss=1.86 train_acc=0.40, val_loss=1.71 val_acc=0.43\n",
      "[2 (4.80s)]: train_loss=1.56 train_acc=0.57, val_loss=1.46 val_acc=0.59\n",
      "[3 (4.90s)]: train_loss=1.29 train_acc=0.64, val_loss=1.27 val_acc=0.62\n",
      "[4 (5.31s)]: train_loss=1.28 train_acc=0.59, val_loss=1.15 val_acc=0.65\n",
      "[5 (3.50s)]: train_loss=1.08 train_acc=0.65, val_loss=1.07 val_acc=0.64\n",
      "[6 (5.19s)]: train_loss=1.00 train_acc=0.67, val_loss=0.95 val_acc=0.70\n",
      "[7 (4.30s)]: train_loss=0.96 train_acc=0.69, val_loss=0.91 val_acc=0.68\n",
      "[8 (3.50s)]: train_loss=0.89 train_acc=0.70, val_loss=0.86 val_acc=0.70\n",
      "[9 (5.60s)]: train_loss=0.92 train_acc=0.69, val_loss=0.85 val_acc=0.72\n",
      "[10 (4.81s)]: train_loss=0.93 train_acc=0.65, val_loss=0.80 val_acc=0.73\n",
      "[11 (4.20s)]: train_loss=0.76 train_acc=0.78, val_loss=0.80 val_acc=0.71\n",
      "[12 (4.69s)]: train_loss=0.79 train_acc=0.74, val_loss=0.77 val_acc=0.72\n",
      "[13 (4.24s)]: train_loss=0.76 train_acc=0.71, val_loss=0.74 val_acc=0.74\n",
      "[14 (4.29s)]: train_loss=0.73 train_acc=0.74, val_loss=0.74 val_acc=0.75\n",
      "[15 (5.57s)]: train_loss=0.68 train_acc=0.76, val_loss=0.72 val_acc=0.74\n",
      "[16 (4.41s)]: train_loss=0.76 train_acc=0.72, val_loss=0.71 val_acc=0.76\n",
      "[17 (4.60s)]: train_loss=0.73 train_acc=0.76, val_loss=0.74 val_acc=0.73\n",
      "[18 (4.29s)]: train_loss=0.72 train_acc=0.74, val_loss=0.69 val_acc=0.76\n",
      "[19 (5.52s)]: train_loss=0.67 train_acc=0.75, val_loss=0.68 val_acc=0.78\n",
      "== Total training time 94.08 seconds ==\n"
     ]
    },
    {
     "data": {
      "text/html": [
       "<div>\n",
       "<style scoped>\n",
       "    .dataframe tbody tr th:only-of-type {\n",
       "        vertical-align: middle;\n",
       "    }\n",
       "\n",
       "    .dataframe tbody tr th {\n",
       "        vertical-align: top;\n",
       "    }\n",
       "\n",
       "    .dataframe thead th {\n",
       "        text-align: right;\n",
       "    }\n",
       "</style>\n",
       "<table border=\"1\" class=\"dataframe\">\n",
       "  <thead>\n",
       "    <tr style=\"text-align: right;\">\n",
       "      <th></th>\n",
       "      <th>train_loss</th>\n",
       "      <th>train_accuracy</th>\n",
       "      <th>val_loss</th>\n",
       "      <th>val_accuracy</th>\n",
       "      <th>epoch_duration</th>\n",
       "    </tr>\n",
       "  </thead>\n",
       "  <tbody>\n",
       "    <tr>\n",
       "      <th>0</th>\n",
       "      <td>2.17</td>\n",
       "      <td>0.22</td>\n",
       "      <td>2.01</td>\n",
       "      <td>0.39</td>\n",
       "      <td>4.67</td>\n",
       "    </tr>\n",
       "    <tr>\n",
       "      <th>1</th>\n",
       "      <td>1.86</td>\n",
       "      <td>0.40</td>\n",
       "      <td>1.71</td>\n",
       "      <td>0.43</td>\n",
       "      <td>5.68</td>\n",
       "    </tr>\n",
       "    <tr>\n",
       "      <th>2</th>\n",
       "      <td>1.56</td>\n",
       "      <td>0.57</td>\n",
       "      <td>1.46</td>\n",
       "      <td>0.59</td>\n",
       "      <td>4.80</td>\n",
       "    </tr>\n",
       "    <tr>\n",
       "      <th>3</th>\n",
       "      <td>1.29</td>\n",
       "      <td>0.64</td>\n",
       "      <td>1.27</td>\n",
       "      <td>0.62</td>\n",
       "      <td>4.90</td>\n",
       "    </tr>\n",
       "    <tr>\n",
       "      <th>4</th>\n",
       "      <td>1.28</td>\n",
       "      <td>0.59</td>\n",
       "      <td>1.15</td>\n",
       "      <td>0.65</td>\n",
       "      <td>5.31</td>\n",
       "    </tr>\n",
       "    <tr>\n",
       "      <th>5</th>\n",
       "      <td>1.08</td>\n",
       "      <td>0.65</td>\n",
       "      <td>1.07</td>\n",
       "      <td>0.64</td>\n",
       "      <td>3.50</td>\n",
       "    </tr>\n",
       "    <tr>\n",
       "      <th>6</th>\n",
       "      <td>1.00</td>\n",
       "      <td>0.67</td>\n",
       "      <td>0.95</td>\n",
       "      <td>0.70</td>\n",
       "      <td>5.19</td>\n",
       "    </tr>\n",
       "    <tr>\n",
       "      <th>7</th>\n",
       "      <td>0.96</td>\n",
       "      <td>0.69</td>\n",
       "      <td>0.91</td>\n",
       "      <td>0.68</td>\n",
       "      <td>4.30</td>\n",
       "    </tr>\n",
       "    <tr>\n",
       "      <th>8</th>\n",
       "      <td>0.89</td>\n",
       "      <td>0.70</td>\n",
       "      <td>0.86</td>\n",
       "      <td>0.70</td>\n",
       "      <td>3.50</td>\n",
       "    </tr>\n",
       "    <tr>\n",
       "      <th>9</th>\n",
       "      <td>0.92</td>\n",
       "      <td>0.69</td>\n",
       "      <td>0.85</td>\n",
       "      <td>0.72</td>\n",
       "      <td>5.60</td>\n",
       "    </tr>\n",
       "    <tr>\n",
       "      <th>10</th>\n",
       "      <td>0.93</td>\n",
       "      <td>0.65</td>\n",
       "      <td>0.80</td>\n",
       "      <td>0.73</td>\n",
       "      <td>4.81</td>\n",
       "    </tr>\n",
       "    <tr>\n",
       "      <th>11</th>\n",
       "      <td>0.76</td>\n",
       "      <td>0.78</td>\n",
       "      <td>0.80</td>\n",
       "      <td>0.71</td>\n",
       "      <td>4.20</td>\n",
       "    </tr>\n",
       "    <tr>\n",
       "      <th>12</th>\n",
       "      <td>0.79</td>\n",
       "      <td>0.74</td>\n",
       "      <td>0.77</td>\n",
       "      <td>0.72</td>\n",
       "      <td>4.69</td>\n",
       "    </tr>\n",
       "    <tr>\n",
       "      <th>13</th>\n",
       "      <td>0.76</td>\n",
       "      <td>0.71</td>\n",
       "      <td>0.74</td>\n",
       "      <td>0.74</td>\n",
       "      <td>4.24</td>\n",
       "    </tr>\n",
       "    <tr>\n",
       "      <th>14</th>\n",
       "      <td>0.73</td>\n",
       "      <td>0.74</td>\n",
       "      <td>0.74</td>\n",
       "      <td>0.75</td>\n",
       "      <td>4.29</td>\n",
       "    </tr>\n",
       "    <tr>\n",
       "      <th>15</th>\n",
       "      <td>0.68</td>\n",
       "      <td>0.76</td>\n",
       "      <td>0.72</td>\n",
       "      <td>0.74</td>\n",
       "      <td>5.57</td>\n",
       "    </tr>\n",
       "    <tr>\n",
       "      <th>16</th>\n",
       "      <td>0.76</td>\n",
       "      <td>0.72</td>\n",
       "      <td>0.71</td>\n",
       "      <td>0.76</td>\n",
       "      <td>4.41</td>\n",
       "    </tr>\n",
       "    <tr>\n",
       "      <th>17</th>\n",
       "      <td>0.73</td>\n",
       "      <td>0.76</td>\n",
       "      <td>0.74</td>\n",
       "      <td>0.73</td>\n",
       "      <td>4.60</td>\n",
       "    </tr>\n",
       "    <tr>\n",
       "      <th>18</th>\n",
       "      <td>0.72</td>\n",
       "      <td>0.74</td>\n",
       "      <td>0.69</td>\n",
       "      <td>0.76</td>\n",
       "      <td>4.29</td>\n",
       "    </tr>\n",
       "    <tr>\n",
       "      <th>19</th>\n",
       "      <td>0.67</td>\n",
       "      <td>0.75</td>\n",
       "      <td>0.68</td>\n",
       "      <td>0.78</td>\n",
       "      <td>5.52</td>\n",
       "    </tr>\n",
       "  </tbody>\n",
       "</table>\n",
       "</div>"
      ],
      "text/plain": [
       "    train_loss  train_accuracy  val_loss  val_accuracy  epoch_duration\n",
       "0         2.17            0.22      2.01          0.39            4.67\n",
       "1         1.86            0.40      1.71          0.43            5.68\n",
       "2         1.56            0.57      1.46          0.59            4.80\n",
       "3         1.29            0.64      1.27          0.62            4.90\n",
       "4         1.28            0.59      1.15          0.65            5.31\n",
       "5         1.08            0.65      1.07          0.64            3.50\n",
       "6         1.00            0.67      0.95          0.70            5.19\n",
       "7         0.96            0.69      0.91          0.68            4.30\n",
       "8         0.89            0.70      0.86          0.70            3.50\n",
       "9         0.92            0.69      0.85          0.72            5.60\n",
       "10        0.93            0.65      0.80          0.73            4.81\n",
       "11        0.76            0.78      0.80          0.71            4.20\n",
       "12        0.79            0.74      0.77          0.72            4.69\n",
       "13        0.76            0.71      0.74          0.74            4.24\n",
       "14        0.73            0.74      0.74          0.75            4.29\n",
       "15        0.68            0.76      0.72          0.74            5.57\n",
       "16        0.76            0.72      0.71          0.76            4.41\n",
       "17        0.73            0.76      0.74          0.73            4.60\n",
       "18        0.72            0.74      0.69          0.76            4.29\n",
       "19        0.67            0.75      0.68          0.78            5.52"
      ]
     },
     "execution_count": 18,
     "metadata": {},
     "output_type": "execute_result"
    }
   ],
   "source": [
    "\"🔒\"\n",
    "model_mlp = MLPModel()\n",
    "reload(trainer_lib)\n",
    "trainer = trainer_lib.Trainer(model_mlp, train_dataloader, val_dataloader)\n",
    "trainer.reset()\n",
    "model_mlp_log = trainer.train(epochs=20, max_batches=10)\n",
    "model_mlp_log.round(2)"
   ]
  },
  {
   "cell_type": "markdown",
   "id": "c881b851-ee30-4223-a42a-012b08ff7682",
   "metadata": {
    "editable": false
   },
   "source": [
    "## Convolution based networks\n",
    "\n",
    "In this section, we will construct a simple convolutional network.  It consists of the following layers:\n",
    "\n",
    "- 2D convolution with the `num_kernels` kernels of size `kernel_size`.\n",
    "- Max pooling with pooling size `pool_size`.\n",
    "- ReLU activation\n",
    "- Flatten the max pooling output to a vector\n",
    "- A (lazy) linear layer that maps to 10 dimensional logits vector"
   ]
  },
  {
   "cell_type": "code",
   "execution_count": null,
   "id": "3b366334",
   "metadata": {},
   "outputs": [],
   "source": [
    "\"✍️\"\n",
    "# @workUnit\n",
    "\n",
    "class LinearCNNModel(nn.Module):\n",
    "    def __init__(self, num_kernels, kernel_size, pool_size):\n",
    "        super().__init__()\n",
    "        self.model = nn.Sequential(\n",
    "            # complete the following\n",
    "            nn.Conv2d(1, num_kernels, kernel_size, padding='same'),\n",
    "            nn.MaxPool2d(pool_size),\n",
    "            nn.ReLU(),\n",
    "            nn.Flatten(),\n",
    "            nn.LazyLinear(10)\n",
    "        )\n",
    "    def forward(self, x):\n",
    "        return self.model(x)"
   ]
  },
  {
   "cell_type": "markdown",
   "id": "cff324da-777e-4e02-b108-229ef0a4e74f",
   "metadata": {
    "editable": false
   },
   "source": [
    "We will construct a convolutional network with 5 kernels, with kernel size 3, and pooling size of 2."
   ]
  },
  {
   "cell_type": "code",
   "execution_count": null,
   "id": "2b610065-ed37-434c-96f0-dec8ee3a0e4c",
   "metadata": {
    "editable": false
   },
   "outputs": [
    {
     "name": "stdout",
     "output_type": "stream",
     "text": [
      "======================================================================\n",
      "                      Kernel Shape     Output Shape Params Mult-Adds\n",
      "Layer                                                               \n",
      "0_model.Conv2d_0      [1, 5, 3, 3]  [32, 5, 28, 28]   50.0    35.28k\n",
      "1_model.MaxPool2d_1              -  [32, 5, 14, 14]      -         -\n",
      "2_model.ReLU_2                   -  [32, 5, 14, 14]      -         -\n",
      "3_model.Flatten_3                -        [32, 980]      -         -\n",
      "4_model.LazyLinear_4     [980, 10]         [32, 10]  9.81k      9.8k\n",
      "----------------------------------------------------------------------\n",
      "                      Totals\n",
      "Total params           9.86k\n",
      "Trainable params       9.86k\n",
      "Non-trainable params     0.0\n",
      "Mult-Adds             45.08k\n",
      "======================================================================\n"
     ]
    }
   ],
   "source": [
    "\"🔒\"\n",
    "# @check\n",
    "# @title: CNN Linear architecture\n",
    "\n",
    "model_cnn_linear = LinearCNNModel(5, 3, 2)\n",
    "summary(model_cnn_linear, xs);"
   ]
  },
  {
   "cell_type": "markdown",
   "id": "5df0e979-fcbc-4214-9a8c-e8588f6c1f92",
   "metadata": {
    "editable": false
   },
   "source": [
    "## Training of Convolutional Network\n",
    "\n",
    "We will train a convolutional network using 20 epochs, and 10 batches per epoch.\n",
    "\n",
    "You should expect:\n",
    "\n",
    "- Total training time: 120 seconds\n",
    "- Validation accuracy approximately 76% or higher."
   ]
  },
  {
   "cell_type": "code",
   "execution_count": null,
   "id": "01de5979-0ecd-44cd-a353-e3faa9035945",
   "metadata": {
    "editable": false
   },
   "outputs": [
    {
     "name": "stdout",
     "output_type": "stream",
     "text": [
      "[0 (8.97s)]: train_loss=2.19 train_acc=0.22, val_loss=2.02 val_acc=0.40\n",
      "[1 (6.70s)]: train_loss=1.90 train_acc=0.47, val_loss=1.74 val_acc=0.61\n",
      "[2 (8.00s)]: train_loss=1.65 train_acc=0.56, val_loss=1.47 val_acc=0.62\n",
      "[3 (7.13s)]: train_loss=1.37 train_acc=0.66, val_loss=1.25 val_acc=0.63\n",
      "[4 (6.85s)]: train_loss=1.16 train_acc=0.67, val_loss=1.08 val_acc=0.69\n",
      "[5 (7.12s)]: train_loss=1.00 train_acc=0.72, val_loss=0.97 val_acc=0.70\n",
      "[6 (8.41s)]: train_loss=0.90 train_acc=0.72, val_loss=0.88 val_acc=0.71\n",
      "[7 (7.70s)]: train_loss=0.85 train_acc=0.70, val_loss=0.84 val_acc=0.72\n",
      "[8 (7.68s)]: train_loss=0.78 train_acc=0.72, val_loss=0.80 val_acc=0.73\n",
      "[9 (8.40s)]: train_loss=0.78 train_acc=0.72, val_loss=0.77 val_acc=0.73\n",
      "[10 (7.80s)]: train_loss=0.73 train_acc=0.74, val_loss=0.75 val_acc=0.74\n",
      "[11 (7.00s)]: train_loss=0.76 train_acc=0.74, val_loss=0.71 val_acc=0.76\n",
      "[12 (8.21s)]: train_loss=0.72 train_acc=0.76, val_loss=0.71 val_acc=0.75\n",
      "[13 (7.19s)]: train_loss=0.63 train_acc=0.77, val_loss=0.69 val_acc=0.76\n",
      "[14 (7.24s)]: train_loss=0.72 train_acc=0.73, val_loss=0.67 val_acc=0.76\n",
      "[15 (7.76s)]: train_loss=0.66 train_acc=0.76, val_loss=0.65 val_acc=0.78\n",
      "[16 (8.00s)]: train_loss=0.79 train_acc=0.74, val_loss=0.66 val_acc=0.77\n",
      "[17 (7.99s)]: train_loss=0.61 train_acc=0.77, val_loss=0.66 val_acc=0.76\n",
      "[18 (8.01s)]: train_loss=0.60 train_acc=0.80, val_loss=0.66 val_acc=0.76\n",
      "[19 (8.10s)]: train_loss=0.69 train_acc=0.74, val_loss=0.64 val_acc=0.76\n",
      "== Total training time 154.38 seconds ==\n"
     ]
    },
    {
     "data": {
      "text/html": [
       "<div>\n",
       "<style scoped>\n",
       "    .dataframe tbody tr th:only-of-type {\n",
       "        vertical-align: middle;\n",
       "    }\n",
       "\n",
       "    .dataframe tbody tr th {\n",
       "        vertical-align: top;\n",
       "    }\n",
       "\n",
       "    .dataframe thead th {\n",
       "        text-align: right;\n",
       "    }\n",
       "</style>\n",
       "<table border=\"1\" class=\"dataframe\">\n",
       "  <thead>\n",
       "    <tr style=\"text-align: right;\">\n",
       "      <th></th>\n",
       "      <th>train_loss</th>\n",
       "      <th>train_accuracy</th>\n",
       "      <th>val_loss</th>\n",
       "      <th>val_accuracy</th>\n",
       "      <th>epoch_duration</th>\n",
       "    </tr>\n",
       "  </thead>\n",
       "  <tbody>\n",
       "    <tr>\n",
       "      <th>0</th>\n",
       "      <td>2.19</td>\n",
       "      <td>0.22</td>\n",
       "      <td>2.02</td>\n",
       "      <td>0.40</td>\n",
       "      <td>8.97</td>\n",
       "    </tr>\n",
       "    <tr>\n",
       "      <th>1</th>\n",
       "      <td>1.90</td>\n",
       "      <td>0.48</td>\n",
       "      <td>1.74</td>\n",
       "      <td>0.61</td>\n",
       "      <td>6.70</td>\n",
       "    </tr>\n",
       "    <tr>\n",
       "      <th>2</th>\n",
       "      <td>1.65</td>\n",
       "      <td>0.56</td>\n",
       "      <td>1.47</td>\n",
       "      <td>0.62</td>\n",
       "      <td>8.00</td>\n",
       "    </tr>\n",
       "    <tr>\n",
       "      <th>3</th>\n",
       "      <td>1.37</td>\n",
       "      <td>0.66</td>\n",
       "      <td>1.25</td>\n",
       "      <td>0.63</td>\n",
       "      <td>7.13</td>\n",
       "    </tr>\n",
       "    <tr>\n",
       "      <th>4</th>\n",
       "      <td>1.16</td>\n",
       "      <td>0.67</td>\n",
       "      <td>1.08</td>\n",
       "      <td>0.69</td>\n",
       "      <td>6.85</td>\n",
       "    </tr>\n",
       "    <tr>\n",
       "      <th>5</th>\n",
       "      <td>1.00</td>\n",
       "      <td>0.72</td>\n",
       "      <td>0.97</td>\n",
       "      <td>0.70</td>\n",
       "      <td>7.12</td>\n",
       "    </tr>\n",
       "    <tr>\n",
       "      <th>6</th>\n",
       "      <td>0.90</td>\n",
       "      <td>0.72</td>\n",
       "      <td>0.88</td>\n",
       "      <td>0.71</td>\n",
       "      <td>8.41</td>\n",
       "    </tr>\n",
       "    <tr>\n",
       "      <th>7</th>\n",
       "      <td>0.85</td>\n",
       "      <td>0.70</td>\n",
       "      <td>0.84</td>\n",
       "      <td>0.72</td>\n",
       "      <td>7.70</td>\n",
       "    </tr>\n",
       "    <tr>\n",
       "      <th>8</th>\n",
       "      <td>0.78</td>\n",
       "      <td>0.72</td>\n",
       "      <td>0.80</td>\n",
       "      <td>0.73</td>\n",
       "      <td>7.68</td>\n",
       "    </tr>\n",
       "    <tr>\n",
       "      <th>9</th>\n",
       "      <td>0.78</td>\n",
       "      <td>0.72</td>\n",
       "      <td>0.77</td>\n",
       "      <td>0.73</td>\n",
       "      <td>8.40</td>\n",
       "    </tr>\n",
       "    <tr>\n",
       "      <th>10</th>\n",
       "      <td>0.73</td>\n",
       "      <td>0.74</td>\n",
       "      <td>0.75</td>\n",
       "      <td>0.74</td>\n",
       "      <td>7.80</td>\n",
       "    </tr>\n",
       "    <tr>\n",
       "      <th>11</th>\n",
       "      <td>0.76</td>\n",
       "      <td>0.74</td>\n",
       "      <td>0.71</td>\n",
       "      <td>0.76</td>\n",
       "      <td>7.00</td>\n",
       "    </tr>\n",
       "    <tr>\n",
       "      <th>12</th>\n",
       "      <td>0.72</td>\n",
       "      <td>0.76</td>\n",
       "      <td>0.71</td>\n",
       "      <td>0.75</td>\n",
       "      <td>8.21</td>\n",
       "    </tr>\n",
       "    <tr>\n",
       "      <th>13</th>\n",
       "      <td>0.63</td>\n",
       "      <td>0.77</td>\n",
       "      <td>0.69</td>\n",
       "      <td>0.76</td>\n",
       "      <td>7.19</td>\n",
       "    </tr>\n",
       "    <tr>\n",
       "      <th>14</th>\n",
       "      <td>0.72</td>\n",
       "      <td>0.73</td>\n",
       "      <td>0.67</td>\n",
       "      <td>0.76</td>\n",
       "      <td>7.24</td>\n",
       "    </tr>\n",
       "    <tr>\n",
       "      <th>15</th>\n",
       "      <td>0.66</td>\n",
       "      <td>0.76</td>\n",
       "      <td>0.65</td>\n",
       "      <td>0.78</td>\n",
       "      <td>7.76</td>\n",
       "    </tr>\n",
       "    <tr>\n",
       "      <th>16</th>\n",
       "      <td>0.79</td>\n",
       "      <td>0.74</td>\n",
       "      <td>0.66</td>\n",
       "      <td>0.77</td>\n",
       "      <td>8.00</td>\n",
       "    </tr>\n",
       "    <tr>\n",
       "      <th>17</th>\n",
       "      <td>0.61</td>\n",
       "      <td>0.77</td>\n",
       "      <td>0.66</td>\n",
       "      <td>0.76</td>\n",
       "      <td>7.99</td>\n",
       "    </tr>\n",
       "    <tr>\n",
       "      <th>18</th>\n",
       "      <td>0.60</td>\n",
       "      <td>0.80</td>\n",
       "      <td>0.66</td>\n",
       "      <td>0.76</td>\n",
       "      <td>8.01</td>\n",
       "    </tr>\n",
       "    <tr>\n",
       "      <th>19</th>\n",
       "      <td>0.69</td>\n",
       "      <td>0.74</td>\n",
       "      <td>0.64</td>\n",
       "      <td>0.76</td>\n",
       "      <td>8.10</td>\n",
       "    </tr>\n",
       "  </tbody>\n",
       "</table>\n",
       "</div>"
      ],
      "text/plain": [
       "    train_loss  train_accuracy  val_loss  val_accuracy  epoch_duration\n",
       "0         2.19            0.22      2.02          0.40            8.97\n",
       "1         1.90            0.48      1.74          0.61            6.70\n",
       "2         1.65            0.56      1.47          0.62            8.00\n",
       "3         1.37            0.66      1.25          0.63            7.13\n",
       "4         1.16            0.67      1.08          0.69            6.85\n",
       "5         1.00            0.72      0.97          0.70            7.12\n",
       "6         0.90            0.72      0.88          0.71            8.41\n",
       "7         0.85            0.70      0.84          0.72            7.70\n",
       "8         0.78            0.72      0.80          0.73            7.68\n",
       "9         0.78            0.72      0.77          0.73            8.40\n",
       "10        0.73            0.74      0.75          0.74            7.80\n",
       "11        0.76            0.74      0.71          0.76            7.00\n",
       "12        0.72            0.76      0.71          0.75            8.21\n",
       "13        0.63            0.77      0.69          0.76            7.19\n",
       "14        0.72            0.73      0.67          0.76            7.24\n",
       "15        0.66            0.76      0.65          0.78            7.76\n",
       "16        0.79            0.74      0.66          0.77            8.00\n",
       "17        0.61            0.77      0.66          0.76            7.99\n",
       "18        0.60            0.80      0.66          0.76            8.01\n",
       "19        0.69            0.74      0.64          0.76            8.10"
      ]
     },
     "execution_count": 21,
     "metadata": {},
     "output_type": "execute_result"
    }
   ],
   "source": [
    "\"🔒\"\n",
    "reload(trainer_lib)\n",
    "trainer = trainer_lib.Trainer(model_cnn_linear, train_dataloader, val_dataloader)\n",
    "trainer.reset()\n",
    "model_cnn_linear_log = trainer.train(epochs=20, max_batches=10)\n",
    "model_cnn_linear_log.round(2)"
   ]
  },
  {
   "cell_type": "markdown",
   "id": "73d52a41-5a8b-4646-8535-0b58c0d68b17",
   "metadata": {
    "editable": false
   },
   "source": [
    "## Deep Conv model\n",
    "\n",
    "We will construct a **deep convolutional** network with the following layers:\n",
    "\n",
    "- Conv2d with 16 kernels of size 5, with `padding='same'`\n",
    "- MaxPool2d with pooling size of 2\n",
    "- Conv2d with 32 kernels of size 3, with padding\n",
    "- MaxPool2d with pooling size of 2\n",
    "- Flatten the maxpooling output to a vector\n",
    "- a MLP with hidden layer of 50, and ReLU is used as the activation function, and its output layer produces the 10 dimensional logits vector"
   ]
  },
  {
   "cell_type": "code",
   "execution_count": null,
   "id": "bfd3c9ef",
   "metadata": {},
   "outputs": [],
   "source": [
    "\"✍️\"\n",
    "# @workUnit\n",
    "\n",
    "class DeepCNNModel(nn.Module):\n",
    "    def __init__(self):\n",
    "        super().__init__()\n",
    "        self.model = nn.Sequential(\n",
    "            # complete the following\n",
    "            nn.Conv2d(1, 16, 5, padding='same'),\n",
    "            nn.MaxPool2d(2),\n",
    "            nn.Conv2d(16, 32, 3, padding=1),\n",
    "            nn.MaxPool2d(2),\n",
    "            nn.Flatten(),\n",
    "            nn.LazyLinear(50),\n",
    "            nn.ReLU(),\n",
    "            nn.LazyLinear(10)\n",
    "            \n",
    "        )\n",
    "    def forward(self, x):\n",
    "        return self.model(x)"
   ]
  },
  {
   "cell_type": "code",
   "execution_count": null,
   "id": "f81dd3f3-7bc9-45df-b8a7-63fb01dbc1bd",
   "metadata": {
    "editable": false
   },
   "outputs": [
    {
     "name": "stdout",
     "output_type": "stream",
     "text": [
      "==========================================================================\n",
      "                        Kernel Shape      Output Shape  Params Mult-Adds\n",
      "Layer                                                                   \n",
      "0_model.Conv2d_0       [1, 16, 5, 5]  [32, 16, 28, 28]   416.0    313.6k\n",
      "1_model.MaxPool2d_1                -  [32, 16, 14, 14]       -         -\n",
      "2_model.Conv2d_2      [16, 32, 3, 3]  [32, 32, 14, 14]   4.64k  903.168k\n",
      "3_model.MaxPool2d_3                -    [32, 32, 7, 7]       -         -\n",
      "4_model.Flatten_4                  -        [32, 1568]       -         -\n",
      "5_model.LazyLinear_5      [1568, 50]          [32, 50]  78.45k     78.4k\n",
      "6_model.ReLU_6                     -          [32, 50]       -         -\n",
      "7_model.LazyLinear_7        [50, 10]          [32, 10]   510.0     500.0\n",
      "--------------------------------------------------------------------------\n",
      "                         Totals\n",
      "Total params            84.016k\n",
      "Trainable params        84.016k\n",
      "Non-trainable params        0.0\n",
      "Mult-Adds             1.295668M\n",
      "==========================================================================\n"
     ]
    }
   ],
   "source": [
    "\"🔒\"\n",
    "# @check\n",
    "# @title: deep cnn architecture\n",
    "\n",
    "model_cnn_deep = DeepCNNModel()\n",
    "summary(model_cnn_deep, xs);"
   ]
  },
  {
   "cell_type": "markdown",
   "id": "33f7af6b-39a6-4da4-8c9c-7b2217e01b39",
   "metadata": {
    "editable": false
   },
   "source": [
    "## Training the deep CNN network\n",
    "\n",
    "We train the deep convolutional network.\n",
    "\n",
    "You should expect:\n",
    "\n",
    "- Total training time: 250 seconds\n",
    "- Validation accuracy should be close to or exceeds 80%."
   ]
  },
  {
   "cell_type": "code",
   "execution_count": null,
   "id": "9a4db99d-771c-4289-9510-eb9d1170df9b",
   "metadata": {
    "editable": false
   },
   "outputs": [
    {
     "name": "stdout",
     "output_type": "stream",
     "text": [
      "[0 (16.08s)]: train_loss=2.16 train_acc=0.17, val_loss=1.93 val_acc=0.31\n",
      "[1 (14.90s)]: train_loss=1.62 train_acc=0.37, val_loss=1.36 val_acc=0.49\n",
      "[2 (15.51s)]: train_loss=1.20 train_acc=0.58, val_loss=1.03 val_acc=0.63\n",
      "[3 (13.59s)]: train_loss=0.99 train_acc=0.65, val_loss=0.90 val_acc=0.67\n",
      "[4 (13.20s)]: train_loss=0.84 train_acc=0.66, val_loss=0.85 val_acc=0.67\n",
      "[5 (14.89s)]: train_loss=0.76 train_acc=0.72, val_loss=0.91 val_acc=0.70\n",
      "[6 (13.80s)]: train_loss=0.87 train_acc=0.71, val_loss=0.84 val_acc=0.68\n",
      "[7 (13.71s)]: train_loss=0.66 train_acc=0.74, val_loss=0.75 val_acc=0.71\n",
      "[8 (13.90s)]: train_loss=0.78 train_acc=0.74, val_loss=0.78 val_acc=0.72\n",
      "[9 (14.19s)]: train_loss=0.80 train_acc=0.71, val_loss=0.69 val_acc=0.75\n",
      "[10 (14.30s)]: train_loss=0.65 train_acc=0.74, val_loss=0.70 val_acc=0.75\n",
      "[11 (14.10s)]: train_loss=0.66 train_acc=0.73, val_loss=0.68 val_acc=0.75\n",
      "[12 (12.61s)]: train_loss=0.67 train_acc=0.73, val_loss=0.70 val_acc=0.76\n",
      "[13 (14.20s)]: train_loss=0.66 train_acc=0.77, val_loss=0.62 val_acc=0.77\n",
      "[14 (13.20s)]: train_loss=0.64 train_acc=0.79, val_loss=0.65 val_acc=0.77\n",
      "[15 (14.11s)]: train_loss=0.62 train_acc=0.77, val_loss=0.63 val_acc=0.77\n",
      "[16 (13.70s)]: train_loss=0.69 train_acc=0.74, val_loss=0.66 val_acc=0.76\n",
      "[17 (13.71s)]: train_loss=0.64 train_acc=0.76, val_loss=0.63 val_acc=0.76\n",
      "[18 (13.99s)]: train_loss=0.61 train_acc=0.75, val_loss=0.60 val_acc=0.77\n",
      "[19 (13.50s)]: train_loss=0.59 train_acc=0.78, val_loss=0.59 val_acc=0.79\n",
      "== Total training time 281.39 seconds ==\n"
     ]
    },
    {
     "data": {
      "text/html": [
       "<div>\n",
       "<style scoped>\n",
       "    .dataframe tbody tr th:only-of-type {\n",
       "        vertical-align: middle;\n",
       "    }\n",
       "\n",
       "    .dataframe tbody tr th {\n",
       "        vertical-align: top;\n",
       "    }\n",
       "\n",
       "    .dataframe thead th {\n",
       "        text-align: right;\n",
       "    }\n",
       "</style>\n",
       "<table border=\"1\" class=\"dataframe\">\n",
       "  <thead>\n",
       "    <tr style=\"text-align: right;\">\n",
       "      <th></th>\n",
       "      <th>train_loss</th>\n",
       "      <th>train_accuracy</th>\n",
       "      <th>val_loss</th>\n",
       "      <th>val_accuracy</th>\n",
       "      <th>epoch_duration</th>\n",
       "    </tr>\n",
       "  </thead>\n",
       "  <tbody>\n",
       "    <tr>\n",
       "      <th>0</th>\n",
       "      <td>2.16</td>\n",
       "      <td>0.18</td>\n",
       "      <td>1.93</td>\n",
       "      <td>0.31</td>\n",
       "      <td>16.08</td>\n",
       "    </tr>\n",
       "    <tr>\n",
       "      <th>1</th>\n",
       "      <td>1.62</td>\n",
       "      <td>0.37</td>\n",
       "      <td>1.36</td>\n",
       "      <td>0.49</td>\n",
       "      <td>14.90</td>\n",
       "    </tr>\n",
       "    <tr>\n",
       "      <th>2</th>\n",
       "      <td>1.20</td>\n",
       "      <td>0.58</td>\n",
       "      <td>1.03</td>\n",
       "      <td>0.63</td>\n",
       "      <td>15.51</td>\n",
       "    </tr>\n",
       "    <tr>\n",
       "      <th>3</th>\n",
       "      <td>0.99</td>\n",
       "      <td>0.65</td>\n",
       "      <td>0.90</td>\n",
       "      <td>0.67</td>\n",
       "      <td>13.59</td>\n",
       "    </tr>\n",
       "    <tr>\n",
       "      <th>4</th>\n",
       "      <td>0.84</td>\n",
       "      <td>0.66</td>\n",
       "      <td>0.85</td>\n",
       "      <td>0.67</td>\n",
       "      <td>13.20</td>\n",
       "    </tr>\n",
       "    <tr>\n",
       "      <th>5</th>\n",
       "      <td>0.76</td>\n",
       "      <td>0.72</td>\n",
       "      <td>0.91</td>\n",
       "      <td>0.70</td>\n",
       "      <td>14.89</td>\n",
       "    </tr>\n",
       "    <tr>\n",
       "      <th>6</th>\n",
       "      <td>0.87</td>\n",
       "      <td>0.71</td>\n",
       "      <td>0.84</td>\n",
       "      <td>0.68</td>\n",
       "      <td>13.80</td>\n",
       "    </tr>\n",
       "    <tr>\n",
       "      <th>7</th>\n",
       "      <td>0.66</td>\n",
       "      <td>0.74</td>\n",
       "      <td>0.75</td>\n",
       "      <td>0.71</td>\n",
       "      <td>13.71</td>\n",
       "    </tr>\n",
       "    <tr>\n",
       "      <th>8</th>\n",
       "      <td>0.78</td>\n",
       "      <td>0.74</td>\n",
       "      <td>0.78</td>\n",
       "      <td>0.72</td>\n",
       "      <td>13.90</td>\n",
       "    </tr>\n",
       "    <tr>\n",
       "      <th>9</th>\n",
       "      <td>0.80</td>\n",
       "      <td>0.71</td>\n",
       "      <td>0.69</td>\n",
       "      <td>0.75</td>\n",
       "      <td>14.19</td>\n",
       "    </tr>\n",
       "    <tr>\n",
       "      <th>10</th>\n",
       "      <td>0.65</td>\n",
       "      <td>0.74</td>\n",
       "      <td>0.70</td>\n",
       "      <td>0.75</td>\n",
       "      <td>14.30</td>\n",
       "    </tr>\n",
       "    <tr>\n",
       "      <th>11</th>\n",
       "      <td>0.66</td>\n",
       "      <td>0.73</td>\n",
       "      <td>0.68</td>\n",
       "      <td>0.75</td>\n",
       "      <td>14.10</td>\n",
       "    </tr>\n",
       "    <tr>\n",
       "      <th>12</th>\n",
       "      <td>0.67</td>\n",
       "      <td>0.73</td>\n",
       "      <td>0.70</td>\n",
       "      <td>0.76</td>\n",
       "      <td>12.61</td>\n",
       "    </tr>\n",
       "    <tr>\n",
       "      <th>13</th>\n",
       "      <td>0.66</td>\n",
       "      <td>0.77</td>\n",
       "      <td>0.62</td>\n",
       "      <td>0.77</td>\n",
       "      <td>14.20</td>\n",
       "    </tr>\n",
       "    <tr>\n",
       "      <th>14</th>\n",
       "      <td>0.64</td>\n",
       "      <td>0.79</td>\n",
       "      <td>0.65</td>\n",
       "      <td>0.77</td>\n",
       "      <td>13.20</td>\n",
       "    </tr>\n",
       "    <tr>\n",
       "      <th>15</th>\n",
       "      <td>0.62</td>\n",
       "      <td>0.77</td>\n",
       "      <td>0.63</td>\n",
       "      <td>0.77</td>\n",
       "      <td>14.11</td>\n",
       "    </tr>\n",
       "    <tr>\n",
       "      <th>16</th>\n",
       "      <td>0.69</td>\n",
       "      <td>0.74</td>\n",
       "      <td>0.66</td>\n",
       "      <td>0.76</td>\n",
       "      <td>13.70</td>\n",
       "    </tr>\n",
       "    <tr>\n",
       "      <th>17</th>\n",
       "      <td>0.64</td>\n",
       "      <td>0.76</td>\n",
       "      <td>0.63</td>\n",
       "      <td>0.76</td>\n",
       "      <td>13.71</td>\n",
       "    </tr>\n",
       "    <tr>\n",
       "      <th>18</th>\n",
       "      <td>0.61</td>\n",
       "      <td>0.75</td>\n",
       "      <td>0.60</td>\n",
       "      <td>0.77</td>\n",
       "      <td>13.99</td>\n",
       "    </tr>\n",
       "    <tr>\n",
       "      <th>19</th>\n",
       "      <td>0.59</td>\n",
       "      <td>0.78</td>\n",
       "      <td>0.59</td>\n",
       "      <td>0.78</td>\n",
       "      <td>13.50</td>\n",
       "    </tr>\n",
       "  </tbody>\n",
       "</table>\n",
       "</div>"
      ],
      "text/plain": [
       "    train_loss  train_accuracy  val_loss  val_accuracy  epoch_duration\n",
       "0         2.16            0.18      1.93          0.31           16.08\n",
       "1         1.62            0.37      1.36          0.49           14.90\n",
       "2         1.20            0.58      1.03          0.63           15.51\n",
       "3         0.99            0.65      0.90          0.67           13.59\n",
       "4         0.84            0.66      0.85          0.67           13.20\n",
       "5         0.76            0.72      0.91          0.70           14.89\n",
       "6         0.87            0.71      0.84          0.68           13.80\n",
       "7         0.66            0.74      0.75          0.71           13.71\n",
       "8         0.78            0.74      0.78          0.72           13.90\n",
       "9         0.80            0.71      0.69          0.75           14.19\n",
       "10        0.65            0.74      0.70          0.75           14.30\n",
       "11        0.66            0.73      0.68          0.75           14.10\n",
       "12        0.67            0.73      0.70          0.76           12.61\n",
       "13        0.66            0.77      0.62          0.77           14.20\n",
       "14        0.64            0.79      0.65          0.77           13.20\n",
       "15        0.62            0.77      0.63          0.77           14.11\n",
       "16        0.69            0.74      0.66          0.76           13.70\n",
       "17        0.64            0.76      0.63          0.76           13.71\n",
       "18        0.61            0.75      0.60          0.77           13.99\n",
       "19        0.59            0.78      0.59          0.78           13.50"
      ]
     },
     "execution_count": 24,
     "metadata": {},
     "output_type": "execute_result"
    }
   ],
   "source": [
    "\"🔒\"\n",
    "reload(trainer_lib)\n",
    "trainer = trainer_lib.Trainer(model_cnn_deep, train_dataloader, val_dataloader)\n",
    "trainer.reset()\n",
    "model_cnn_deep_log = trainer.train(epochs=20, max_batches=10)\n",
    "model_cnn_deep_log.round(2)"
   ]
  },
  {
   "cell_type": "markdown",
   "id": "16792f78-7445-4841-bac7-553bd67fc143",
   "metadata": {
    "editable": false
   },
   "source": [
    "## Plot\n",
    "\n",
    "The following plots the training accuracy."
   ]
  },
  {
   "cell_type": "code",
   "execution_count": null,
   "id": "af1c2c96-9386-47f0-9bae-f22d64074438",
   "metadata": {
    "editable": false
   },
   "outputs": [
    {
     "data": {
      "image/png": "[encoded data removed]",
      "text/plain": [
       "<Figure size 640x480 with 1 Axes>"
      ]
     },
     "metadata": {},
     "output_type": "display_data"
    }
   ],
   "source": [
    "\"🔒\"\n",
    "plt.figure()\n",
    "plt.plot(model_linear_log.index, model_linear_log.train_accuracy)\n",
    "plt.plot(model_mlp_log.index, model_mlp_log.train_accuracy)\n",
    "plt.plot(model_cnn_linear_log.index, model_cnn_linear_log.train_accuracy)\n",
    "plt.plot(model_cnn_deep_log.index, model_cnn_deep_log.train_accuracy)\n",
    "\n",
    "plt.title('Training Accuracy')\n",
    "plt.xlabel('Epochs')\n",
    "plt.ylabel('Accuracy')\n",
    "plt.legend(['Linear', 'MLP', 'CNN', 'Deep CNN']);"
   ]
  },
  {
   "cell_type": "markdown",
   "id": "1eb348a7-c40a-4460-8637-845b395281e6",
   "metadata": {
    "editable": false
   },
   "source": [
    "### Plot the validation accuracy\n",
    "\n",
    "Make sure you properly label the plot and the axes."
   ]
  },
  {
   "cell_type": "code",
   "execution_count": null,
   "id": "dbf33a21",
   "metadata": {},
   "outputs": [
    {
     "data": {
      "text/plain": [
       "'✍️'"
      ]
     },
     "execution_count": 26,
     "metadata": {},
     "output_type": "execute_result"
    }
   ],
   "source": [
    "\"✍️\"\n",
    "# @workUnit\n",
    "\n",
    "#\n",
    "# Generate the validation accuracy of the different models\n",
    "#"
   ]
  }
 ],
 "metadata": {
  "kernelspec": {
   "display_name": "Python 3 (ipykernel)",
   "language": "python",
   "name": "python3"
  },
  "language_info": {
   "codemirror_mode": {
    "name": "ipython",
    "version": 3
   },
   "file_extension": ".py",
   "mimetype": "text/x-python",
   "name": "python",
   "nbconvert_exporter": "python",
   "pygments_lexer": "ipython3",
   "version": "3.10.8"
  }
 },
 "nbformat": 4,
 "nbformat_minor": 5
}
