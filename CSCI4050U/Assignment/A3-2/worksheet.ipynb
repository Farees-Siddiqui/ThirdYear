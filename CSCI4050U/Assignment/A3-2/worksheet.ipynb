{
 "cells": [
  {
   "cell_type": "markdown",
   "id": "07c37879-4f14-48ef-9946-7b052acd50b3",
   "metadata": {
    "editable": false
   },
   "source": [
    "# Assignment 3 - Part 2\n",
    "\n",
    "In this assignment, you are to architect a neural network to perform text classification.\n",
    "\n",
    "Grading scheme:\n",
    "\n",
    "- Model: 10\n",
    "- Training: 10\n",
    "- Test accuracy: 20\n",
    "\n",
    "```\n",
    "    >= 70%: 5/10\n",
    "    >= 75%: 10/20\n",
    "    >= 80%: 15/20\n",
    "    >= 85%: 20/20\n",
    "```\n",
    "\n",
    "Total: 40"
   ]
  },
  {
   "cell_type": "code",
   "execution_count": 1,
   "id": "cb7088f5-1b43-4896-b27a-7c24e66e1cc7",
   "metadata": {
    "editable": false
   },
   "outputs": [],
   "source": [
    "\"🔒\"\n",
    "import torch\n",
    "from torch import (nn, optim)\n",
    "from torch.utils.data import (Dataset, DataLoader, random_split)\n",
    "from torchsummaryX import summary\n",
    "import pandas as pd\n",
    "import numpy as np\n",
    "import warnings\n",
    "import test_lib\n",
    "from importlib import reload\n",
    "reload(test_lib)\n",
    "warnings.filterwarnings('ignore')"
   ]
  },
  {
   "cell_type": "markdown",
   "id": "cbd18a40-2b01-43c3-9a1f-20e51a8e2acc",
   "metadata": {
    "editable": false
   },
   "source": [
    "## Load dataset and vocabulary from file\n",
    "\n",
    "You are given two dataset files for training and testing."
   ]
  },
  {
   "cell_type": "code",
   "execution_count": 2,
   "id": "568c9ecd-c4b0-47cc-aed9-748ef2595ae2",
   "metadata": {
    "editable": false
   },
   "outputs": [
    {
     "name": "stdout",
     "output_type": "stream",
     "text": [
      "Training dataset: 20000\n",
      "Test dataset: 5000\n"
     ]
    }
   ],
   "source": [
    "\"🔒\"\n",
    "train_dataset = torch.load('./train_dataset.npz')\n",
    "test_dataset = torch.load('./test_dataset.npz')\n",
    "\n",
    "print(\"Training dataset: %d\" % len(train_dataset))\n",
    "print(\"Test dataset: %d\" % len(test_dataset))"
   ]
  },
  {
   "cell_type": "markdown",
   "id": "49a3319b-689b-4c45-8964-e5f3a809c0c4",
   "metadata": {
    "editable": false
   },
   "source": [
    "## Load the vocabulary\n",
    "\n",
    "You are given the vocabulary file.  This is used **only** for decoding\n",
    "the integers in the dataset.  It is not used for training, nor testing."
   ]
  },
  {
   "cell_type": "code",
   "execution_count": 3,
   "id": "262a7f51-b7b6-44c9-b0c4-c273dba4dd97",
   "metadata": {
    "editable": false
   },
   "outputs": [
    {
     "name": "stdout",
     "output_type": "stream",
     "text": [
      "There are 2000 tokens in vocabulary.\n"
     ]
    }
   ],
   "source": [
    "\"🔒\"\n",
    "vocab = torch.load('./vocab.pt')\n",
    "print(\"There are %d tokens in vocabulary.\" % len(vocab))"
   ]
  },
  {
   "cell_type": "markdown",
   "id": "59a71f15-84e6-4f97-b652-2814c9ef708f",
   "metadata": {
    "editable": false
   },
   "source": [
    "## Check data"
   ]
  },
  {
   "cell_type": "code",
   "execution_count": 4,
   "id": "266639d3-25c6-4e48-968f-bde8d880572d",
   "metadata": {
    "editable": false
   },
   "outputs": [
    {
     "name": "stdout",
     "output_type": "stream",
     "text": [
      "Review: one of the very best three <unk> <unk> ever . a <unk> house full of evil guys and the <unk> <unk> the <unk> detective <unk> s best men . <unk> is in top form in the famous in the dark scene . <unk> <unk> provides excellent support in his mr . <unk> role as the <unk> of a murder plot . before it s over <unk> s <unk> little <unk> is <unk> to great effect . this minute gem moves about as fast as any <unk> s short and <unk> twice the <unk> . highly recommended . <pad> <pad> <pad>\n",
      "Label: 1\n"
     ]
    }
   ],
   "source": [
    "\"🔒\"\n",
    "# @check\n",
    "# @title: data integrity\n",
    "\n",
    "x, y = train_dataset[100]\n",
    "print(\"Review:\", \" \".join(vocab.lookup_tokens(x.numpy().tolist())))\n",
    "print(\"Label:\", y.item())"
   ]
  },
  {
   "cell_type": "markdown",
   "id": "53e1709b-864c-4a3a-8d99-749575694d86",
   "metadata": {
    "editable": false
   },
   "source": [
    "## Model\n",
    "\n",
    "Construct a model that can process and learn from the samples from dataset.\n",
    "\n",
    "**Hints:**  Learn advanced architectural layers:\n",
    "\n",
    "- LSTM: https://pytorch.org/docs/stable/generated/torch.nn.LSTM.html\n",
    "- Conv1D: https://pytorch.org/docs/stable/generated/torch.nn.Conv1d.html\n",
    "- MaxPool1d: https://pytorch.org/docs/stable/generated/torch.nn.MaxPool1d.html\n",
    "- Dropout: https://pytorch.org/docs/stable/generated/torch.nn.Dropout.html"
   ]
  },
  {
   "cell_type": "code",
   "execution_count": 171,
   "id": "4bc17684",
   "metadata": {},
   "outputs": [],
   "source": [
    "\"✍️\"\n",
    "# @workUnit\n",
    "\n",
    "class MyModel(nn.Module):\n",
    "    def __init__(self):\n",
    "        super().__init__()\n",
    "        self.embedding = nn.Embedding(len(vocab), 32)\n",
    "        self.conv1d = nn.Conv1d(32, 64, kernel_size=3, padding=1)\n",
    "        self.ReLU = nn.ReLU()\n",
    "        self.dropout = nn.Dropout(0.8)\n",
    "        self.maxpool = nn.MaxPool1d(kernel_size=2)\n",
    "        self.lstm = nn.LSTM(64, 128, num_layers=6, batch_first=True)\n",
    "        self.fc = nn.Linear(128, 2)\n",
    "    def forward(self, x):\n",
    "        out = self.embedding(x)\n",
    "        out = out.transpose(1, 2)\n",
    "        out = self.conv1d(out)\n",
    "        out = self.ReLU(out)\n",
    "        out = self.dropout(out)\n",
    "        out = self.maxpool(out)\n",
    "        out = out.transpose(1, 2)\n",
    "        y, (s, c) = self.lstm(out)\n",
    "        return self.fc(c[0])\n"
   ]
  },
  {
   "cell_type": "code",
   "execution_count": 172,
   "id": "f44b82cd-984f-4eed-a08a-f3b090aad4c0",
   "metadata": {
    "editable": false
   },
   "outputs": [
    {
     "data": {
      "text/plain": [
       "torch.Size([128, 2])"
      ]
     },
     "execution_count": 172,
     "metadata": {},
     "output_type": "execute_result"
    }
   ],
   "source": [
    "\"🔒\"\n",
    "# @check\n",
    "# @title: verify model output\n",
    "\n",
    "model = MyModel()\n",
    "dataloader = DataLoader(train_dataset, batch_size=128, shuffle=True)\n",
    "xs, targets = next(iter(dataloader))\n",
    "model(xs).shape"
   ]
  },
  {
   "cell_type": "markdown",
   "id": "056ca003-ae0e-477e-9cc4-86934eae6e97",
   "metadata": {
    "editable": false
   },
   "source": [
    "## Training\n",
    "\n",
    "Implement a function `train` that will train the model.\n",
    "\n",
    "Inputs are:\n",
    "\n",
    "- model: an instance of the `MyModel`\n",
    "- train_dataset: a dataset to be trained on.\n",
    "- epochs: the number of epochs\n",
    "- max_batches: optional integer that will limit the number of batches per epoch.\n",
    "\n",
    "Returns a Pandas DataFrame will columns: `train_loss` and `train_acc` which are\n",
    "the training loss and accuracy per epoch.\n",
    "\n",
    "**Hint:**\n",
    "\n",
    "- Start with a simple model, and make sure that you can get a decent performance.\n",
    "- Start with a small number of `max_batches` to make sure you get a decent training accuracy.\n",
    "- Output debugging message with timing information, so you can estimate the training duration.\n",
    "- For good test accuracy, you need `max_matches ~ 500` and 20 epochs or more."
   ]
  },
  {
   "cell_type": "code",
   "execution_count": 173,
   "id": "54636d06",
   "metadata": {},
   "outputs": [
    {
     "name": "stdout",
     "output_type": "stream",
     "text": [
      "Using device: cuda\n",
      "Number of parameters: 830274\n"
     ]
    }
   ],
   "source": [
    "\"✍️\"\n",
    "# @workUnit\n",
    "import time\n",
    "device = torch.device('cuda' if torch.cuda.is_available() else 'cpu')\n",
    "print(\"Using device: %s\" % device)\n",
    "\n",
    "# print the number of model parameters\n",
    "print(\"Number of parameters: %d\" % sum(p.numel() for p in model.parameters()))\n",
    "def train(model: MyModel, train_dataset: Dataset, epochs: int, max_batches=None) -> pd.DataFrame:\n",
    "    \n",
    "    model = model.to(device)    \n",
    "    dataloader = DataLoader(train_dataset, batch_size=128, shuffle=True)\n",
    "    loss_fn = nn.CrossEntropyLoss()\n",
    "    loss_fn = loss_fn.to(device)\n",
    "    optimzer = optim.Adam(model.parameters())\n",
    "    history = {\n",
    "        'train_loss': [],\n",
    "        'train_acc': []\n",
    "    }\n",
    "    start0 = time.time()\n",
    "    total, succ = 0.0, 0.0\n",
    "    for epoch in range(epochs):\n",
    "        start = time.time()\n",
    "        for i, (xs, targets) in enumerate(dataloader):\n",
    "            xs, targets = xs.to(device), targets.to(device)\n",
    "            optimzer.zero_grad()\n",
    "            y = model(xs)\n",
    "            loss = loss_fn(y, targets)\n",
    "            loss.backward()\n",
    "            optimzer.step()\n",
    "            history['train_loss'].append(loss.item())\n",
    "            with torch.no_grad():\n",
    "                pred = y.argmax(axis=-1)\n",
    "                succ += (pred == targets).sum().item()\n",
    "                total += len(targets)\n",
    "                history['train_acc'].append(succ / total)\n",
    "            if i % 10 == 0:\n",
    "                print(\"Batch %d: train_loss=%.4f, train_acc=%.4f\" % (i, loss.item(), history['train_acc'][-1]))\n",
    "            if max_batches is not None and i >= max_batches:\n",
    "                break\n",
    "        duration = time.time() - start\n",
    "        print(\"[Epoch [%d/%d]: train_loss=%.4f, train_acc=%.4f [%.2f Seconds]]\" % (epoch, epochs, np.mean(history['train_loss']), history['train_acc'][-1], duration))\n",
    "    duration0 = time.time() - start0\n",
    "    print(\"Training finished in %.2f Seconds\" % duration0)\n",
    "    return pd.DataFrame(history)\n"
   ]
  },
  {
   "cell_type": "code",
   "execution_count": 174,
   "id": "d28baf03",
   "metadata": {},
   "outputs": [
    {
     "name": "stdout",
     "output_type": "stream",
     "text": [
      "Batch 0: train_loss=0.6942, train_acc=0.5312\n",
      "Batch 10: train_loss=0.7029, train_acc=0.4908\n",
      "Batch 20: train_loss=0.6914, train_acc=0.5000\n",
      "Batch 30: train_loss=0.6848, train_acc=0.5078\n",
      "Batch 40: train_loss=0.6884, train_acc=0.5147\n",
      "Batch 50: train_loss=0.6774, train_acc=0.5190\n",
      "Batch 60: train_loss=0.7245, train_acc=0.5151\n",
      "Batch 70: train_loss=0.6837, train_acc=0.5154\n",
      "Batch 80: train_loss=0.6844, train_acc=0.5152\n",
      "Batch 90: train_loss=0.6916, train_acc=0.5146\n",
      "Batch 100: train_loss=0.6899, train_acc=0.5144\n",
      "Batch 110: train_loss=0.6981, train_acc=0.5137\n",
      "Batch 120: train_loss=0.6829, train_acc=0.5139\n",
      "Batch 130: train_loss=0.7046, train_acc=0.5151\n",
      "Batch 140: train_loss=0.7074, train_acc=0.5151\n",
      "Batch 150: train_loss=0.6816, train_acc=0.5161\n",
      "[Epoch [0/20]: train_loss=0.6943, train_acc=0.5163 [3.44 Seconds]]\n",
      "Batch 0: train_loss=0.6912, train_acc=0.5166\n",
      "Batch 10: train_loss=0.6845, train_acc=0.5163\n",
      "Batch 20: train_loss=0.7019, train_acc=0.5167\n",
      "Batch 30: train_loss=0.7005, train_acc=0.5162\n",
      "Batch 40: train_loss=0.6899, train_acc=0.5161\n",
      "Batch 50: train_loss=0.6872, train_acc=0.5162\n",
      "Batch 60: train_loss=0.6845, train_acc=0.5183\n",
      "Batch 70: train_loss=0.7109, train_acc=0.5190\n",
      "Batch 80: train_loss=0.7073, train_acc=0.5200\n",
      "Batch 90: train_loss=0.6846, train_acc=0.5198\n",
      "Batch 100: train_loss=0.6926, train_acc=0.5211\n",
      "Batch 110: train_loss=0.6637, train_acc=0.5226\n",
      "Batch 120: train_loss=0.6818, train_acc=0.5241\n",
      "Batch 130: train_loss=0.6713, train_acc=0.5254\n",
      "Batch 140: train_loss=0.6986, train_acc=0.5267\n",
      "Batch 150: train_loss=0.6777, train_acc=0.5286\n",
      "[Epoch [1/20]: train_loss=0.6906, train_acc=0.5297 [3.37 Seconds]]\n",
      "Batch 0: train_loss=0.6636, train_acc=0.5299\n",
      "Batch 10: train_loss=0.6669, train_acc=0.5319\n",
      "Batch 20: train_loss=0.6907, train_acc=0.5342\n",
      "Batch 30: train_loss=0.6680, train_acc=0.5359\n",
      "Batch 40: train_loss=0.6772, train_acc=0.5373\n",
      "Batch 50: train_loss=0.6665, train_acc=0.5393\n",
      "Batch 60: train_loss=0.6752, train_acc=0.5400\n",
      "Batch 70: train_loss=0.6732, train_acc=0.5402\n",
      "Batch 80: train_loss=0.6765, train_acc=0.5402\n",
      "Batch 90: train_loss=0.6705, train_acc=0.5414\n",
      "Batch 100: train_loss=0.6606, train_acc=0.5433\n",
      "Batch 110: train_loss=0.6317, train_acc=0.5449\n",
      "Batch 120: train_loss=0.6139, train_acc=0.5477\n",
      "Batch 130: train_loss=0.6104, train_acc=0.5500\n",
      "Batch 140: train_loss=0.6595, train_acc=0.5522\n",
      "Batch 150: train_loss=0.6292, train_acc=0.5545\n",
      "[Epoch [2/20]: train_loss=0.6798, train_acc=0.5556 [3.36 Seconds]]\n",
      "Batch 0: train_loss=0.6601, train_acc=0.5557\n",
      "Batch 10: train_loss=0.5895, train_acc=0.5580\n",
      "Batch 20: train_loss=0.6031, train_acc=0.5601\n",
      "Batch 30: train_loss=0.6534, train_acc=0.5621\n",
      "Batch 40: train_loss=0.6066, train_acc=0.5642\n",
      "Batch 50: train_loss=0.6036, train_acc=0.5658\n",
      "Batch 60: train_loss=0.6120, train_acc=0.5679\n",
      "Batch 70: train_loss=0.5489, train_acc=0.5704\n",
      "Batch 80: train_loss=0.6157, train_acc=0.5724\n",
      "Batch 90: train_loss=0.5098, train_acc=0.5746\n",
      "Batch 100: train_loss=0.5571, train_acc=0.5771\n",
      "Batch 110: train_loss=0.5845, train_acc=0.5792\n",
      "Batch 120: train_loss=0.5542, train_acc=0.5811\n",
      "Batch 130: train_loss=0.5791, train_acc=0.5832\n",
      "Batch 140: train_loss=0.6004, train_acc=0.5851\n",
      "Batch 150: train_loss=0.5455, train_acc=0.5871\n",
      "[Epoch [3/20]: train_loss=0.6577, train_acc=0.5882 [3.34 Seconds]]\n",
      "Batch 0: train_loss=0.6261, train_acc=0.5882\n",
      "Batch 10: train_loss=0.5438, train_acc=0.5902\n",
      "Batch 20: train_loss=0.5077, train_acc=0.5922\n",
      "Batch 30: train_loss=0.5358, train_acc=0.5944\n",
      "Batch 40: train_loss=0.5464, train_acc=0.5966\n",
      "Batch 50: train_loss=0.5013, train_acc=0.5985\n",
      "Batch 60: train_loss=0.5321, train_acc=0.6005\n",
      "Batch 70: train_loss=0.5383, train_acc=0.6025\n",
      "Batch 80: train_loss=0.5456, train_acc=0.6044\n",
      "Batch 90: train_loss=0.5546, train_acc=0.6063\n",
      "Batch 100: train_loss=0.5574, train_acc=0.6081\n",
      "Batch 110: train_loss=0.5233, train_acc=0.6098\n",
      "Batch 120: train_loss=0.5894, train_acc=0.6113\n",
      "Batch 130: train_loss=0.5046, train_acc=0.6131\n",
      "Batch 140: train_loss=0.5692, train_acc=0.6148\n",
      "Batch 150: train_loss=0.4821, train_acc=0.6164\n",
      "[Epoch [4/20]: train_loss=0.6330, train_acc=0.6171 [3.35 Seconds]]\n",
      "Batch 0: train_loss=0.5639, train_acc=0.6172\n",
      "Batch 10: train_loss=0.5926, train_acc=0.6189\n",
      "Batch 20: train_loss=0.4719, train_acc=0.6207\n",
      "Batch 30: train_loss=0.5384, train_acc=0.6223\n",
      "Batch 40: train_loss=0.5107, train_acc=0.6239\n",
      "Batch 50: train_loss=0.4720, train_acc=0.6256\n",
      "Batch 60: train_loss=0.5357, train_acc=0.6273\n",
      "Batch 70: train_loss=0.4681, train_acc=0.6288\n",
      "Batch 80: train_loss=0.4650, train_acc=0.6304\n",
      "Batch 90: train_loss=0.5001, train_acc=0.6319\n",
      "Batch 100: train_loss=0.4788, train_acc=0.6332\n",
      "Batch 110: train_loss=0.4832, train_acc=0.6346\n",
      "Batch 120: train_loss=0.4886, train_acc=0.6361\n",
      "Batch 130: train_loss=0.5197, train_acc=0.6375\n",
      "Batch 140: train_loss=0.5133, train_acc=0.6388\n",
      "Batch 150: train_loss=0.4738, train_acc=0.6401\n",
      "[Epoch [5/20]: train_loss=0.6101, train_acc=0.6406 [3.34 Seconds]]\n",
      "Batch 0: train_loss=0.4644, train_acc=0.6408\n",
      "Batch 10: train_loss=0.4958, train_acc=0.6423\n",
      "Batch 20: train_loss=0.4896, train_acc=0.6435\n",
      "Batch 30: train_loss=0.4074, train_acc=0.6451\n",
      "Batch 40: train_loss=0.5235, train_acc=0.6465\n",
      "Batch 50: train_loss=0.4698, train_acc=0.6477\n",
      "Batch 60: train_loss=0.4062, train_acc=0.6489\n",
      "Batch 70: train_loss=0.5210, train_acc=0.6501\n",
      "Batch 80: train_loss=0.5242, train_acc=0.6512\n",
      "Batch 90: train_loss=0.5176, train_acc=0.6524\n",
      "Batch 100: train_loss=0.4471, train_acc=0.6535\n",
      "Batch 110: train_loss=0.4915, train_acc=0.6548\n",
      "Batch 120: train_loss=0.5010, train_acc=0.6559\n",
      "Batch 130: train_loss=0.4394, train_acc=0.6571\n",
      "Batch 140: train_loss=0.4387, train_acc=0.6583\n",
      "Batch 150: train_loss=0.4573, train_acc=0.6594\n",
      "[Epoch [6/20]: train_loss=0.5900, train_acc=0.6600 [3.34 Seconds]]\n",
      "Batch 0: train_loss=0.4730, train_acc=0.6601\n",
      "Batch 10: train_loss=0.4372, train_acc=0.6613\n",
      "Batch 20: train_loss=0.5122, train_acc=0.6625\n",
      "Batch 30: train_loss=0.5206, train_acc=0.6639\n",
      "Batch 40: train_loss=0.4463, train_acc=0.6648\n",
      "Batch 50: train_loss=0.3796, train_acc=0.6660\n",
      "Batch 60: train_loss=0.4156, train_acc=0.6671\n",
      "Batch 70: train_loss=0.4677, train_acc=0.6679\n",
      "Batch 80: train_loss=0.3775, train_acc=0.6689\n",
      "Batch 90: train_loss=0.3859, train_acc=0.6700\n",
      "Batch 100: train_loss=0.4524, train_acc=0.6708\n",
      "Batch 110: train_loss=0.5140, train_acc=0.6718\n",
      "Batch 120: train_loss=0.4012, train_acc=0.6728\n",
      "Batch 130: train_loss=0.4012, train_acc=0.6736\n",
      "Batch 140: train_loss=0.5137, train_acc=0.6746\n",
      "Batch 150: train_loss=0.4220, train_acc=0.6756\n",
      "[Epoch [7/20]: train_loss=0.5726, train_acc=0.6762 [3.33 Seconds]]\n",
      "Batch 0: train_loss=0.4154, train_acc=0.6763\n",
      "Batch 10: train_loss=0.4313, train_acc=0.6771\n",
      "Batch 20: train_loss=0.3991, train_acc=0.6781\n",
      "Batch 30: train_loss=0.4953, train_acc=0.6789\n",
      "Batch 40: train_loss=0.4127, train_acc=0.6799\n",
      "Batch 50: train_loss=0.5109, train_acc=0.6808\n",
      "Batch 60: train_loss=0.3161, train_acc=0.6818\n",
      "Batch 70: train_loss=0.4944, train_acc=0.6826\n",
      "Batch 80: train_loss=0.4589, train_acc=0.6836\n",
      "Batch 90: train_loss=0.4389, train_acc=0.6845\n",
      "Batch 100: train_loss=0.3504, train_acc=0.6853\n",
      "Batch 110: train_loss=0.3242, train_acc=0.6864\n",
      "Batch 120: train_loss=0.4570, train_acc=0.6870\n",
      "Batch 130: train_loss=0.5086, train_acc=0.6878\n",
      "Batch 140: train_loss=0.4946, train_acc=0.6886\n",
      "Batch 150: train_loss=0.4736, train_acc=0.6894\n",
      "[Epoch [8/20]: train_loss=0.5569, train_acc=0.6898 [3.33 Seconds]]\n",
      "Batch 0: train_loss=0.4029, train_acc=0.6899\n",
      "Batch 10: train_loss=0.3476, train_acc=0.6908\n",
      "Batch 20: train_loss=0.4509, train_acc=0.6916\n",
      "Batch 30: train_loss=0.3800, train_acc=0.6924\n",
      "Batch 40: train_loss=0.3861, train_acc=0.6932\n",
      "Batch 50: train_loss=0.4580, train_acc=0.6940\n",
      "Batch 60: train_loss=0.4226, train_acc=0.6948\n",
      "Batch 70: train_loss=0.3499, train_acc=0.6956\n",
      "Batch 80: train_loss=0.5678, train_acc=0.6963\n",
      "Batch 90: train_loss=0.3958, train_acc=0.6970\n",
      "Batch 100: train_loss=0.3778, train_acc=0.6977\n",
      "Batch 110: train_loss=0.4345, train_acc=0.6986\n",
      "Batch 120: train_loss=0.3842, train_acc=0.6993\n",
      "Batch 130: train_loss=0.3783, train_acc=0.7000\n",
      "Batch 140: train_loss=0.4113, train_acc=0.7008\n",
      "Batch 150: train_loss=0.3598, train_acc=0.7015\n",
      "[Epoch [9/20]: train_loss=0.5431, train_acc=0.7018 [3.59 Seconds]]\n",
      "Batch 0: train_loss=0.3666, train_acc=0.7019\n",
      "Batch 10: train_loss=0.3078, train_acc=0.7027\n",
      "Batch 20: train_loss=0.3606, train_acc=0.7033\n",
      "Batch 30: train_loss=0.3782, train_acc=0.7041\n",
      "Batch 40: train_loss=0.3968, train_acc=0.7047\n",
      "Batch 50: train_loss=0.3851, train_acc=0.7054\n",
      "Batch 60: train_loss=0.4264, train_acc=0.7061\n",
      "Batch 70: train_loss=0.3733, train_acc=0.7068\n",
      "Batch 80: train_loss=0.4230, train_acc=0.7074\n",
      "Batch 90: train_loss=0.4534, train_acc=0.7081\n",
      "Batch 100: train_loss=0.4309, train_acc=0.7087\n",
      "Batch 110: train_loss=0.4273, train_acc=0.7093\n",
      "Batch 120: train_loss=0.3649, train_acc=0.7098\n",
      "Batch 130: train_loss=0.4427, train_acc=0.7105\n",
      "Batch 140: train_loss=0.4135, train_acc=0.7110\n",
      "Batch 150: train_loss=0.3932, train_acc=0.7117\n",
      "[Epoch [10/20]: train_loss=0.5304, train_acc=0.7120 [3.61 Seconds]]\n",
      "Batch 0: train_loss=0.4760, train_acc=0.7120\n",
      "Batch 10: train_loss=0.3872, train_acc=0.7127\n",
      "Batch 20: train_loss=0.4899, train_acc=0.7133\n",
      "Batch 30: train_loss=0.3759, train_acc=0.7139\n",
      "Batch 40: train_loss=0.4699, train_acc=0.7143\n",
      "Batch 50: train_loss=0.3626, train_acc=0.7149\n",
      "Batch 60: train_loss=0.3135, train_acc=0.7156\n",
      "Batch 70: train_loss=0.3078, train_acc=0.7162\n",
      "Batch 80: train_loss=0.2942, train_acc=0.7169\n",
      "Batch 90: train_loss=0.4174, train_acc=0.7176\n",
      "Batch 100: train_loss=0.3492, train_acc=0.7181\n",
      "Batch 110: train_loss=0.3967, train_acc=0.7185\n",
      "Batch 120: train_loss=0.3892, train_acc=0.7191\n",
      "Batch 130: train_loss=0.4168, train_acc=0.7197\n",
      "Batch 140: train_loss=0.4592, train_acc=0.7202\n",
      "Batch 150: train_loss=0.4013, train_acc=0.7207\n",
      "[Epoch [11/20]: train_loss=0.5189, train_acc=0.7210 [3.50 Seconds]]\n",
      "Batch 0: train_loss=0.3279, train_acc=0.7211\n",
      "Batch 10: train_loss=0.3127, train_acc=0.7216\n",
      "Batch 20: train_loss=0.2788, train_acc=0.7223\n",
      "Batch 30: train_loss=0.3664, train_acc=0.7228\n",
      "Batch 40: train_loss=0.3591, train_acc=0.7233\n",
      "Batch 50: train_loss=0.3135, train_acc=0.7238\n",
      "Batch 60: train_loss=0.4217, train_acc=0.7244\n",
      "Batch 70: train_loss=0.3786, train_acc=0.7249\n",
      "Batch 80: train_loss=0.3211, train_acc=0.7254\n",
      "Batch 90: train_loss=0.4217, train_acc=0.7259\n",
      "Batch 100: train_loss=0.3387, train_acc=0.7264\n",
      "Batch 110: train_loss=0.3462, train_acc=0.7268\n",
      "Batch 120: train_loss=0.3386, train_acc=0.7274\n",
      "Batch 130: train_loss=0.4030, train_acc=0.7278\n",
      "Batch 140: train_loss=0.3049, train_acc=0.7283\n",
      "Batch 150: train_loss=0.3619, train_acc=0.7288\n",
      "[Epoch [12/20]: train_loss=0.5087, train_acc=0.7290 [3.38 Seconds]]\n",
      "Batch 0: train_loss=0.4070, train_acc=0.7290\n",
      "Batch 10: train_loss=0.3432, train_acc=0.7296\n",
      "Batch 20: train_loss=0.3149, train_acc=0.7302\n",
      "Batch 30: train_loss=0.3366, train_acc=0.7306\n",
      "Batch 40: train_loss=0.3603, train_acc=0.7310\n",
      "Batch 50: train_loss=0.3783, train_acc=0.7315\n",
      "Batch 60: train_loss=0.2804, train_acc=0.7321\n",
      "Batch 70: train_loss=0.4860, train_acc=0.7325\n",
      "Batch 80: train_loss=0.4082, train_acc=0.7330\n",
      "Batch 90: train_loss=0.3566, train_acc=0.7334\n",
      "Batch 100: train_loss=0.3762, train_acc=0.7338\n",
      "Batch 110: train_loss=0.3544, train_acc=0.7343\n",
      "Batch 120: train_loss=0.4092, train_acc=0.7348\n",
      "Batch 130: train_loss=0.3590, train_acc=0.7352\n",
      "Batch 140: train_loss=0.3565, train_acc=0.7356\n",
      "Batch 150: train_loss=0.2593, train_acc=0.7360\n",
      "[Epoch [13/20]: train_loss=0.4995, train_acc=0.7362 [3.44 Seconds]]\n",
      "Batch 0: train_loss=0.4299, train_acc=0.7362\n",
      "Batch 10: train_loss=0.3989, train_acc=0.7366\n",
      "Batch 20: train_loss=0.4965, train_acc=0.7369\n",
      "Batch 30: train_loss=0.3753, train_acc=0.7374\n",
      "Batch 40: train_loss=0.3606, train_acc=0.7378\n",
      "Batch 50: train_loss=0.3259, train_acc=0.7382\n",
      "Batch 60: train_loss=0.4204, train_acc=0.7387\n",
      "Batch 70: train_loss=0.4128, train_acc=0.7391\n",
      "Batch 80: train_loss=0.4756, train_acc=0.7395\n",
      "Batch 90: train_loss=0.3031, train_acc=0.7400\n",
      "Batch 100: train_loss=0.4291, train_acc=0.7404\n",
      "Batch 110: train_loss=0.3368, train_acc=0.7408\n",
      "Batch 120: train_loss=0.3892, train_acc=0.7412\n",
      "Batch 130: train_loss=0.3952, train_acc=0.7415\n",
      "Batch 140: train_loss=0.3703, train_acc=0.7419\n",
      "Batch 150: train_loss=0.3617, train_acc=0.7423\n",
      "[Epoch [14/20]: train_loss=0.4912, train_acc=0.7426 [3.29 Seconds]]\n",
      "Batch 0: train_loss=0.3953, train_acc=0.7426\n",
      "Batch 10: train_loss=0.3178, train_acc=0.7431\n",
      "Batch 20: train_loss=0.3196, train_acc=0.7436\n",
      "Batch 30: train_loss=0.3460, train_acc=0.7439\n",
      "Batch 40: train_loss=0.4546, train_acc=0.7444\n",
      "Batch 50: train_loss=0.2904, train_acc=0.7448\n",
      "Batch 60: train_loss=0.5285, train_acc=0.7451\n",
      "Batch 70: train_loss=0.2855, train_acc=0.7455\n",
      "Batch 80: train_loss=0.3252, train_acc=0.7459\n",
      "Batch 90: train_loss=0.4109, train_acc=0.7463\n",
      "Batch 100: train_loss=0.3345, train_acc=0.7467\n",
      "Batch 110: train_loss=0.4438, train_acc=0.7470\n",
      "Batch 120: train_loss=0.4061, train_acc=0.7474\n",
      "Batch 130: train_loss=0.3131, train_acc=0.7477\n",
      "Batch 140: train_loss=0.4232, train_acc=0.7481\n",
      "Batch 150: train_loss=0.2767, train_acc=0.7483\n",
      "[Epoch [15/20]: train_loss=0.4834, train_acc=0.7485 [3.50 Seconds]]\n",
      "Batch 0: train_loss=0.3710, train_acc=0.7485\n",
      "Batch 10: train_loss=0.2882, train_acc=0.7489\n",
      "Batch 20: train_loss=0.3266, train_acc=0.7493\n",
      "Batch 30: train_loss=0.3384, train_acc=0.7496\n",
      "Batch 40: train_loss=0.3684, train_acc=0.7500\n",
      "Batch 50: train_loss=0.3465, train_acc=0.7504\n",
      "Batch 60: train_loss=0.3315, train_acc=0.7506\n",
      "Batch 70: train_loss=0.4929, train_acc=0.7509\n",
      "Batch 80: train_loss=0.3701, train_acc=0.7513\n",
      "Batch 90: train_loss=0.3866, train_acc=0.7516\n",
      "Batch 100: train_loss=0.4615, train_acc=0.7519\n",
      "Batch 110: train_loss=0.3293, train_acc=0.7522\n",
      "Batch 120: train_loss=0.3458, train_acc=0.7525\n",
      "Batch 130: train_loss=0.3495, train_acc=0.7528\n",
      "Batch 140: train_loss=0.2798, train_acc=0.7532\n",
      "Batch 150: train_loss=0.2821, train_acc=0.7535\n",
      "[Epoch [16/20]: train_loss=0.4763, train_acc=0.7537 [3.48 Seconds]]\n",
      "Batch 0: train_loss=0.3251, train_acc=0.7537\n",
      "Batch 10: train_loss=0.4131, train_acc=0.7540\n",
      "Batch 20: train_loss=0.3765, train_acc=0.7544\n",
      "Batch 30: train_loss=0.3796, train_acc=0.7547\n",
      "Batch 40: train_loss=0.3586, train_acc=0.7550\n",
      "Batch 50: train_loss=0.3573, train_acc=0.7553\n",
      "Batch 60: train_loss=0.3005, train_acc=0.7557\n",
      "Batch 70: train_loss=0.3380, train_acc=0.7560\n",
      "Batch 80: train_loss=0.4342, train_acc=0.7563\n",
      "Batch 90: train_loss=0.2628, train_acc=0.7567\n",
      "Batch 100: train_loss=0.3424, train_acc=0.7571\n",
      "Batch 110: train_loss=0.2905, train_acc=0.7574\n",
      "Batch 120: train_loss=0.3379, train_acc=0.7578\n",
      "Batch 130: train_loss=0.3508, train_acc=0.7580\n",
      "Batch 140: train_loss=0.3604, train_acc=0.7582\n",
      "Batch 150: train_loss=0.3929, train_acc=0.7585\n",
      "[Epoch [17/20]: train_loss=0.4697, train_acc=0.7586 [3.59 Seconds]]\n",
      "Batch 0: train_loss=0.2709, train_acc=0.7587\n",
      "Batch 10: train_loss=0.3238, train_acc=0.7590\n",
      "Batch 20: train_loss=0.3301, train_acc=0.7594\n",
      "Batch 30: train_loss=0.3653, train_acc=0.7597\n",
      "Batch 40: train_loss=0.3528, train_acc=0.7600\n",
      "Batch 50: train_loss=0.3273, train_acc=0.7603\n",
      "Batch 60: train_loss=0.3621, train_acc=0.7606\n",
      "Batch 70: train_loss=0.3309, train_acc=0.7608\n",
      "Batch 80: train_loss=0.3004, train_acc=0.7611\n",
      "Batch 90: train_loss=0.3296, train_acc=0.7614\n",
      "Batch 100: train_loss=0.3973, train_acc=0.7616\n",
      "Batch 110: train_loss=0.3723, train_acc=0.7619\n",
      "Batch 120: train_loss=0.2673, train_acc=0.7622\n",
      "Batch 130: train_loss=0.3439, train_acc=0.7624\n",
      "Batch 140: train_loss=0.3183, train_acc=0.7627\n",
      "Batch 150: train_loss=0.3847, train_acc=0.7630\n",
      "[Epoch [18/20]: train_loss=0.4635, train_acc=0.7631 [3.68 Seconds]]\n",
      "Batch 0: train_loss=0.4402, train_acc=0.7631\n",
      "Batch 10: train_loss=0.3240, train_acc=0.7634\n",
      "Batch 20: train_loss=0.2279, train_acc=0.7638\n",
      "Batch 30: train_loss=0.3272, train_acc=0.7640\n",
      "Batch 40: train_loss=0.3550, train_acc=0.7643\n",
      "Batch 50: train_loss=0.3643, train_acc=0.7646\n",
      "Batch 60: train_loss=0.3359, train_acc=0.7648\n",
      "Batch 70: train_loss=0.3362, train_acc=0.7651\n",
      "Batch 80: train_loss=0.3207, train_acc=0.7653\n",
      "Batch 90: train_loss=0.3801, train_acc=0.7656\n",
      "Batch 100: train_loss=0.3858, train_acc=0.7658\n",
      "Batch 110: train_loss=0.4033, train_acc=0.7660\n",
      "Batch 120: train_loss=0.3529, train_acc=0.7663\n",
      "Batch 130: train_loss=0.3591, train_acc=0.7666\n",
      "Batch 140: train_loss=0.3644, train_acc=0.7668\n",
      "Batch 150: train_loss=0.2954, train_acc=0.7670\n",
      "[Epoch [19/20]: train_loss=0.4578, train_acc=0.7671 [3.54 Seconds]]\n",
      "Training finished in 68.82 Seconds\n",
      "CPU times: total: 1min 8s\n",
      "Wall time: 1min 8s\n"
     ]
    }
   ],
   "source": [
    "%%time\n",
    "\"✍️\"\n",
    "# @workUnit\n",
    "\n",
    "#\n",
    "# train the model\n",
    "#\n",
    "model = MyModel()\n",
    "hist = train(model, train_dataset, epochs=20, max_batches=500)"
   ]
  },
  {
   "cell_type": "code",
   "execution_count": 175,
   "id": "e2c52b93-0fe5-4a9b-a2bd-fe6ec72403d5",
   "metadata": {
    "editable": false
   },
   "outputs": [
    {
     "data": {
      "text/plain": [
       "Index(['train_loss', 'train_acc'], dtype='object')"
      ]
     },
     "execution_count": 175,
     "metadata": {},
     "output_type": "execute_result"
    }
   ],
   "source": [
    "\"🔒\"\n",
    "# @check\n",
    "# @title: verify dataframe columns\n",
    "\n",
    "hist.columns"
   ]
  },
  {
   "cell_type": "code",
   "execution_count": 176,
   "id": "d7ce09d9-fee9-43a3-affd-2a49e42a3718",
   "metadata": {
    "editable": false
   },
   "outputs": [
    {
     "data": {
      "image/png": "[encoded data removed]",
      "text/plain": [
       "<Figure size 640x480 with 1 Axes>"
      ]
     },
     "metadata": {},
     "output_type": "display_data"
    }
   ],
   "source": [
    "\"🔒\"\n",
    "#\n",
    "# Plot the training accuracy\n",
    "#\n",
    "hist.train_acc.plot.line();"
   ]
  },
  {
   "cell_type": "code",
   "execution_count": 177,
   "id": "9e5e4bef-1342-46ef-992a-2989c35872c4",
   "metadata": {
    "editable": false
   },
   "outputs": [],
   "source": [
    "\"🔒\"\n",
    "#\n",
    "# Save the entire model to disk\n",
    "#\n",
    "torch.save(model, 'mymodel.pt')"
   ]
  },
  {
   "cell_type": "markdown",
   "id": "75560127-a85e-4bef-89ec-ae8f30b9290e",
   "metadata": {
    "editable": false
   },
   "source": [
    "## Testing\n",
    "\n",
    "The following code evaluates your model using `test_dataset`."
   ]
  },
  {
   "cell_type": "code",
   "execution_count": 182,
   "id": "928c21ce-e239-41a1-b502-d46fea58bded",
   "metadata": {
    "editable": false
   },
   "outputs": [
    {
     "name": "stdout",
     "output_type": "stream",
     "text": [
      "Saved model has test accuracy = 81.04\n"
     ]
    }
   ],
   "source": [
    "\"🔒\"\n",
    "#\n",
    "# Test your current model in memory\n",
    "#\n",
    "\n",
    "test_lib.test_saved_model(model)"
   ]
  },
  {
   "cell_type": "code",
   "execution_count": 183,
   "id": "749afd4f-ac4f-4910-82c5-029b80e8c8b0",
   "metadata": {
    "editable": false
   },
   "outputs": [
    {
     "name": "stdout",
     "output_type": "stream",
     "text": [
      "Loading from mymodel.pt\n",
      "Saved model has test accuracy = 81.12\n"
     ]
    }
   ],
   "source": [
    "\"🔒\"\n",
    "#\n",
    "# Test your saved model on disk\n",
    "#\n",
    "test_lib.test_saved_model()"
   ]
  }
 ],
 "metadata": {
  "kernelspec": {
   "display_name": "Python 3",
   "language": "python",
   "name": "python3"
  },
  "language_info": {
   "codemirror_mode": {
    "name": "ipython",
    "version": 3
   },
   "file_extension": ".py",
   "mimetype": "text/x-python",
   "name": "python",
   "nbconvert_exporter": "python",
   "pygments_lexer": "ipython3",
   "version": "3.10.8"
  },
  "vscode": {
   "interpreter": {
    "hash": "369f2c481f4da34e4445cda3fffd2e751bd1c4d706f27375911949ba6bb62e1c"
   }
  }
 },
 "nbformat": 4,
 "nbformat_minor": 5
}
