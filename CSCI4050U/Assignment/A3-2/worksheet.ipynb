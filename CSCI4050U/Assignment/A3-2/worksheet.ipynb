{
 "cells": [
  {
   "cell_type": "markdown",
   "id": "07c37879-4f14-48ef-9946-7b052acd50b3",
   "metadata": {
    "editable": false
   },
   "source": [
    "# Assignment 3 - Part 2\n",
    "\n",
    "In this assignment, you are to architect a neural network to perform text classification.\n",
    "\n",
    "Grading scheme:\n",
    "\n",
    "- Model: 10\n",
    "- Training: 10\n",
    "- Test accuracy: 20\n",
    "\n",
    "```\n",
    "    >= 70%: 5/10\n",
    "    >= 75%: 10/20\n",
    "    >= 80%: 15/20\n",
    "    >= 85%: 20/20\n",
    "```\n",
    "\n",
    "Total: 40"
   ]
  },
  {
   "cell_type": "code",
   "execution_count": null,
   "id": "cb7088f5-1b43-4896-b27a-7c24e66e1cc7",
   "metadata": {
    "editable": false
   },
   "outputs": [],
   "source": [
    "\"🔒\"\n",
    "import torch\n",
    "from torch import (nn, optim)\n",
    "from torch.utils.data import (Dataset, DataLoader, random_split)\n",
    "from torchsummaryX import summary\n",
    "import pandas as pd\n",
    "import numpy as np\n",
    "import warnings\n",
    "import test_lib\n",
    "from importlib import reload\n",
    "reload(test_lib)\n",
    "warnings.filterwarnings('ignore')"
   ]
  },
  {
   "cell_type": "markdown",
   "id": "cbd18a40-2b01-43c3-9a1f-20e51a8e2acc",
   "metadata": {
    "editable": false
   },
   "source": [
    "## Load dataset and vocabulary from file\n",
    "\n",
    "You are given two dataset files for training and testing."
   ]
  },
  {
   "cell_type": "code",
   "execution_count": null,
   "id": "568c9ecd-c4b0-47cc-aed9-748ef2595ae2",
   "metadata": {
    "editable": false
   },
   "outputs": [],
   "source": [
    "\"🔒\"\n",
    "train_dataset = torch.load('./train_dataset.npz')\n",
    "test_dataset = torch.load('./test_dataset.npz')\n",
    "\n",
    "print(\"Training dataset: %d\" % len(train_dataset))\n",
    "print(\"Test dataset: %d\" % len(test_dataset))"
   ]
  },
  {
   "cell_type": "markdown",
   "id": "49a3319b-689b-4c45-8964-e5f3a809c0c4",
   "metadata": {
    "editable": false
   },
   "source": [
    "## Load the vocabulary\n",
    "\n",
    "You are given the vocabulary file.  This is used **only** for decoding\n",
    "the integers in the dataset.  It is not used for training, nor testing."
   ]
  },
  {
   "cell_type": "code",
   "execution_count": null,
   "id": "262a7f51-b7b6-44c9-b0c4-c273dba4dd97",
   "metadata": {
    "editable": false
   },
   "outputs": [],
   "source": [
    "\"🔒\"\n",
    "vocab = torch.load('./vocab.pt')\n",
    "print(\"There are %d tokens in vocabulary.\" % len(vocab))"
   ]
  },
  {
   "cell_type": "markdown",
   "id": "59a71f15-84e6-4f97-b652-2814c9ef708f",
   "metadata": {
    "editable": false
   },
   "source": [
    "## Check data"
   ]
  },
  {
   "cell_type": "code",
   "execution_count": null,
   "id": "266639d3-25c6-4e48-968f-bde8d880572d",
   "metadata": {
    "editable": false
   },
   "outputs": [],
   "source": [
    "\"🔒\"\n",
    "# @check\n",
    "# @title: data integrity\n",
    "\n",
    "x, y = train_dataset[100]\n",
    "print(\"Review:\", \" \".join(vocab.lookup_tokens(x.numpy().tolist())))\n",
    "print(\"Label:\", y.item())"
   ]
  },
  {
   "cell_type": "markdown",
   "id": "53e1709b-864c-4a3a-8d99-749575694d86",
   "metadata": {
    "editable": false
   },
   "source": [
    "## Model\n",
    "\n",
    "Construct a model that can process and learn from the samples from dataset.\n",
    "\n",
    "**Hints:**  Learn advanced architectural layers:\n",
    "\n",
    "- LSTM: https://pytorch.org/docs/stable/generated/torch.nn.LSTM.html\n",
    "- Conv1D: https://pytorch.org/docs/stable/generated/torch.nn.Conv1d.html\n",
    "- MaxPool1d: https://pytorch.org/docs/stable/generated/torch.nn.MaxPool1d.html\n",
    "- Dropout: https://pytorch.org/docs/stable/generated/torch.nn.Dropout.html"
   ]
  },
  {
   "cell_type": "code",
   "execution_count": 548,
   "id": "4bc17684",
   "metadata": {},
   "outputs": [
    {
     "name": "stdout",
     "output_type": "stream",
     "text": [
      "Training dataset: 20000\n",
      "Test dataset: 5000\n",
      "Review: <unk> the life of being <unk> by her father . . and the <unk> <unk> who dies in an <unk> <unk> powers <unk> <unk> who is simply <unk> <unk> her way through the <unk> inside a bank business in big city <unk> . when a <unk> lover murders who was supposed to be his next father in law and <unk> s new lover the sky s the <unk> for <unk> as she has written down her various relationships in a <unk> and <unk> makes it known the <unk> will <unk> it if certain pay doesn t come into her hands . <unk> <unk> <unk> to the bank <unk> <unk> george <unk> <unk> <unk> to paris instead of <unk> over lots of <unk> but soon finds himself <unk> in love after various <unk> with her in the city of love . this makes <unk> s mouth water as now she ll have <unk> the <unk> of success <unk> a man of <unk> and <unk> bring <unk> her way . though <unk> <unk> which will bring her to make a <unk> that <unk> her successful way of <unk> those <unk> . . <unk> now her husband is being <unk> with <unk> certain\n",
      "Label: 1\n",
      "Sequence Length: 200\n"
     ]
    }
   ],
   "source": [
    "\"✍️\"\n",
    "# @workUnit\n",
    "\n",
    "train_dataset = torch.load('./train_dataset_extended.npz')\n",
    "test_dataset = torch.load('./test_dataset_extended.npz')\n",
    "\n",
    "\n",
    "print(\"Training dataset: %d\" % len(train_dataset))\n",
    "print(\"Test dataset: %d\" % len(test_dataset))\n",
    "\n",
    "x, y = train_dataset[100]\n",
    "print(\"Review:\", \" \".join(vocab.lookup_tokens(x.numpy().tolist())))\n",
    "print(\"Label:\", y.item())\n",
    "print(\"Sequence Length: %d\"% len(x))\n",
    "\n",
    "class MyModel(nn.Module):\n",
    "    def __init__(self):\n",
    "        super().__init__()\n",
    "        self.embedding = nn.Embedding(2000, 32)\n",
    "        self.conv1d = nn.Conv1d(32, 64, kernel_size=3, padding=1)\n",
    "        self.ReLU = nn.ReLU()\n",
    "        self.dropout = nn.Dropout(0.8)\n",
    "        self.maxpool = nn.MaxPool1d(kernel_size=2)\n",
    "        self.lstm = nn.LSTM(64, 256, num_layers=2, batch_first=True)\n",
    "        self.mlp = nn.Sequential(\n",
    "            nn.Linear(256, 128),\n",
    "            nn.ReLU(),\n",
    "            nn.Linear(128, 64),\n",
    "            nn.ReLU(),\n",
    "            nn.Linear(64, 32),\n",
    "            nn.ReLU()\n",
    "        )\n",
    "        self.fc = nn.Linear(32, 2)\n",
    "    def forward(self, x):\n",
    "        out = self.embedding(x)\n",
    "        out = out.transpose(1, 2)\n",
    "        out = self.conv1d(out)\n",
    "        out = self.ReLU(out)\n",
    "        out = self.dropout(out)\n",
    "        out = self.maxpool(out)\n",
    "        out = out.transpose(1, 2)\n",
    "        y, (s, c) = self.lstm(out)\n",
    "        out = self.mlp(c[0])\n",
    "        return self.fc(out)"
   ]
  },
  {
   "cell_type": "code",
   "execution_count": 549,
   "id": "f44b82cd-984f-4eed-a08a-f3b090aad4c0",
   "metadata": {
    "editable": false
   },
   "outputs": [
    {
     "data": {
      "text/plain": [
       "torch.Size([128, 2])"
      ]
     },
     "execution_count": 549,
     "metadata": {},
     "output_type": "execute_result"
    }
   ],
   "source": [
    "\"🔒\"\n",
    "# @check\n",
    "# @title: verify model output\n",
    "\n",
    "model = MyModel()\n",
    "dataloader = DataLoader(train_dataset, batch_size=128, shuffle=True)\n",
    "xs, targets = next(iter(dataloader))\n",
    "model(xs).shape"
   ]
  },
  {
   "cell_type": "markdown",
   "id": "056ca003-ae0e-477e-9cc4-86934eae6e97",
   "metadata": {
    "editable": false
   },
   "source": [
    "## Training\n",
    "\n",
    "Implement a function `train` that will train the model.\n",
    "\n",
    "Inputs are:\n",
    "\n",
    "- model: an instance of the `MyModel`\n",
    "- train_dataset: a dataset to be trained on.\n",
    "- epochs: the number of epochs\n",
    "- max_batches: optional integer that will limit the number of batches per epoch.\n",
    "\n",
    "Returns a Pandas DataFrame will columns: `train_loss` and `train_acc` which are\n",
    "the training loss and accuracy per epoch.\n",
    "\n",
    "**Hint:**\n",
    "\n",
    "- Start with a simple model, and make sure that you can get a decent performance.\n",
    "- Start with a small number of `max_batches` to make sure you get a decent training accuracy.\n",
    "- Output debugging message with timing information, so you can estimate the training duration.\n",
    "- For good test accuracy, you need `max_matches ~ 500` and 20 epochs or more."
   ]
  },
  {
   "cell_type": "code",
   "execution_count": 550,
   "id": "54636d06",
   "metadata": {},
   "outputs": [
    {
     "name": "stdout",
     "output_type": "stream",
     "text": [
      "Using device: cuda\n",
      "Number of parameters: 969570\n"
     ]
    }
   ],
   "source": [
    "\"✍️\"\n",
    "# @workUnit\n",
    "import time\n",
    "device = torch.device('cuda' if torch.cuda.is_available() else 'cpu')\n",
    "print(\"Using device: %s\" % device)\n",
    "\n",
    "# print the number of model parameters\n",
    "print(\"Number of parameters: %d\" % sum(p.numel() for p in model.parameters()))\n",
    "def train(model: MyModel, train_dataset: Dataset, epochs: int, max_batches=None) -> pd.DataFrame:\n",
    "    \n",
    "    model = model.to(device)    \n",
    "    dataloader = DataLoader(train_dataset, batch_size=64, shuffle=True)\n",
    "    loss_fn = nn.CrossEntropyLoss()\n",
    "    loss_fn = loss_fn.to(device)\n",
    "    optimzer = optim.Adam(model.parameters(), lr=0.001, weight_decay=0.0001)\n",
    "    history = {\n",
    "        'train_loss': [],\n",
    "        'train_acc': []\n",
    "    }\n",
    "    start0 = time.time()\n",
    "    total, succ = 0.0, 0.0\n",
    "    for epoch in range(epochs):\n",
    "        start = time.time()\n",
    "        for i, (xs, targets) in enumerate(dataloader):\n",
    "            xs, targets = xs.to(device), targets.to(device)\n",
    "            optimzer.zero_grad()\n",
    "            y = model(xs)\n",
    "            loss = loss_fn(y, targets)\n",
    "            loss.backward()\n",
    "            optimzer.step()\n",
    "            history['train_loss'].append(loss.item())\n",
    "            with torch.no_grad():\n",
    "                pred = y.argmax(axis=-1)\n",
    "                succ += (pred == targets).sum().item()\n",
    "                total += len(targets)\n",
    "                history['train_acc'].append(succ / total)\n",
    "            if i % 100 == 0:\n",
    "                print(\"Batch %d: train_loss=%.4f, train_acc=%.4f\" % (i, loss.item(), history['train_acc'][-1]))\n",
    "            if max_batches is not None and i >= max_batches:\n",
    "                break\n",
    "        duration = time.time() - start\n",
    "        print(\"[Epoch [%d/%d]: train_loss=%.4f, train_acc=%.4f [%.2f Seconds]]\" % (epoch, epochs, np.mean(history['train_loss']), history['train_acc'][-1], duration))\n",
    "    duration0 = time.time() - start0\n",
    "    print(\"Training finished in %.2f Seconds\" % duration0)\n",
    "    return pd.DataFrame(history)\n"
   ]
  },
  {
   "cell_type": "code",
   "execution_count": 558,
   "id": "d28baf03",
   "metadata": {},
   "outputs": [
    {
     "name": "stdout",
     "output_type": "stream",
     "text": [
      "Batch 0: train_loss=0.6907, train_acc=0.5312\n",
      "Batch 100: train_loss=0.6951, train_acc=0.4997\n",
      "Batch 200: train_loss=0.6901, train_acc=0.4981\n",
      "Batch 300: train_loss=0.6930, train_acc=0.4967\n",
      "[Epoch [0/30]: train_loss=0.6935, train_acc=0.4974 [5.99 Seconds]]\n",
      "Batch 0: train_loss=0.6942, train_acc=0.4973\n",
      "Batch 100: train_loss=0.6922, train_acc=0.4999\n",
      "Batch 200: train_loss=0.6971, train_acc=0.5029\n",
      "Batch 300: train_loss=0.6916, train_acc=0.5030\n",
      "[Epoch [1/30]: train_loss=0.6933, train_acc=0.5030 [5.95 Seconds]]\n",
      "Batch 0: train_loss=0.6936, train_acc=0.5030\n",
      "Batch 100: train_loss=0.6921, train_acc=0.5040\n",
      "Batch 200: train_loss=0.6990, train_acc=0.5052\n",
      "Batch 300: train_loss=0.7298, train_acc=0.5073\n",
      "[Epoch [2/30]: train_loss=0.6929, train_acc=0.5076 [5.92 Seconds]]\n",
      "Batch 0: train_loss=0.7446, train_acc=0.5076\n",
      "Batch 100: train_loss=0.6922, train_acc=0.5077\n",
      "Batch 200: train_loss=0.6922, train_acc=0.5081\n",
      "Batch 300: train_loss=0.6934, train_acc=0.5076\n",
      "[Epoch [3/30]: train_loss=0.6929, train_acc=0.5077 [5.91 Seconds]]\n",
      "Batch 0: train_loss=0.6938, train_acc=0.5076\n",
      "Batch 100: train_loss=0.6931, train_acc=0.5083\n",
      "Batch 200: train_loss=0.6955, train_acc=0.5077\n",
      "Batch 300: train_loss=0.6872, train_acc=0.5091\n",
      "[Epoch [4/30]: train_loss=0.6926, train_acc=0.5096 [5.90 Seconds]]\n",
      "Batch 0: train_loss=0.6710, train_acc=0.5096\n",
      "Batch 100: train_loss=0.6907, train_acc=0.5107\n",
      "Batch 200: train_loss=0.6833, train_acc=0.5117\n",
      "Batch 300: train_loss=0.6534, train_acc=0.5140\n",
      "[Epoch [5/30]: train_loss=0.6916, train_acc=0.5141 [5.90 Seconds]]\n",
      "Batch 0: train_loss=0.6961, train_acc=0.5141\n",
      "Batch 100: train_loss=0.6954, train_acc=0.5142\n",
      "Batch 200: train_loss=0.6958, train_acc=0.5153\n",
      "Batch 300: train_loss=0.5838, train_acc=0.5198\n",
      "[Epoch [6/30]: train_loss=0.6896, train_acc=0.5206 [5.91 Seconds]]\n",
      "Batch 0: train_loss=0.6401, train_acc=0.5206\n",
      "Batch 100: train_loss=0.5301, train_acc=0.5303\n",
      "Batch 200: train_loss=0.3780, train_acc=0.5408\n",
      "Batch 300: train_loss=0.6054, train_acc=0.5517\n",
      "[Epoch [7/30]: train_loss=0.6624, train_acc=0.5529 [5.93 Seconds]]\n",
      "Batch 0: train_loss=0.3545, train_acc=0.5530\n",
      "Batch 100: train_loss=0.3709, train_acc=0.5640\n",
      "Batch 200: train_loss=0.3850, train_acc=0.5743\n",
      "Batch 300: train_loss=0.2940, train_acc=0.5841\n",
      "[Epoch [8/30]: train_loss=0.6281, train_acc=0.5853 [5.91 Seconds]]\n",
      "Batch 0: train_loss=0.4377, train_acc=0.5853\n",
      "Batch 100: train_loss=0.2168, train_acc=0.5950\n",
      "Batch 200: train_loss=0.2445, train_acc=0.6039\n",
      "Batch 300: train_loss=0.2927, train_acc=0.6121\n",
      "[Epoch [9/30]: train_loss=0.5978, train_acc=0.6129 [5.93 Seconds]]\n",
      "Batch 0: train_loss=0.2825, train_acc=0.6130\n",
      "Batch 100: train_loss=0.3385, train_acc=0.6209\n",
      "Batch 200: train_loss=0.4184, train_acc=0.6283\n",
      "Batch 300: train_loss=0.2931, train_acc=0.6354\n",
      "[Epoch [10/30]: train_loss=0.5716, train_acc=0.6362 [5.95 Seconds]]\n",
      "Batch 0: train_loss=0.3219, train_acc=0.6363\n",
      "Batch 100: train_loss=0.3338, train_acc=0.6430\n",
      "Batch 200: train_loss=0.2165, train_acc=0.6495\n",
      "Batch 300: train_loss=0.2909, train_acc=0.6554\n",
      "[Epoch [11/30]: train_loss=0.5485, train_acc=0.6561 [5.97 Seconds]]\n",
      "Batch 0: train_loss=0.3834, train_acc=0.6561\n",
      "Batch 100: train_loss=0.2995, train_acc=0.6620\n",
      "Batch 200: train_loss=0.2343, train_acc=0.6676\n",
      "Batch 300: train_loss=0.3511, train_acc=0.6728\n",
      "[Epoch [12/30]: train_loss=0.5286, train_acc=0.6733 [5.91 Seconds]]\n",
      "Batch 0: train_loss=0.2607, train_acc=0.6734\n",
      "Batch 100: train_loss=0.1568, train_acc=0.6786\n",
      "Batch 200: train_loss=0.3070, train_acc=0.6834\n",
      "Batch 300: train_loss=0.2976, train_acc=0.6879\n",
      "[Epoch [13/30]: train_loss=0.5109, train_acc=0.6884 [5.60 Seconds]]\n",
      "Batch 0: train_loss=0.2817, train_acc=0.6884\n",
      "Batch 100: train_loss=0.2157, train_acc=0.6930\n",
      "Batch 200: train_loss=0.3398, train_acc=0.6973\n",
      "Batch 300: train_loss=0.2287, train_acc=0.7012\n",
      "[Epoch [14/30]: train_loss=0.4950, train_acc=0.7016 [5.58 Seconds]]\n",
      "Batch 0: train_loss=0.2796, train_acc=0.7017\n",
      "Batch 100: train_loss=0.3040, train_acc=0.7057\n",
      "Batch 200: train_loss=0.2235, train_acc=0.7094\n",
      "Batch 300: train_loss=0.2901, train_acc=0.7131\n",
      "[Epoch [15/30]: train_loss=0.4806, train_acc=0.7135 [5.57 Seconds]]\n",
      "Batch 0: train_loss=0.2007, train_acc=0.7135\n",
      "Batch 100: train_loss=0.3552, train_acc=0.7171\n",
      "Batch 200: train_loss=0.3246, train_acc=0.7205\n",
      "Batch 300: train_loss=0.2143, train_acc=0.7238\n",
      "[Epoch [16/30]: train_loss=0.4673, train_acc=0.7241 [5.61 Seconds]]\n",
      "Batch 0: train_loss=0.2583, train_acc=0.7242\n",
      "Batch 100: train_loss=0.2206, train_acc=0.7274\n",
      "Batch 200: train_loss=0.3068, train_acc=0.7304\n",
      "Batch 300: train_loss=0.3494, train_acc=0.7333\n",
      "[Epoch [17/30]: train_loss=0.4554, train_acc=0.7336 [5.62 Seconds]]\n",
      "Batch 0: train_loss=0.1923, train_acc=0.7337\n",
      "Batch 100: train_loss=0.2502, train_acc=0.7366\n",
      "Batch 200: train_loss=0.1851, train_acc=0.7394\n",
      "Batch 300: train_loss=0.2539, train_acc=0.7419\n",
      "[Epoch [18/30]: train_loss=0.4446, train_acc=0.7422 [5.57 Seconds]]\n",
      "Batch 0: train_loss=0.3849, train_acc=0.7423\n",
      "Batch 100: train_loss=0.2821, train_acc=0.7450\n",
      "Batch 200: train_loss=0.1830, train_acc=0.7476\n",
      "Batch 300: train_loss=0.4226, train_acc=0.7500\n",
      "[Epoch [19/30]: train_loss=0.4345, train_acc=0.7502 [5.60 Seconds]]\n",
      "Batch 0: train_loss=0.2240, train_acc=0.7502\n",
      "Batch 100: train_loss=0.3129, train_acc=0.7527\n",
      "Batch 200: train_loss=0.2393, train_acc=0.7550\n",
      "Batch 300: train_loss=0.2230, train_acc=0.7573\n",
      "[Epoch [20/30]: train_loss=0.4252, train_acc=0.7575 [5.63 Seconds]]\n",
      "Batch 0: train_loss=0.1433, train_acc=0.7576\n",
      "Batch 100: train_loss=0.1201, train_acc=0.7599\n",
      "Batch 200: train_loss=0.2035, train_acc=0.7620\n",
      "Batch 300: train_loss=0.3145, train_acc=0.7640\n",
      "[Epoch [21/30]: train_loss=0.4166, train_acc=0.7642 [5.57 Seconds]]\n",
      "Batch 0: train_loss=0.2716, train_acc=0.7642\n",
      "Batch 100: train_loss=0.3275, train_acc=0.7663\n",
      "Batch 200: train_loss=0.2435, train_acc=0.7683\n",
      "Batch 300: train_loss=0.3889, train_acc=0.7701\n",
      "[Epoch [22/30]: train_loss=0.4087, train_acc=0.7703 [5.59 Seconds]]\n",
      "Batch 0: train_loss=0.1541, train_acc=0.7703\n",
      "Batch 100: train_loss=0.1987, train_acc=0.7723\n",
      "Batch 200: train_loss=0.4584, train_acc=0.7741\n",
      "Batch 300: train_loss=0.2758, train_acc=0.7759\n",
      "[Epoch [23/30]: train_loss=0.4012, train_acc=0.7761 [5.62 Seconds]]\n",
      "Batch 0: train_loss=0.1849, train_acc=0.7761\n",
      "Batch 100: train_loss=0.2985, train_acc=0.7779\n",
      "Batch 200: train_loss=0.3264, train_acc=0.7796\n",
      "Batch 300: train_loss=0.2188, train_acc=0.7813\n",
      "[Epoch [24/30]: train_loss=0.3942, train_acc=0.7814 [5.61 Seconds]]\n",
      "Batch 0: train_loss=0.2429, train_acc=0.7815\n",
      "Batch 100: train_loss=0.3031, train_acc=0.7831\n",
      "Batch 200: train_loss=0.1832, train_acc=0.7848\n",
      "Batch 300: train_loss=0.1530, train_acc=0.7863\n",
      "[Epoch [25/30]: train_loss=0.3875, train_acc=0.7865 [5.62 Seconds]]\n",
      "Batch 0: train_loss=0.2776, train_acc=0.7865\n",
      "Batch 100: train_loss=0.1833, train_acc=0.7882\n",
      "Batch 200: train_loss=0.1758, train_acc=0.7897\n",
      "Batch 300: train_loss=0.1506, train_acc=0.7912\n",
      "[Epoch [26/30]: train_loss=0.3811, train_acc=0.7913 [5.60 Seconds]]\n",
      "Batch 0: train_loss=0.1968, train_acc=0.7913\n",
      "Batch 100: train_loss=0.2167, train_acc=0.7929\n",
      "Batch 200: train_loss=0.2961, train_acc=0.7943\n",
      "Batch 300: train_loss=0.2187, train_acc=0.7956\n",
      "[Epoch [27/30]: train_loss=0.3751, train_acc=0.7958 [5.57 Seconds]]\n",
      "Batch 0: train_loss=0.0935, train_acc=0.7958\n",
      "Batch 100: train_loss=0.2203, train_acc=0.7972\n",
      "Batch 200: train_loss=0.1042, train_acc=0.7985\n",
      "Batch 300: train_loss=0.2695, train_acc=0.7997\n",
      "[Epoch [28/30]: train_loss=0.3695, train_acc=0.7998 [5.61 Seconds]]\n",
      "Batch 0: train_loss=0.1003, train_acc=0.7999\n",
      "Batch 100: train_loss=0.1299, train_acc=0.8012\n",
      "Batch 200: train_loss=0.1690, train_acc=0.8025\n",
      "Batch 300: train_loss=0.2135, train_acc=0.8037\n",
      "[Epoch [29/30]: train_loss=0.3641, train_acc=0.8038 [5.57 Seconds]]\n",
      "Training finished in 172.23 Seconds\n",
      "CPU times: total: 2min 52s\n",
      "Wall time: 2min 52s\n"
     ]
    }
   ],
   "source": [
    "%%time\n",
    "\"✍️\"\n",
    "# @workUnit\n",
    "\n",
    "#\n",
    "# train the model\n",
    "#\n",
    "model = MyModel()\n",
    "hist = train(model, train_dataset, epochs=30, max_batches=500)"
   ]
  },
  {
   "cell_type": "code",
   "execution_count": 559,
   "id": "e2c52b93-0fe5-4a9b-a2bd-fe6ec72403d5",
   "metadata": {
    "editable": false
   },
   "outputs": [
    {
     "data": {
      "text/plain": [
       "Index(['train_loss', 'train_acc'], dtype='object')"
      ]
     },
     "execution_count": 559,
     "metadata": {},
     "output_type": "execute_result"
    }
   ],
   "source": [
    "\"🔒\"\n",
    "# @check\n",
    "# @title: verify dataframe columns\n",
    "\n",
    "hist.columns"
   ]
  },
  {
   "cell_type": "code",
   "execution_count": 560,
   "id": "d7ce09d9-fee9-43a3-affd-2a49e42a3718",
   "metadata": {
    "editable": false
   },
   "outputs": [
    {
     "data": {
      "image/png": "[encoded data removed]",
      "text/plain": [
       "<Figure size 640x480 with 1 Axes>"
      ]
     },
     "metadata": {},
     "output_type": "display_data"
    }
   ],
   "source": [
    "\"🔒\"\n",
    "#\n",
    "# Plot the training accuracy\n",
    "#\n",
    "hist.train_acc.plot.line();"
   ]
  },
  {
   "cell_type": "code",
   "execution_count": 561,
   "id": "9e5e4bef-1342-46ef-992a-2989c35872c4",
   "metadata": {
    "editable": false
   },
   "outputs": [],
   "source": [
    "\"🔒\"\n",
    "#\n",
    "# Save the entire model to disk\n",
    "#\n",
    "torch.save(model, 'mymodel.pt')"
   ]
  },
  {
   "cell_type": "markdown",
   "id": "75560127-a85e-4bef-89ec-ae8f30b9290e",
   "metadata": {
    "editable": false
   },
   "source": [
    "## Testing\n",
    "\n",
    "The following code evaluates your model using `test_dataset`."
   ]
  },
  {
   "cell_type": "code",
   "execution_count": 574,
   "id": "928c21ce-e239-41a1-b502-d46fea58bded",
   "metadata": {
    "editable": false
   },
   "outputs": [
    {
     "name": "stdout",
     "output_type": "stream",
     "text": [
      "Saved model has test accuracy = 85.38\n"
     ]
    }
   ],
   "source": [
    "\"🔒\"\n",
    "#\n",
    "# Test your current model in memory\n",
    "#\n",
    "test_lib.test_saved_model(model)"
   ]
  },
  {
   "cell_type": "code",
   "execution_count": 575,
   "id": "749afd4f-ac4f-4910-82c5-029b80e8c8b0",
   "metadata": {
    "editable": false
   },
   "outputs": [
    {
     "name": "stdout",
     "output_type": "stream",
     "text": [
      "Loading from mymodel.pt\n",
      "Saved model has test accuracy = 85.96\n"
     ]
    }
   ],
   "source": [
    "\"🔒\"\n",
    "#\n",
    "# Test your saved model on disk\n",
    "#\n",
    "test_lib.test_saved_model()"
   ]
  }
 ],
 "metadata": {
  "kernelspec": {
   "display_name": "Python 3",
   "language": "python",
   "name": "python3"
  },
  "language_info": {
   "codemirror_mode": {
    "name": "ipython",
    "version": 3
   },
   "file_extension": ".py",
   "mimetype": "text/x-python",
   "name": "python",
   "nbconvert_exporter": "python",
   "pygments_lexer": "ipython3",
   "version": "3.10.8"
  },
  "vscode": {
   "interpreter": {
    "hash": "369f2c481f4da34e4445cda3fffd2e751bd1c4d706f27375911949ba6bb62e1c"
   }
  }
 },
 "nbformat": 4,
 "nbformat_minor": 5
}
