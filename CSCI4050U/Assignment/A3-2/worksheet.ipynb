{
 "cells": [
  {
   "cell_type": "markdown",
   "id": "07c37879-4f14-48ef-9946-7b052acd50b3",
   "metadata": {
    "editable": false
   },
   "source": [
    "# Assignment 3 - Part 2\n",
    "\n",
    "In this assignment, you are to architect a neural network to perform text classification.\n",
    "\n",
    "Grading scheme:\n",
    "\n",
    "- Model: 10\n",
    "- Training: 10\n",
    "- Test accuracy: 20\n",
    "\n",
    "```\n",
    "    >= 70%: 5/10\n",
    "    >= 75%: 10/20\n",
    "    >= 80%: 15/20\n",
    "    >= 85%: 20/20\n",
    "```\n",
    "\n",
    "Total: 40"
   ]
  },
  {
   "cell_type": "code",
   "execution_count": 242,
   "id": "cb7088f5-1b43-4896-b27a-7c24e66e1cc7",
   "metadata": {
    "editable": false
   },
   "outputs": [],
   "source": [
    "\"🔒\"\n",
    "import torch\n",
    "from torch import (nn, optim)\n",
    "from torch.utils.data import (Dataset, DataLoader, random_split)\n",
    "from torchsummaryX import summary\n",
    "import pandas as pd\n",
    "import numpy as np\n",
    "import warnings\n",
    "import test_lib\n",
    "from importlib import reload\n",
    "reload(test_lib)\n",
    "warnings.filterwarnings('ignore')"
   ]
  },
  {
   "cell_type": "markdown",
   "id": "cbd18a40-2b01-43c3-9a1f-20e51a8e2acc",
   "metadata": {
    "editable": false
   },
   "source": [
    "## Load dataset and vocabulary from file\n",
    "\n",
    "You are given two dataset files for training and testing."
   ]
  },
  {
   "cell_type": "code",
   "execution_count": 243,
   "id": "568c9ecd-c4b0-47cc-aed9-748ef2595ae2",
   "metadata": {
    "editable": false
   },
   "outputs": [
    {
     "name": "stdout",
     "output_type": "stream",
     "text": [
      "Training dataset: 20000\n",
      "Test dataset: 5000\n"
     ]
    }
   ],
   "source": [
    "\"🔒\"\n",
    "train_dataset = torch.load('./train_dataset.npz')\n",
    "test_dataset = torch.load('./test_dataset.npz')\n",
    "\n",
    "print(\"Training dataset: %d\" % len(train_dataset))\n",
    "print(\"Test dataset: %d\" % len(test_dataset))"
   ]
  },
  {
   "cell_type": "markdown",
   "id": "49a3319b-689b-4c45-8964-e5f3a809c0c4",
   "metadata": {
    "editable": false
   },
   "source": [
    "## Load the vocabulary\n",
    "\n",
    "You are given the vocabulary file.  This is used **only** for decoding\n",
    "the integers in the dataset.  It is not used for training, nor testing."
   ]
  },
  {
   "cell_type": "code",
   "execution_count": 244,
   "id": "262a7f51-b7b6-44c9-b0c4-c273dba4dd97",
   "metadata": {
    "editable": false
   },
   "outputs": [
    {
     "name": "stdout",
     "output_type": "stream",
     "text": [
      "There are 2000 tokens in vocabulary.\n"
     ]
    }
   ],
   "source": [
    "\"🔒\"\n",
    "vocab = torch.load('./vocab.pt')\n",
    "print(\"There are %d tokens in vocabulary.\" % len(vocab))"
   ]
  },
  {
   "cell_type": "markdown",
   "id": "59a71f15-84e6-4f97-b652-2814c9ef708f",
   "metadata": {
    "editable": false
   },
   "source": [
    "## Check data"
   ]
  },
  {
   "cell_type": "code",
   "execution_count": 245,
   "id": "266639d3-25c6-4e48-968f-bde8d880572d",
   "metadata": {
    "editable": false
   },
   "outputs": [
    {
     "name": "stdout",
     "output_type": "stream",
     "text": [
      "Review: one of the very best three <unk> <unk> ever . a <unk> house full of evil guys and the <unk> <unk> the <unk> detective <unk> s best men . <unk> is in top form in the famous in the dark scene . <unk> <unk> provides excellent support in his mr . <unk> role as the <unk> of a murder plot . before it s over <unk> s <unk> little <unk> is <unk> to great effect . this minute gem moves about as fast as any <unk> s short and <unk> twice the <unk> . highly recommended . <pad> <pad> <pad>\n",
      "Label: 1\n"
     ]
    }
   ],
   "source": [
    "\"🔒\"\n",
    "# @check\n",
    "# @title: data integrity\n",
    "\n",
    "x, y = train_dataset[100]\n",
    "print(\"Review:\", \" \".join(vocab.lookup_tokens(x.numpy().tolist())))\n",
    "print(\"Label:\", y.item())"
   ]
  },
  {
   "cell_type": "markdown",
   "id": "53e1709b-864c-4a3a-8d99-749575694d86",
   "metadata": {
    "editable": false
   },
   "source": [
    "## Model\n",
    "\n",
    "Construct a model that can process and learn from the samples from dataset.\n",
    "\n",
    "**Hints:**  Learn advanced architectural layers:\n",
    "\n",
    "- LSTM: https://pytorch.org/docs/stable/generated/torch.nn.LSTM.html\n",
    "- Conv1D: https://pytorch.org/docs/stable/generated/torch.nn.Conv1d.html\n",
    "- MaxPool1d: https://pytorch.org/docs/stable/generated/torch.nn.MaxPool1d.html\n",
    "- Dropout: https://pytorch.org/docs/stable/generated/torch.nn.Dropout.html"
   ]
  },
  {
   "cell_type": "code",
   "execution_count": 248,
   "id": "4bc17684",
   "metadata": {},
   "outputs": [
    {
     "name": "stdout",
     "output_type": "stream",
     "text": [
      "Training dataset: 20000\n",
      "Test dataset: 5000\n",
      "Review: <unk> the life of being <unk> by her father . . and the <unk> <unk> who dies in an <unk> <unk> powers <unk> <unk> who is simply <unk> <unk> her way through the <unk> inside a bank business in big city <unk> . when a <unk> lover murders who was supposed to be his next father in law and <unk> s new lover the sky s the <unk> for <unk> as she has written down her various relationships in a <unk> and <unk> makes it known the <unk> will <unk> it if certain pay doesn t come into her hands . <unk> <unk> <unk> to the bank <unk> <unk> george <unk> <unk> <unk> to paris instead of <unk> over lots of <unk> but soon finds himself <unk> in love after various <unk> with her in the city of love . this makes <unk> s mouth water as now she ll have <unk> the <unk> of success <unk> a man of <unk> and <unk> bring <unk> her way . though <unk> <unk> which will bring her to make a <unk> that <unk> her successful way of <unk> those <unk> . . <unk> now her husband is being <unk> with <unk> certain\n",
      "Label: 1\n",
      "Sequence Length: 200\n"
     ]
    }
   ],
   "source": [
    "\"✍️\"\n",
    "# @workUnit\n",
    "\n",
    "train_dataset = torch.load('./train_dataset_extended.npz')\n",
    "test_dataset = torch.load('./test_dataset_extended.npz')\n",
    "\n",
    "\n",
    "print(\"Training dataset: %d\" % len(train_dataset))\n",
    "print(\"Test dataset: %d\" % len(test_dataset))\n",
    "\n",
    "x, y = train_dataset[100]\n",
    "print(\"Review:\", \" \".join(vocab.lookup_tokens(x.numpy().tolist())))\n",
    "print(\"Label:\", y.item())\n",
    "print(\"Sequence Length: %d\"% len(x))\n",
    "\n",
    "class MyModel(nn.Module):\n",
    "    def __init__(self):\n",
    "        super().__init__()\n",
    "        self.embedding = nn.Embedding(2000, 32)\n",
    "        self.conv1d = nn.Conv1d(32, 64, kernel_size=3, padding=1)\n",
    "        self.ReLU = nn.ReLU()\n",
    "        self.dropout = nn.Dropout(0.7)\n",
    "        self.maxpool = nn.MaxPool1d(kernel_size=2)\n",
    "        self.lstm = nn.LSTM(64, 256, num_layers=2, batch_first=True)\n",
    "        self.mlp = nn.Sequential(\n",
    "            nn.Linear(256, 128),\n",
    "            nn.ReLU(),\n",
    "            nn.Linear(128, 64),\n",
    "            nn.ReLU(),\n",
    "            nn.Linear(64, 32),\n",
    "            nn.ReLU()\n",
    "        )\n",
    "        self.fc = nn.Linear(32, 2)\n",
    "    def forward(self, x):\n",
    "        out = self.embedding(x)\n",
    "        out = out.transpose(1, 2)\n",
    "        out = self.conv1d(out)\n",
    "        out = self.ReLU(out)\n",
    "        out = self.dropout(out)\n",
    "        out = self.maxpool(out)\n",
    "        out = out.transpose(1, 2)\n",
    "        y, (s, c) = self.lstm(out)\n",
    "        out = self.mlp(c[0])\n",
    "        return self.fc(out)"
   ]
  },
  {
   "cell_type": "code",
   "execution_count": 249,
   "id": "f44b82cd-984f-4eed-a08a-f3b090aad4c0",
   "metadata": {
    "editable": false
   },
   "outputs": [
    {
     "data": {
      "text/plain": [
       "torch.Size([128, 2])"
      ]
     },
     "execution_count": 249,
     "metadata": {},
     "output_type": "execute_result"
    }
   ],
   "source": [
    "\"🔒\"\n",
    "# @check\n",
    "# @title: verify model output\n",
    "\n",
    "model = MyModel()\n",
    "dataloader = DataLoader(train_dataset, batch_size=128, shuffle=True)\n",
    "xs, targets = next(iter(dataloader))\n",
    "model(xs).shape"
   ]
  },
  {
   "cell_type": "markdown",
   "id": "056ca003-ae0e-477e-9cc4-86934eae6e97",
   "metadata": {
    "editable": false
   },
   "source": [
    "## Training\n",
    "\n",
    "Implement a function `train` that will train the model.\n",
    "\n",
    "Inputs are:\n",
    "\n",
    "- model: an instance of the `MyModel`\n",
    "- train_dataset: a dataset to be trained on.\n",
    "- epochs: the number of epochs\n",
    "- max_batches: optional integer that will limit the number of batches per epoch.\n",
    "\n",
    "Returns a Pandas DataFrame will columns: `train_loss` and `train_acc` which are\n",
    "the training loss and accuracy per epoch.\n",
    "\n",
    "**Hint:**\n",
    "\n",
    "- Start with a simple model, and make sure that you can get a decent performance.\n",
    "- Start with a small number of `max_batches` to make sure you get a decent training accuracy.\n",
    "- Output debugging message with timing information, so you can estimate the training duration.\n",
    "- For good test accuracy, you need `max_matches ~ 500` and 20 epochs or more."
   ]
  },
  {
   "cell_type": "code",
   "execution_count": 250,
   "id": "54636d06",
   "metadata": {},
   "outputs": [
    {
     "name": "stdout",
     "output_type": "stream",
     "text": [
      "Using device: cuda\n",
      "Number of parameters: 969570\n"
     ]
    }
   ],
   "source": [
    "\"✍️\"\n",
    "# @workUnit\n",
    "import time\n",
    "device = torch.device('cuda' if torch.cuda.is_available() else 'cpu')\n",
    "print(\"Using device: %s\" % device)\n",
    "\n",
    "# print the number of model parameters\n",
    "print(\"Number of parameters: %d\" % sum(p.numel() for p in model.parameters()))\n",
    "def train(model: MyModel, train_dataset: Dataset, epochs: int, max_batches=None) -> pd.DataFrame:\n",
    "    \n",
    "    model = model.to(device)    \n",
    "    dataloader = DataLoader(train_dataset, batch_size=32, shuffle=True)\n",
    "    loss_fn = nn.CrossEntropyLoss()\n",
    "    loss_fn = loss_fn.to(device)\n",
    "    optimzer = optim.Adam(model.parameters(), weight_decay=1e-5)\n",
    "    # scheduler = optim.lr_scheduler.StepLR(optimzer, step_size=8, gamma=0.01)\n",
    "    history = {\n",
    "        'train_loss': [],\n",
    "        'train_acc': []\n",
    "    }\n",
    "    start0 = time.time()\n",
    "    total, succ = 0.0, 0.0\n",
    "    for epoch in range(epochs):\n",
    "        start = time.time()\n",
    "        for i, (xs, targets) in enumerate(dataloader):\n",
    "            xs, targets = xs.to(device), targets.to(device)\n",
    "            optimzer.zero_grad()\n",
    "            y = model(xs)\n",
    "            loss = loss_fn(y, targets)\n",
    "            loss.backward()\n",
    "            optimzer.step()\n",
    "            history['train_loss'].append(loss.item())\n",
    "            with torch.no_grad():\n",
    "                pred = y.argmax(axis=-1)\n",
    "                succ += (pred == targets).sum().item()\n",
    "                total += len(targets)\n",
    "                history['train_acc'].append(succ / total)\n",
    "            if i % 100 == 0:\n",
    "                print(\"Batch %d: train_loss=%.4f, train_acc=%.4f\" % (i, loss.item(), history['train_acc'][-1]))\n",
    "            if max_batches is not None and i >= max_batches:\n",
    "                break\n",
    "        duration = time.time() - start\n",
    "        print(\"[Epoch [%d/%d]: train_loss=%.4f, train_acc=%.4f [%.2f Seconds]]\" % (epoch, epochs, np.mean(history['train_loss']), history['train_acc'][-1], duration))\n",
    "    duration0 = time.time() - start0\n",
    "    print(\"Training finished in %.2f Seconds\" % duration0)\n",
    "    return pd.DataFrame(history)\n"
   ]
  },
  {
   "cell_type": "code",
   "execution_count": 251,
   "id": "d28baf03",
   "metadata": {},
   "outputs": [
    {
     "name": "stdout",
     "output_type": "stream",
     "text": [
      "Batch 0: train_loss=0.6641, train_acc=0.6562\n",
      "Batch 100: train_loss=0.6911, train_acc=0.5025\n",
      "Batch 200: train_loss=0.6931, train_acc=0.4995\n",
      "Batch 300: train_loss=0.6920, train_acc=0.4941\n",
      "Batch 400: train_loss=0.6890, train_acc=0.4994\n",
      "Batch 500: train_loss=0.6943, train_acc=0.5014\n",
      "[Epoch [0/20]: train_loss=0.6940, train_acc=0.5014 [8.16 Seconds]]\n",
      "Batch 0: train_loss=0.6926, train_acc=0.5015\n",
      "Batch 100: train_loss=0.6846, train_acc=0.5015\n",
      "Batch 200: train_loss=0.6943, train_acc=0.5032\n",
      "Batch 300: train_loss=0.6905, train_acc=0.5052\n",
      "Batch 400: train_loss=0.6880, train_acc=0.5074\n",
      "Batch 500: train_loss=0.6975, train_acc=0.5082\n",
      "[Epoch [1/20]: train_loss=0.6934, train_acc=0.5082 [8.52 Seconds]]\n",
      "Batch 0: train_loss=0.6941, train_acc=0.5082\n",
      "Batch 100: train_loss=0.6993, train_acc=0.5102\n",
      "Batch 200: train_loss=0.6560, train_acc=0.5137\n",
      "Batch 300: train_loss=0.6237, train_acc=0.5222\n",
      "Batch 400: train_loss=0.5823, train_acc=0.5344\n",
      "Batch 500: train_loss=0.4492, train_acc=0.5485\n",
      "[Epoch [2/20]: train_loss=0.6704, train_acc=0.5485 [8.24 Seconds]]\n",
      "Batch 0: train_loss=0.3969, train_acc=0.5487\n",
      "Batch 100: train_loss=0.4923, train_acc=0.5633\n",
      "Batch 200: train_loss=0.6499, train_acc=0.5773\n",
      "Batch 300: train_loss=0.3686, train_acc=0.5905\n",
      "Batch 400: train_loss=0.5285, train_acc=0.6018\n",
      "Batch 500: train_loss=0.5336, train_acc=0.6132\n",
      "[Epoch [3/20]: train_loss=0.6080, train_acc=0.6132 [8.04 Seconds]]\n",
      "Batch 0: train_loss=0.3222, train_acc=0.6133\n",
      "Batch 100: train_loss=0.3171, train_acc=0.6243\n",
      "Batch 200: train_loss=0.2653, train_acc=0.6336\n",
      "Batch 300: train_loss=0.3569, train_acc=0.6422\n",
      "Batch 400: train_loss=0.2277, train_acc=0.6505\n",
      "Batch 500: train_loss=0.3104, train_acc=0.6585\n",
      "[Epoch [4/20]: train_loss=0.5585, train_acc=0.6585 [8.53 Seconds]]\n",
      "Batch 0: train_loss=0.2696, train_acc=0.6586\n",
      "Batch 100: train_loss=0.4616, train_acc=0.6660\n",
      "Batch 200: train_loss=0.4455, train_acc=0.6729\n",
      "Batch 300: train_loss=0.4398, train_acc=0.6795\n",
      "Batch 400: train_loss=0.2849, train_acc=0.6853\n",
      "Batch 500: train_loss=0.4365, train_acc=0.6909\n",
      "[Epoch [5/20]: train_loss=0.5206, train_acc=0.6909 [8.18 Seconds]]\n",
      "Batch 0: train_loss=0.2537, train_acc=0.6910\n",
      "Batch 100: train_loss=0.2411, train_acc=0.6968\n",
      "Batch 200: train_loss=0.2521, train_acc=0.7020\n",
      "Batch 300: train_loss=0.3444, train_acc=0.7072\n",
      "Batch 400: train_loss=0.3334, train_acc=0.7121\n",
      "Batch 500: train_loss=0.3101, train_acc=0.7162\n",
      "[Epoch [6/20]: train_loss=0.4907, train_acc=0.7162 [8.11 Seconds]]\n",
      "Batch 0: train_loss=0.1291, train_acc=0.7163\n",
      "Batch 100: train_loss=0.4446, train_acc=0.7209\n",
      "Batch 200: train_loss=0.1754, train_acc=0.7250\n",
      "Batch 300: train_loss=0.2028, train_acc=0.7290\n",
      "Batch 400: train_loss=0.3365, train_acc=0.7326\n",
      "Batch 500: train_loss=0.2724, train_acc=0.7361\n",
      "[Epoch [7/20]: train_loss=0.4667, train_acc=0.7361 [8.17 Seconds]]\n",
      "Batch 0: train_loss=0.2804, train_acc=0.7361\n",
      "Batch 100: train_loss=0.3844, train_acc=0.7396\n",
      "Batch 200: train_loss=0.2911, train_acc=0.7428\n",
      "Batch 300: train_loss=0.1359, train_acc=0.7459\n",
      "Batch 400: train_loss=0.2965, train_acc=0.7489\n",
      "Batch 500: train_loss=0.2666, train_acc=0.7516\n",
      "[Epoch [8/20]: train_loss=0.4476, train_acc=0.7516 [8.60 Seconds]]\n",
      "Batch 0: train_loss=0.4689, train_acc=0.7516\n",
      "Batch 100: train_loss=0.2420, train_acc=0.7544\n",
      "Batch 200: train_loss=0.2912, train_acc=0.7572\n",
      "Batch 300: train_loss=0.4000, train_acc=0.7598\n",
      "Batch 400: train_loss=0.2517, train_acc=0.7624\n",
      "Batch 500: train_loss=0.3157, train_acc=0.7646\n",
      "[Epoch [9/20]: train_loss=0.4313, train_acc=0.7646 [8.34 Seconds]]\n",
      "Batch 0: train_loss=0.2053, train_acc=0.7646\n",
      "Batch 100: train_loss=0.3686, train_acc=0.7669\n",
      "Batch 200: train_loss=0.1312, train_acc=0.7692\n",
      "Batch 300: train_loss=0.2231, train_acc=0.7713\n",
      "Batch 400: train_loss=0.2943, train_acc=0.7733\n",
      "Batch 500: train_loss=0.2887, train_acc=0.7754\n",
      "[Epoch [10/20]: train_loss=0.4173, train_acc=0.7754 [8.21 Seconds]]\n",
      "Batch 0: train_loss=0.1717, train_acc=0.7754\n",
      "Batch 100: train_loss=0.1569, train_acc=0.7776\n",
      "Batch 200: train_loss=0.3660, train_acc=0.7794\n",
      "Batch 300: train_loss=0.3255, train_acc=0.7813\n",
      "Batch 400: train_loss=0.2459, train_acc=0.7830\n",
      "Batch 500: train_loss=0.2779, train_acc=0.7847\n",
      "[Epoch [11/20]: train_loss=0.4049, train_acc=0.7847 [8.44 Seconds]]\n",
      "Batch 0: train_loss=0.4245, train_acc=0.7847\n",
      "Batch 100: train_loss=0.2712, train_acc=0.7865\n",
      "Batch 200: train_loss=0.1741, train_acc=0.7883\n",
      "Batch 300: train_loss=0.4112, train_acc=0.7901\n",
      "Batch 400: train_loss=0.1992, train_acc=0.7916\n",
      "Batch 500: train_loss=0.1829, train_acc=0.7930\n",
      "[Epoch [12/20]: train_loss=0.3939, train_acc=0.7930 [8.31 Seconds]]\n",
      "Batch 0: train_loss=0.3298, train_acc=0.7930\n",
      "Batch 100: train_loss=0.2535, train_acc=0.7944\n",
      "Batch 200: train_loss=0.1155, train_acc=0.7960\n",
      "Batch 300: train_loss=0.2781, train_acc=0.7973\n",
      "Batch 400: train_loss=0.3752, train_acc=0.7987\n",
      "Batch 500: train_loss=0.3279, train_acc=0.8001\n",
      "[Epoch [13/20]: train_loss=0.3842, train_acc=0.8001 [8.17 Seconds]]\n",
      "Batch 0: train_loss=0.2100, train_acc=0.8001\n",
      "Batch 100: train_loss=0.1731, train_acc=0.8015\n",
      "Batch 200: train_loss=0.3487, train_acc=0.8029\n",
      "Batch 300: train_loss=0.1845, train_acc=0.8041\n",
      "Batch 400: train_loss=0.2770, train_acc=0.8053\n",
      "Batch 500: train_loss=0.3128, train_acc=0.8066\n",
      "[Epoch [14/20]: train_loss=0.3755, train_acc=0.8066 [8.21 Seconds]]\n",
      "Batch 0: train_loss=0.1921, train_acc=0.8066\n",
      "Batch 100: train_loss=0.2142, train_acc=0.8078\n",
      "Batch 200: train_loss=0.2891, train_acc=0.8089\n",
      "Batch 300: train_loss=0.2106, train_acc=0.8100\n",
      "Batch 400: train_loss=0.2036, train_acc=0.8110\n",
      "Batch 500: train_loss=0.1929, train_acc=0.8120\n",
      "[Epoch [15/20]: train_loss=0.3677, train_acc=0.8120 [8.46 Seconds]]\n",
      "Batch 0: train_loss=0.3305, train_acc=0.8120\n",
      "Batch 100: train_loss=0.4166, train_acc=0.8131\n",
      "Batch 200: train_loss=0.1691, train_acc=0.8141\n",
      "Batch 300: train_loss=0.2989, train_acc=0.8151\n",
      "Batch 400: train_loss=0.4368, train_acc=0.8161\n",
      "Batch 500: train_loss=0.2370, train_acc=0.8171\n",
      "[Epoch [16/20]: train_loss=0.3606, train_acc=0.8171 [8.19 Seconds]]\n",
      "Batch 0: train_loss=0.1762, train_acc=0.8171\n",
      "Batch 100: train_loss=0.1608, train_acc=0.8181\n",
      "Batch 200: train_loss=0.2737, train_acc=0.8191\n",
      "Batch 300: train_loss=0.1665, train_acc=0.8200\n",
      "Batch 400: train_loss=0.2882, train_acc=0.8209\n",
      "Batch 500: train_loss=0.1556, train_acc=0.8218\n",
      "[Epoch [17/20]: train_loss=0.3538, train_acc=0.8218 [8.12 Seconds]]\n",
      "Batch 0: train_loss=0.2055, train_acc=0.8218\n",
      "Batch 100: train_loss=0.1574, train_acc=0.8228\n",
      "Batch 200: train_loss=0.3859, train_acc=0.8237\n",
      "Batch 300: train_loss=0.1918, train_acc=0.8246\n",
      "Batch 400: train_loss=0.1707, train_acc=0.8254\n",
      "Batch 500: train_loss=0.3448, train_acc=0.8261\n",
      "[Epoch [18/20]: train_loss=0.3477, train_acc=0.8261 [8.25 Seconds]]\n",
      "Batch 0: train_loss=0.2130, train_acc=0.8261\n",
      "Batch 100: train_loss=0.2659, train_acc=0.8270\n",
      "Batch 200: train_loss=0.2674, train_acc=0.8279\n",
      "Batch 300: train_loss=0.4391, train_acc=0.8287\n",
      "Batch 400: train_loss=0.1329, train_acc=0.8294\n",
      "Batch 500: train_loss=0.1872, train_acc=0.8302\n",
      "[Epoch [19/20]: train_loss=0.3420, train_acc=0.8302 [8.28 Seconds]]\n",
      "Training finished in 165.55 Seconds\n",
      "CPU times: total: 2min 44s\n",
      "Wall time: 2min 45s\n"
     ]
    }
   ],
   "source": [
    "%%time\n",
    "\"✍️\"\n",
    "# @workUnit\n",
    "\n",
    "#\n",
    "# train the model\n",
    "#\n",
    "model = MyModel()\n",
    "hist = train(model, train_dataset, epochs=20, max_batches=500)"
   ]
  },
  {
   "cell_type": "code",
   "execution_count": 252,
   "id": "e2c52b93-0fe5-4a9b-a2bd-fe6ec72403d5",
   "metadata": {
    "editable": false
   },
   "outputs": [
    {
     "data": {
      "text/plain": [
       "Index(['train_loss', 'train_acc'], dtype='object')"
      ]
     },
     "execution_count": 252,
     "metadata": {},
     "output_type": "execute_result"
    }
   ],
   "source": [
    "\"🔒\"\n",
    "# @check\n",
    "# @title: verify dataframe columns\n",
    "\n",
    "hist.columns"
   ]
  },
  {
   "cell_type": "code",
   "execution_count": 253,
   "id": "d7ce09d9-fee9-43a3-affd-2a49e42a3718",
   "metadata": {
    "editable": false
   },
   "outputs": [
    {
     "data": {
      "image/png": "[encoded data removed]",
      "text/plain": [
       "<Figure size 640x480 with 1 Axes>"
      ]
     },
     "metadata": {},
     "output_type": "display_data"
    }
   ],
   "source": [
    "\"🔒\"\n",
    "#\n",
    "# Plot the training accuracy\n",
    "#\n",
    "hist.train_acc.plot.line();"
   ]
  },
  {
   "cell_type": "code",
   "execution_count": 254,
   "id": "9e5e4bef-1342-46ef-992a-2989c35872c4",
   "metadata": {
    "editable": false
   },
   "outputs": [],
   "source": [
    "\"🔒\"\n",
    "#\n",
    "# Save the entire model to disk\n",
    "#\n",
    "torch.save(model, 'mymodel.pt')"
   ]
  },
  {
   "cell_type": "markdown",
   "id": "75560127-a85e-4bef-89ec-ae8f30b9290e",
   "metadata": {
    "editable": false
   },
   "source": [
    "## Testing\n",
    "\n",
    "The following code evaluates your model using `test_dataset`."
   ]
  },
  {
   "cell_type": "code",
   "execution_count": 265,
   "id": "928c21ce-e239-41a1-b502-d46fea58bded",
   "metadata": {
    "editable": false
   },
   "outputs": [
    {
     "name": "stdout",
     "output_type": "stream",
     "text": [
      "Saved model has test accuracy = 84.56\n"
     ]
    }
   ],
   "source": [
    "\"🔒\"\n",
    "#\n",
    "# Test your current model in memory\n",
    "#\n",
    "test_lib.test_saved_model(model)"
   ]
  },
  {
   "cell_type": "code",
   "execution_count": 266,
   "id": "749afd4f-ac4f-4910-82c5-029b80e8c8b0",
   "metadata": {
    "editable": false
   },
   "outputs": [
    {
     "name": "stdout",
     "output_type": "stream",
     "text": [
      "Loading from mymodel.pt\n",
      "Saved model has test accuracy = 84.12\n"
     ]
    }
   ],
   "source": [
    "\"🔒\"\n",
    "#\n",
    "# Test your saved model on disk\n",
    "#\n",
    "test_lib.test_saved_model()"
   ]
  },
  {
   "cell_type": "code",
   "execution_count": null,
   "id": "475af22c",
   "metadata": {},
   "outputs": [],
   "source": []
  }
 ],
 "metadata": {
  "kernelspec": {
   "display_name": "Python 3",
   "language": "python",
   "name": "python3"
  },
  "language_info": {
   "codemirror_mode": {
    "name": "ipython",
    "version": 3
   },
   "file_extension": ".py",
   "mimetype": "text/x-python",
   "name": "python",
   "nbconvert_exporter": "python",
   "pygments_lexer": "ipython3",
   "version": "3.10.8"
  },
  "vscode": {
   "interpreter": {
    "hash": "369f2c481f4da34e4445cda3fffd2e751bd1c4d706f27375911949ba6bb62e1c"
   }
  }
 },
 "nbformat": 4,
 "nbformat_minor": 5
}
