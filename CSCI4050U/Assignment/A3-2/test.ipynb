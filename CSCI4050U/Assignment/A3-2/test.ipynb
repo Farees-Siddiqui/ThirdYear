{
 "cells": [
  {
   "cell_type": "code",
   "execution_count": 1,
   "metadata": {},
   "outputs": [],
   "source": [
    "import torch\n",
    "import torchvision\n",
    "import torch.nn as nn\n",
    "import torch.nn.functional as F\n",
    "from torch.utils.data import DataLoader, random_split\n",
    "from torchsummaryX import summary\n",
    "import numpy as np\n",
    "import time\n",
    "from tqdm.notebook import trange, tqdm"
   ]
  },
  {
   "cell_type": "code",
   "execution_count": 2,
   "metadata": {},
   "outputs": [],
   "source": [
    "device = torch.device('cuda:0' \\\n",
    "                      if torch.cuda.is_available() \\\n",
    "                      else 'cpu')\n",
    "device\n",
    "\n",
    "from torchvision import transforms\n",
    "\n",
    "transform = transforms.Compose([\n",
    "    transforms.ToTensor(),\n",
    "])\n",
    "\n",
    "dataset = torchvision.datasets.mnist.MNIST('/workspace/datasets/', download=True, transform=transform)\n",
    "\n",
    "# create a random split of the dataset, 80% for training and 20% for validation\n",
    "mnist, val = random_split(dataset, [int(len(dataset)*0.8), int(len(dataset)*0.2)])"
   ]
  },
  {
   "cell_type": "code",
   "execution_count": 3,
   "metadata": {},
   "outputs": [],
   "source": [
    "class Residual_MLP(nn.Module):\n",
    "    def __init__(self, input_dim, hidden_dim):\n",
    "        super().__init__()\n",
    "        self.mlp = nn.Sequential(\n",
    "            nn.Linear(input_dim, hidden_dim),\n",
    "            nn.ReLU(),\n",
    "            nn.Linear(hidden_dim, input_dim)\n",
    "        )\n",
    "    def forward(self, x):\n",
    "        return self.mlp(x) + x"
   ]
  },
  {
   "cell_type": "code",
   "execution_count": 4,
   "metadata": {},
   "outputs": [
    {
     "name": "stdout",
     "output_type": "stream",
     "text": [
      "x.shape torch.Size([1, 10])\n",
      "L(x).shape torch.Size([1, 10])\n"
     ]
    }
   ],
   "source": [
    "sample = torch.randn(1, 10)\n",
    "L = Residual_MLP(10, 100)\n",
    "print(\"x.shape\", sample.shape)\n",
    "print(\"L(x).shape\", L(sample).shape)"
   ]
  },
  {
   "cell_type": "code",
   "execution_count": 5,
   "metadata": {},
   "outputs": [
    {
     "name": "stderr",
     "output_type": "stream",
     "text": [
      "c:\\Python310\\lib\\site-packages\\torch\\nn\\modules\\lazy.py:180: UserWarning: Lazy modules are a new feature under heavy development so changes to the API or functionality can happen at any moment.\n",
      "  warnings.warn('Lazy modules are a new feature under heavy development '\n"
     ]
    }
   ],
   "source": [
    "N1 = nn.Sequential(\n",
    "    nn.Flatten(),\n",
    "    nn.LazyLinear(10),\n",
    ")"
   ]
  },
  {
   "cell_type": "code",
   "execution_count": 6,
   "metadata": {},
   "outputs": [],
   "source": [
    "def train(model, dataset, epochs):\n",
    "    optimizer = torch.optim.Adam(model.parameters())\n",
    "    loss = nn.CrossEntropyLoss()\n",
    "    dataloader = DataLoader(dataset, batch_size=128, shuffle=True)\n",
    "    model = model.to(device)\n",
    "    for epoch in trange(epochs):\n",
    "        start = time.time()\n",
    "        for (xs, targets) in tqdm(dataloader):\n",
    "            xs, targets = xs.to(device), targets.to(device)\n",
    "            ys = model(xs)\n",
    "            optimizer.zero_grad()\n",
    "            l = loss(ys, targets)\n",
    "            l.backward()\n",
    "            optimizer.step()\n",
    "            with torch.no_grad():\n",
    "                acc = (ys.argmax(axis=1) == targets).sum() / xs.shape[0]\n",
    "        duration = time.time() - start\n",
    "        print(\"[%d] acc = %.2f loss = %.4f in %.2f seconds.\" % (epoch, acc.item(), l.item(), duration))"
   ]
  },
  {
   "cell_type": "code",
   "execution_count": 7,
   "metadata": {},
   "outputs": [
    {
     "data": {
      "application/vnd.jupyter.widget-view+json": {
       "model_id": "cb0951581f5b4e2e96d82cbb12a7f277",
       "version_major": 2,
       "version_minor": 0
      },
      "text/plain": [
       "  0%|          | 0/1 [00:00<?, ?it/s]"
      ]
     },
     "metadata": {},
     "output_type": "display_data"
    },
    {
     "data": {
      "application/vnd.jupyter.widget-view+json": {
       "model_id": "9b54d93592484888b289b4d3d2e8cc37",
       "version_major": 2,
       "version_minor": 0
      },
      "text/plain": [
       "  0%|          | 0/375 [00:00<?, ?it/s]"
      ]
     },
     "metadata": {},
     "output_type": "display_data"
    },
    {
     "name": "stdout",
     "output_type": "stream",
     "text": [
      "[0] acc = 0.88 loss = 0.4785 in 13.26 seconds.\n"
     ]
    }
   ],
   "source": [
    "train(N1, mnist, 1)"
   ]
  },
  {
   "cell_type": "code",
   "execution_count": 8,
   "metadata": {},
   "outputs": [
    {
     "data": {
      "application/vnd.jupyter.widget-view+json": {
       "model_id": "0a5a41d018fc4145ad94fb5a81b783dd",
       "version_major": 2,
       "version_minor": 0
      },
      "text/plain": [
       "  0%|          | 0/1 [00:00<?, ?it/s]"
      ]
     },
     "metadata": {},
     "output_type": "display_data"
    },
    {
     "data": {
      "application/vnd.jupyter.widget-view+json": {
       "model_id": "d08c7acfa1744b64ad3a86a2193a98ba",
       "version_major": 2,
       "version_minor": 0
      },
      "text/plain": [
       "  0%|          | 0/375 [00:00<?, ?it/s]"
      ]
     },
     "metadata": {},
     "output_type": "display_data"
    },
    {
     "name": "stdout",
     "output_type": "stream",
     "text": [
      "[0] acc = 0.94 loss = 0.2226 in 6.48 seconds.\n"
     ]
    }
   ],
   "source": [
    "N2 = nn.Sequential(\n",
    "    N1,\n",
    "    Residual_MLP(10, 5),\n",
    ")\n",
    "\n",
    "train(N2, mnist, 1)"
   ]
  },
  {
   "cell_type": "code",
   "execution_count": 13,
   "metadata": {},
   "outputs": [
    {
     "data": {
      "application/vnd.jupyter.widget-view+json": {
       "model_id": "4de735a331b24032b108016ff09c8906",
       "version_major": 2,
       "version_minor": 0
      },
      "text/plain": [
       "  0%|          | 0/1 [00:00<?, ?it/s]"
      ]
     },
     "metadata": {},
     "output_type": "display_data"
    },
    {
     "data": {
      "application/vnd.jupyter.widget-view+json": {
       "model_id": "e71344700d974b67b5328fed2040e5a6",
       "version_major": 2,
       "version_minor": 0
      },
      "text/plain": [
       "  0%|          | 0/375 [00:00<?, ?it/s]"
      ]
     },
     "metadata": {},
     "output_type": "display_data"
    },
    {
     "name": "stdout",
     "output_type": "stream",
     "text": [
      "[0] acc = 0.95 loss = 0.1391 in 6.75 seconds.\n"
     ]
    }
   ],
   "source": [
    "N3 = nn.Sequential(\n",
    "    N2,\n",
    "    Residual_MLP(10, 5),\n",
    "    \n",
    ")\n",
    "train(N3, mnist, 1)"
   ]
  },
  {
   "cell_type": "code",
   "execution_count": 10,
   "metadata": {},
   "outputs": [
    {
     "data": {
      "application/vnd.jupyter.widget-view+json": {
       "model_id": "6128b084e8734875b8243bfc4a53cab0",
       "version_major": 2,
       "version_minor": 0
      },
      "text/plain": [
       "  0%|          | 0/1 [00:00<?, ?it/s]"
      ]
     },
     "metadata": {},
     "output_type": "display_data"
    },
    {
     "data": {
      "application/vnd.jupyter.widget-view+json": {
       "model_id": "a69daad48e404f8c897d940552d954fc",
       "version_major": 2,
       "version_minor": 0
      },
      "text/plain": [
       "  0%|          | 0/375 [00:00<?, ?it/s]"
      ]
     },
     "metadata": {},
     "output_type": "display_data"
    },
    {
     "name": "stdout",
     "output_type": "stream",
     "text": [
      "[0] acc = 0.90 loss = 0.3728 in 7.02 seconds.\n"
     ]
    }
   ],
   "source": [
    "N4 = nn.Sequential(\n",
    "    N3,\n",
    "    Residual_MLP(10, 5),\n",
    ")\n",
    "train(N4, mnist, 1)"
   ]
  },
  {
   "cell_type": "code",
   "execution_count": 11,
   "metadata": {},
   "outputs": [
    {
     "name": "stdout",
     "output_type": "stream",
     "text": [
      "Sequential(\n",
      "  (0): Sequential(\n",
      "    (0): Flatten(start_dim=1, end_dim=-1)\n",
      "    (1): Linear(in_features=784, out_features=10, bias=True)\n",
      "  )\n",
      "  (1): Residual_MLP(\n",
      "    (mlp): Sequential(\n",
      "      (0): Linear(in_features=10, out_features=5, bias=True)\n",
      "      (1): ReLU()\n",
      "      (2): Linear(in_features=5, out_features=10, bias=True)\n",
      "    )\n",
      "  )\n",
      ")\n"
     ]
    }
   ],
   "source": [
    "print(N2)"
   ]
  },
  {
   "cell_type": "code",
   "execution_count": 14,
   "metadata": {},
   "outputs": [
    {
     "name": "stdout",
     "output_type": "stream",
     "text": [
      "Sequential(\n",
      "  (0): Sequential(\n",
      "    (0): Sequential(\n",
      "      (0): Flatten(start_dim=1, end_dim=-1)\n",
      "      (1): Linear(in_features=784, out_features=10, bias=True)\n",
      "    )\n",
      "    (1): Residual_MLP(\n",
      "      (mlp): Sequential(\n",
      "        (0): Linear(in_features=10, out_features=5, bias=True)\n",
      "        (1): ReLU()\n",
      "        (2): Linear(in_features=5, out_features=10, bias=True)\n",
      "      )\n",
      "    )\n",
      "  )\n",
      "  (1): Residual_MLP(\n",
      "    (mlp): Sequential(\n",
      "      (0): Linear(in_features=10, out_features=5, bias=True)\n",
      "      (1): ReLU()\n",
      "      (2): Linear(in_features=5, out_features=10, bias=True)\n",
      "    )\n",
      "  )\n",
      ")\n"
     ]
    }
   ],
   "source": [
    "print(N3)"
   ]
  },
  {
   "cell_type": "code",
   "execution_count": null,
   "metadata": {},
   "outputs": [],
   "source": []
  }
 ],
 "metadata": {
  "kernelspec": {
   "display_name": "Python 3",
   "language": "python",
   "name": "python3"
  },
  "language_info": {
   "codemirror_mode": {
    "name": "ipython",
    "version": 3
   },
   "file_extension": ".py",
   "mimetype": "text/x-python",
   "name": "python",
   "nbconvert_exporter": "python",
   "pygments_lexer": "ipython3",
   "version": "3.10.8"
  },
  "orig_nbformat": 4
 },
 "nbformat": 4,
 "nbformat_minor": 2
}
